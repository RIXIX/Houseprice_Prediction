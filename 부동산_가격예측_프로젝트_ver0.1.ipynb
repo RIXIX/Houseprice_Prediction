{
  "nbformat": 4,
  "nbformat_minor": 0,
  "metadata": {
    "colab": {
      "name": "Colaboratory에_오신_것을_환영합니다 (11).ipynb",
      "provenance": [],
      "collapsed_sections": [],
      "toc_visible": true
    },
    "kernelspec": {
      "display_name": "Python 3",
      "name": "python3"
    }
  },
  "cells": [
    {
      "cell_type": "code",
      "metadata": {
        "colab": {
          "base_uri": "https://localhost:8080/"
        },
        "id": "lB46uL-OHrpd",
        "outputId": "e8f7b54d-47a2-4965-82fe-e38db8e29957"
      },
      "source": [
        "!sudo apt-get install -y fonts-nanum\n",
        "!sudo fc-cache -fv\n",
        "!rm ~/.cache/matplotlib -rf"
      ],
      "execution_count": null,
      "outputs": [
        {
          "output_type": "stream",
          "text": [
            "Reading package lists... Done\n",
            "Building dependency tree       \n",
            "Reading state information... Done\n",
            "The following NEW packages will be installed:\n",
            "  fonts-nanum\n",
            "0 upgraded, 1 newly installed, 0 to remove and 40 not upgraded.\n",
            "Need to get 9,604 kB of archives.\n",
            "After this operation, 29.5 MB of additional disk space will be used.\n",
            "Get:1 http://archive.ubuntu.com/ubuntu bionic/universe amd64 fonts-nanum all 20170925-1 [9,604 kB]\n",
            "Fetched 9,604 kB in 1s (8,522 kB/s)\n",
            "debconf: unable to initialize frontend: Dialog\n",
            "debconf: (No usable dialog-like program is installed, so the dialog based frontend cannot be used. at /usr/share/perl5/Debconf/FrontEnd/Dialog.pm line 76, <> line 1.)\n",
            "debconf: falling back to frontend: Readline\n",
            "debconf: unable to initialize frontend: Readline\n",
            "debconf: (This frontend requires a controlling tty.)\n",
            "debconf: falling back to frontend: Teletype\n",
            "dpkg-preconfigure: unable to re-open stdin: \n",
            "Selecting previously unselected package fonts-nanum.\n",
            "(Reading database ... 160837 files and directories currently installed.)\n",
            "Preparing to unpack .../fonts-nanum_20170925-1_all.deb ...\n",
            "Unpacking fonts-nanum (20170925-1) ...\n",
            "Setting up fonts-nanum (20170925-1) ...\n",
            "Processing triggers for fontconfig (2.12.6-0ubuntu2) ...\n",
            "/usr/share/fonts: caching, new cache contents: 0 fonts, 1 dirs\n",
            "/usr/share/fonts/truetype: caching, new cache contents: 0 fonts, 3 dirs\n",
            "/usr/share/fonts/truetype/humor-sans: caching, new cache contents: 1 fonts, 0 dirs\n",
            "/usr/share/fonts/truetype/liberation: caching, new cache contents: 16 fonts, 0 dirs\n",
            "/usr/share/fonts/truetype/nanum: caching, new cache contents: 10 fonts, 0 dirs\n",
            "/usr/local/share/fonts: caching, new cache contents: 0 fonts, 0 dirs\n",
            "/root/.local/share/fonts: skipping, no such directory\n",
            "/root/.fonts: skipping, no such directory\n",
            "/var/cache/fontconfig: cleaning cache directory\n",
            "/root/.cache/fontconfig: not cleaning non-existent cache directory\n",
            "/root/.fontconfig: not cleaning non-existent cache directory\n",
            "fc-cache: succeeded\n"
          ],
          "name": "stdout"
        }
      ]
    },
    {
      "cell_type": "code",
      "metadata": {
        "id": "pdFBpiMeIH_I"
      },
      "source": [
        "import matplotlib.pyplot as plt\n",
        "\n",
        "plt.rc('font', family='NanumBarunGothic') "
      ],
      "execution_count": null,
      "outputs": []
    },
    {
      "cell_type": "code",
      "metadata": {
        "id": "WiT_vnaFDsOt"
      },
      "source": [
        "import pandas as pd\n",
        "import numpy as np\n",
        "%matplotlib inline\n",
        "import matplotlib.pyplot as plt"
      ],
      "execution_count": null,
      "outputs": []
    },
    {
      "cell_type": "markdown",
      "metadata": {
        "id": "1CiV4-PtAUnk"
      },
      "source": [
        "## 데이터 탐색"
      ]
    },
    {
      "cell_type": "code",
      "metadata": {
        "colab": {
          "resources": {
            "http://localhost:8080/nbextensions/google.colab/files.js": {
              "data": "Ly8gQ29weXJpZ2h0IDIwMTcgR29vZ2xlIExMQwovLwovLyBMaWNlbnNlZCB1bmRlciB0aGUgQXBhY2hlIExpY2Vuc2UsIFZlcnNpb24gMi4wICh0aGUgIkxpY2Vuc2UiKTsKLy8geW91IG1heSBub3QgdXNlIHRoaXMgZmlsZSBleGNlcHQgaW4gY29tcGxpYW5jZSB3aXRoIHRoZSBMaWNlbnNlLgovLyBZb3UgbWF5IG9idGFpbiBhIGNvcHkgb2YgdGhlIExpY2Vuc2UgYXQKLy8KLy8gICAgICBodHRwOi8vd3d3LmFwYWNoZS5vcmcvbGljZW5zZXMvTElDRU5TRS0yLjAKLy8KLy8gVW5sZXNzIHJlcXVpcmVkIGJ5IGFwcGxpY2FibGUgbGF3IG9yIGFncmVlZCB0byBpbiB3cml0aW5nLCBzb2Z0d2FyZQovLyBkaXN0cmlidXRlZCB1bmRlciB0aGUgTGljZW5zZSBpcyBkaXN0cmlidXRlZCBvbiBhbiAiQVMgSVMiIEJBU0lTLAovLyBXSVRIT1VUIFdBUlJBTlRJRVMgT1IgQ09ORElUSU9OUyBPRiBBTlkgS0lORCwgZWl0aGVyIGV4cHJlc3Mgb3IgaW1wbGllZC4KLy8gU2VlIHRoZSBMaWNlbnNlIGZvciB0aGUgc3BlY2lmaWMgbGFuZ3VhZ2UgZ292ZXJuaW5nIHBlcm1pc3Npb25zIGFuZAovLyBsaW1pdGF0aW9ucyB1bmRlciB0aGUgTGljZW5zZS4KCi8qKgogKiBAZmlsZW92ZXJ2aWV3IEhlbHBlcnMgZm9yIGdvb2dsZS5jb2xhYiBQeXRob24gbW9kdWxlLgogKi8KKGZ1bmN0aW9uKHNjb3BlKSB7CmZ1bmN0aW9uIHNwYW4odGV4dCwgc3R5bGVBdHRyaWJ1dGVzID0ge30pIHsKICBjb25zdCBlbGVtZW50ID0gZG9jdW1lbnQuY3JlYXRlRWxlbWVudCgnc3BhbicpOwogIGVsZW1lbnQudGV4dENvbnRlbnQgPSB0ZXh0OwogIGZvciAoY29uc3Qga2V5IG9mIE9iamVjdC5rZXlzKHN0eWxlQXR0cmlidXRlcykpIHsKICAgIGVsZW1lbnQuc3R5bGVba2V5XSA9IHN0eWxlQXR0cmlidXRlc1trZXldOwogIH0KICByZXR1cm4gZWxlbWVudDsKfQoKLy8gTWF4IG51bWJlciBvZiBieXRlcyB3aGljaCB3aWxsIGJlIHVwbG9hZGVkIGF0IGEgdGltZS4KY29uc3QgTUFYX1BBWUxPQURfU0laRSA9IDEwMCAqIDEwMjQ7CgpmdW5jdGlvbiBfdXBsb2FkRmlsZXMoaW5wdXRJZCwgb3V0cHV0SWQpIHsKICBjb25zdCBzdGVwcyA9IHVwbG9hZEZpbGVzU3RlcChpbnB1dElkLCBvdXRwdXRJZCk7CiAgY29uc3Qgb3V0cHV0RWxlbWVudCA9IGRvY3VtZW50LmdldEVsZW1lbnRCeUlkKG91dHB1dElkKTsKICAvLyBDYWNoZSBzdGVwcyBvbiB0aGUgb3V0cHV0RWxlbWVudCB0byBtYWtlIGl0IGF2YWlsYWJsZSBmb3IgdGhlIG5leHQgY2FsbAogIC8vIHRvIHVwbG9hZEZpbGVzQ29udGludWUgZnJvbSBQeXRob24uCiAgb3V0cHV0RWxlbWVudC5zdGVwcyA9IHN0ZXBzOwoKICByZXR1cm4gX3VwbG9hZEZpbGVzQ29udGludWUob3V0cHV0SWQpOwp9CgovLyBUaGlzIGlzIHJvdWdobHkgYW4gYXN5bmMgZ2VuZXJhdG9yIChub3Qgc3VwcG9ydGVkIGluIHRoZSBicm93c2VyIHlldCksCi8vIHdoZXJlIHRoZXJlIGFyZSBtdWx0aXBsZSBhc3luY2hyb25vdXMgc3RlcHMgYW5kIHRoZSBQeXRob24gc2lkZSBpcyBnb2luZwovLyB0byBwb2xsIGZvciBjb21wbGV0aW9uIG9mIGVhY2ggc3RlcC4KLy8gVGhpcyB1c2VzIGEgUHJvbWlzZSB0byBibG9jayB0aGUgcHl0aG9uIHNpZGUgb24gY29tcGxldGlvbiBvZiBlYWNoIHN0ZXAsCi8vIHRoZW4gcGFzc2VzIHRoZSByZXN1bHQgb2YgdGhlIHByZXZpb3VzIHN0ZXAgYXMgdGhlIGlucHV0IHRvIHRoZSBuZXh0IHN0ZXAuCmZ1bmN0aW9uIF91cGxvYWRGaWxlc0NvbnRpbnVlKG91dHB1dElkKSB7CiAgY29uc3Qgb3V0cHV0RWxlbWVudCA9IGRvY3VtZW50LmdldEVsZW1lbnRCeUlkKG91dHB1dElkKTsKICBjb25zdCBzdGVwcyA9IG91dHB1dEVsZW1lbnQuc3RlcHM7CgogIGNvbnN0IG5leHQgPSBzdGVwcy5uZXh0KG91dHB1dEVsZW1lbnQubGFzdFByb21pc2VWYWx1ZSk7CiAgcmV0dXJuIFByb21pc2UucmVzb2x2ZShuZXh0LnZhbHVlLnByb21pc2UpLnRoZW4oKHZhbHVlKSA9PiB7CiAgICAvLyBDYWNoZSB0aGUgbGFzdCBwcm9taXNlIHZhbHVlIHRvIG1ha2UgaXQgYXZhaWxhYmxlIHRvIHRoZSBuZXh0CiAgICAvLyBzdGVwIG9mIHRoZSBnZW5lcmF0b3IuCiAgICBvdXRwdXRFbGVtZW50Lmxhc3RQcm9taXNlVmFsdWUgPSB2YWx1ZTsKICAgIHJldHVybiBuZXh0LnZhbHVlLnJlc3BvbnNlOwogIH0pOwp9CgovKioKICogR2VuZXJhdG9yIGZ1bmN0aW9uIHdoaWNoIGlzIGNhbGxlZCBiZXR3ZWVuIGVhY2ggYXN5bmMgc3RlcCBvZiB0aGUgdXBsb2FkCiAqIHByb2Nlc3MuCiAqIEBwYXJhbSB7c3RyaW5nfSBpbnB1dElkIEVsZW1lbnQgSUQgb2YgdGhlIGlucHV0IGZpbGUgcGlja2VyIGVsZW1lbnQuCiAqIEBwYXJhbSB7c3RyaW5nfSBvdXRwdXRJZCBFbGVtZW50IElEIG9mIHRoZSBvdXRwdXQgZGlzcGxheS4KICogQHJldHVybiB7IUl0ZXJhYmxlPCFPYmplY3Q+fSBJdGVyYWJsZSBvZiBuZXh0IHN0ZXBzLgogKi8KZnVuY3Rpb24qIHVwbG9hZEZpbGVzU3RlcChpbnB1dElkLCBvdXRwdXRJZCkgewogIGNvbnN0IGlucHV0RWxlbWVudCA9IGRvY3VtZW50LmdldEVsZW1lbnRCeUlkKGlucHV0SWQpOwogIGlucHV0RWxlbWVudC5kaXNhYmxlZCA9IGZhbHNlOwoKICBjb25zdCBvdXRwdXRFbGVtZW50ID0gZG9jdW1lbnQuZ2V0RWxlbWVudEJ5SWQob3V0cHV0SWQpOwogIG91dHB1dEVsZW1lbnQuaW5uZXJIVE1MID0gJyc7CgogIGNvbnN0IHBpY2tlZFByb21pc2UgPSBuZXcgUHJvbWlzZSgocmVzb2x2ZSkgPT4gewogICAgaW5wdXRFbGVtZW50LmFkZEV2ZW50TGlzdGVuZXIoJ2NoYW5nZScsIChlKSA9PiB7CiAgICAgIHJlc29sdmUoZS50YXJnZXQuZmlsZXMpOwogICAgfSk7CiAgfSk7CgogIGNvbnN0IGNhbmNlbCA9IGRvY3VtZW50LmNyZWF0ZUVsZW1lbnQoJ2J1dHRvbicpOwogIGlucHV0RWxlbWVudC5wYXJlbnRFbGVtZW50LmFwcGVuZENoaWxkKGNhbmNlbCk7CiAgY2FuY2VsLnRleHRDb250ZW50ID0gJ0NhbmNlbCB1cGxvYWQnOwogIGNvbnN0IGNhbmNlbFByb21pc2UgPSBuZXcgUHJvbWlzZSgocmVzb2x2ZSkgPT4gewogICAgY2FuY2VsLm9uY2xpY2sgPSAoKSA9PiB7CiAgICAgIHJlc29sdmUobnVsbCk7CiAgICB9OwogIH0pOwoKICAvLyBXYWl0IGZvciB0aGUgdXNlciB0byBwaWNrIHRoZSBmaWxlcy4KICBjb25zdCBmaWxlcyA9IHlpZWxkIHsKICAgIHByb21pc2U6IFByb21pc2UucmFjZShbcGlja2VkUHJvbWlzZSwgY2FuY2VsUHJvbWlzZV0pLAogICAgcmVzcG9uc2U6IHsKICAgICAgYWN0aW9uOiAnc3RhcnRpbmcnLAogICAgfQogIH07CgogIGNhbmNlbC5yZW1vdmUoKTsKCiAgLy8gRGlzYWJsZSB0aGUgaW5wdXQgZWxlbWVudCBzaW5jZSBmdXJ0aGVyIHBpY2tzIGFyZSBub3QgYWxsb3dlZC4KICBpbnB1dEVsZW1lbnQuZGlzYWJsZWQgPSB0cnVlOwoKICBpZiAoIWZpbGVzKSB7CiAgICByZXR1cm4gewogICAgICByZXNwb25zZTogewogICAgICAgIGFjdGlvbjogJ2NvbXBsZXRlJywKICAgICAgfQogICAgfTsKICB9CgogIGZvciAoY29uc3QgZmlsZSBvZiBmaWxlcykgewogICAgY29uc3QgbGkgPSBkb2N1bWVudC5jcmVhdGVFbGVtZW50KCdsaScpOwogICAgbGkuYXBwZW5kKHNwYW4oZmlsZS5uYW1lLCB7Zm9udFdlaWdodDogJ2JvbGQnfSkpOwogICAgbGkuYXBwZW5kKHNwYW4oCiAgICAgICAgYCgke2ZpbGUudHlwZSB8fCAnbi9hJ30pIC0gJHtmaWxlLnNpemV9IGJ5dGVzLCBgICsKICAgICAgICBgbGFzdCBtb2RpZmllZDogJHsKICAgICAgICAgICAgZmlsZS5sYXN0TW9kaWZpZWREYXRlID8gZmlsZS5sYXN0TW9kaWZpZWREYXRlLnRvTG9jYWxlRGF0ZVN0cmluZygpIDoKICAgICAgICAgICAgICAgICAgICAgICAgICAgICAgICAgICAgJ24vYSd9IC0gYCkpOwogICAgY29uc3QgcGVyY2VudCA9IHNwYW4oJzAlIGRvbmUnKTsKICAgIGxpLmFwcGVuZENoaWxkKHBlcmNlbnQpOwoKICAgIG91dHB1dEVsZW1lbnQuYXBwZW5kQ2hpbGQobGkpOwoKICAgIGNvbnN0IGZpbGVEYXRhUHJvbWlzZSA9IG5ldyBQcm9taXNlKChyZXNvbHZlKSA9PiB7CiAgICAgIGNvbnN0IHJlYWRlciA9IG5ldyBGaWxlUmVhZGVyKCk7CiAgICAgIHJlYWRlci5vbmxvYWQgPSAoZSkgPT4gewogICAgICAgIHJlc29sdmUoZS50YXJnZXQucmVzdWx0KTsKICAgICAgfTsKICAgICAgcmVhZGVyLnJlYWRBc0FycmF5QnVmZmVyKGZpbGUpOwogICAgfSk7CiAgICAvLyBXYWl0IGZvciB0aGUgZGF0YSB0byBiZSByZWFkeS4KICAgIGxldCBmaWxlRGF0YSA9IHlpZWxkIHsKICAgICAgcHJvbWlzZTogZmlsZURhdGFQcm9taXNlLAogICAgICByZXNwb25zZTogewogICAgICAgIGFjdGlvbjogJ2NvbnRpbnVlJywKICAgICAgfQogICAgfTsKCiAgICAvLyBVc2UgYSBjaHVua2VkIHNlbmRpbmcgdG8gYXZvaWQgbWVzc2FnZSBzaXplIGxpbWl0cy4gU2VlIGIvNjIxMTU2NjAuCiAgICBsZXQgcG9zaXRpb24gPSAwOwogICAgZG8gewogICAgICBjb25zdCBsZW5ndGggPSBNYXRoLm1pbihmaWxlRGF0YS5ieXRlTGVuZ3RoIC0gcG9zaXRpb24sIE1BWF9QQVlMT0FEX1NJWkUpOwogICAgICBjb25zdCBjaHVuayA9IG5ldyBVaW50OEFycmF5KGZpbGVEYXRhLCBwb3NpdGlvbiwgbGVuZ3RoKTsKICAgICAgcG9zaXRpb24gKz0gbGVuZ3RoOwoKICAgICAgY29uc3QgYmFzZTY0ID0gYnRvYShTdHJpbmcuZnJvbUNoYXJDb2RlLmFwcGx5KG51bGwsIGNodW5rKSk7CiAgICAgIHlpZWxkIHsKICAgICAgICByZXNwb25zZTogewogICAgICAgICAgYWN0aW9uOiAnYXBwZW5kJywKICAgICAgICAgIGZpbGU6IGZpbGUubmFtZSwKICAgICAgICAgIGRhdGE6IGJhc2U2NCwKICAgICAgICB9LAogICAgICB9OwoKICAgICAgbGV0IHBlcmNlbnREb25lID0gZmlsZURhdGEuYnl0ZUxlbmd0aCA9PT0gMCA/CiAgICAgICAgICAxMDAgOgogICAgICAgICAgTWF0aC5yb3VuZCgocG9zaXRpb24gLyBmaWxlRGF0YS5ieXRlTGVuZ3RoKSAqIDEwMCk7CiAgICAgIHBlcmNlbnQudGV4dENvbnRlbnQgPSBgJHtwZXJjZW50RG9uZX0lIGRvbmVgOwoKICAgIH0gd2hpbGUgKHBvc2l0aW9uIDwgZmlsZURhdGEuYnl0ZUxlbmd0aCk7CiAgfQoKICAvLyBBbGwgZG9uZS4KICB5aWVsZCB7CiAgICByZXNwb25zZTogewogICAgICBhY3Rpb246ICdjb21wbGV0ZScsCiAgICB9CiAgfTsKfQoKc2NvcGUuZ29vZ2xlID0gc2NvcGUuZ29vZ2xlIHx8IHt9OwpzY29wZS5nb29nbGUuY29sYWIgPSBzY29wZS5nb29nbGUuY29sYWIgfHwge307CnNjb3BlLmdvb2dsZS5jb2xhYi5fZmlsZXMgPSB7CiAgX3VwbG9hZEZpbGVzLAogIF91cGxvYWRGaWxlc0NvbnRpbnVlLAp9Owp9KShzZWxmKTsK",
              "ok": true,
              "headers": [
                [
                  "content-type",
                  "application/javascript"
                ]
              ],
              "status": 200,
              "status_text": ""
            }
          },
          "base_uri": "https://localhost:8080/",
          "height": 73
        },
        "id": "ou1bkctgDuAE",
        "outputId": "6a6611be-37d9-4991-a5f9-6875fbe97ee3"
      },
      "source": [
        "from google.colab import files\n",
        "uploaded = files.upload() "
      ],
      "execution_count": null,
      "outputs": [
        {
          "output_type": "display_data",
          "data": {
            "text/html": [
              "\n",
              "     <input type=\"file\" id=\"files-30b05dd3-4148-46da-962e-900ca5c7af44\" name=\"files[]\" multiple disabled\n",
              "        style=\"border:none\" />\n",
              "     <output id=\"result-30b05dd3-4148-46da-962e-900ca5c7af44\">\n",
              "      Upload widget is only available when the cell has been executed in the\n",
              "      current browser session. Please rerun this cell to enable.\n",
              "      </output>\n",
              "      <script src=\"/nbextensions/google.colab/files.js\"></script> "
            ],
            "text/plain": [
              "<IPython.core.display.HTML object>"
            ]
          },
          "metadata": {
            "tags": []
          }
        },
        {
          "output_type": "stream",
          "text": [
            "Saving 202004_날짜제거_원본2_통화량단위_주담대.csv to 202004_날짜제거_원본2_통화량단위_주담대 (1).csv\n"
          ],
          "name": "stdout"
        }
      ]
    },
    {
      "cell_type": "code",
      "metadata": {
        "id": "RihjJy6ptGKx"
      },
      "source": [
        "df = pd.read_csv(\"202004_날짜제거_원본2_통화량단위_주담대.csv\",parse_dates =[\"DATE\"], index_col =\"DATE\", encoding='euc-kr')\n",
        "df.rename(columns={'쥬택인허가실적(전국)':'주택인허가실적(전국)'},inplace=True)"
      ],
      "execution_count": null,
      "outputs": []
    },
    {
      "cell_type": "code",
      "metadata": {
        "colab": {
          "base_uri": "https://localhost:8080/",
          "height": 785
        },
        "id": "bqyRc5j-wI1s",
        "outputId": "7975fbf1-9f12-4726-a3c1-c3a4b4681ea6"
      },
      "source": [
        "df"
      ],
      "execution_count": null,
      "outputs": [
        {
          "output_type": "execute_result",
          "data": {
            "text/html": [
              "<div>\n",
              "<style scoped>\n",
              "    .dataframe tbody tr th:only-of-type {\n",
              "        vertical-align: middle;\n",
              "    }\n",
              "\n",
              "    .dataframe tbody tr th {\n",
              "        vertical-align: top;\n",
              "    }\n",
              "\n",
              "    .dataframe thead th {\n",
              "        text-align: right;\n",
              "    }\n",
              "</style>\n",
              "<table border=\"1\" class=\"dataframe\">\n",
              "  <thead>\n",
              "    <tr style=\"text-align: right;\">\n",
              "      <th></th>\n",
              "      <th>월별_google_trend</th>\n",
              "      <th>전국지가지수</th>\n",
              "      <th>월별_정기예금금리</th>\n",
              "      <th>월별_소비자물가지수</th>\n",
              "      <th>월별_통화량(M2(평잔, 계절조정계열))</th>\n",
              "      <th>월별_환율</th>\n",
              "      <th>월별 아파트 매매현황(동호수)전국</th>\n",
              "      <th>월별 아파트 매매현황(동호수)서울</th>\n",
              "      <th>월별 아파트 매매현황(동호수)부산</th>\n",
              "      <th>월별 아파트 매매현황(동호수)대구</th>\n",
              "      <th>월별 아파트 매매현황(동호수)인천</th>\n",
              "      <th>월별 아파트 매매현황(동호수)광주</th>\n",
              "      <th>월별 아파트 매매현황(동호수)대전</th>\n",
              "      <th>월별 아파트 매매현황(동호수)울산</th>\n",
              "      <th>월별 아파트 매매현황(동호수)경기</th>\n",
              "      <th>월별 아파트 매매현황(동호수)강원</th>\n",
              "      <th>월별 아파트 매매현황(동호수)충북</th>\n",
              "      <th>월별 아파트 매매현황(동호수)충남</th>\n",
              "      <th>월별 아파트 매매현황(동호수)전북</th>\n",
              "      <th>월별 아파트 매매현황(동호수)전남</th>\n",
              "      <th>월별 아파트 매매현황(동호수)경북</th>\n",
              "      <th>월별 아파트 매매현황(동호수)경남</th>\n",
              "      <th>월별 아파트 매매현황(동호수)제주</th>\n",
              "      <th>주택인허가실적(전국)</th>\n",
              "      <th>전국_아파트매매가격</th>\n",
              "      <th>수도권_아파트매매가격</th>\n",
              "      <th>지방_아파트매매가격</th>\n",
              "      <th>서울_아파트매매가격</th>\n",
              "      <th>부산_아파트매매가격</th>\n",
              "      <th>대구_아파트매매가격</th>\n",
              "      <th>인천_아파트매매가격</th>\n",
              "      <th>광주_아파트매매가격</th>\n",
              "      <th>대전_아파트매매가격</th>\n",
              "      <th>울산_아파트매매가격</th>\n",
              "      <th>경기_아파트매매가격</th>\n",
              "      <th>강원_아파트매매가격</th>\n",
              "      <th>충북_아파트매매가격</th>\n",
              "      <th>충남_아파트매매가격</th>\n",
              "      <th>전북_아파트매매가격</th>\n",
              "      <th>전남_아파트매매가격</th>\n",
              "      <th>경북_아파트매매가격</th>\n",
              "      <th>경남_아파트매매가격</th>\n",
              "      <th>제주_아파트매매가격</th>\n",
              "      <th>지가지수_전국</th>\n",
              "      <th>지가지수_서울</th>\n",
              "      <th>지가지수_부산</th>\n",
              "      <th>지가지수_대구</th>\n",
              "      <th>지가지수_인천</th>\n",
              "      <th>지가지수_광주</th>\n",
              "      <th>지가지수_대전</th>\n",
              "      <th>지가지수_울산</th>\n",
              "      <th>지가지수_경기</th>\n",
              "      <th>지가지수_강원</th>\n",
              "      <th>지가지수_충북</th>\n",
              "      <th>지가지수_충남</th>\n",
              "      <th>지가지수_전북</th>\n",
              "      <th>지가지수_전남</th>\n",
              "      <th>지가지수_경북</th>\n",
              "      <th>지가지수_경남</th>\n",
              "      <th>지가지수_제주</th>\n",
              "      <th>주택담보대출금리</th>\n",
              "    </tr>\n",
              "    <tr>\n",
              "      <th>DATE</th>\n",
              "      <th></th>\n",
              "      <th></th>\n",
              "      <th></th>\n",
              "      <th></th>\n",
              "      <th></th>\n",
              "      <th></th>\n",
              "      <th></th>\n",
              "      <th></th>\n",
              "      <th></th>\n",
              "      <th></th>\n",
              "      <th></th>\n",
              "      <th></th>\n",
              "      <th></th>\n",
              "      <th></th>\n",
              "      <th></th>\n",
              "      <th></th>\n",
              "      <th></th>\n",
              "      <th></th>\n",
              "      <th></th>\n",
              "      <th></th>\n",
              "      <th></th>\n",
              "      <th></th>\n",
              "      <th></th>\n",
              "      <th></th>\n",
              "      <th></th>\n",
              "      <th></th>\n",
              "      <th></th>\n",
              "      <th></th>\n",
              "      <th></th>\n",
              "      <th></th>\n",
              "      <th></th>\n",
              "      <th></th>\n",
              "      <th></th>\n",
              "      <th></th>\n",
              "      <th></th>\n",
              "      <th></th>\n",
              "      <th></th>\n",
              "      <th></th>\n",
              "      <th></th>\n",
              "      <th></th>\n",
              "      <th></th>\n",
              "      <th></th>\n",
              "      <th></th>\n",
              "      <th></th>\n",
              "      <th></th>\n",
              "      <th></th>\n",
              "      <th></th>\n",
              "      <th></th>\n",
              "      <th></th>\n",
              "      <th></th>\n",
              "      <th></th>\n",
              "      <th></th>\n",
              "      <th></th>\n",
              "      <th></th>\n",
              "      <th></th>\n",
              "      <th></th>\n",
              "      <th></th>\n",
              "      <th></th>\n",
              "      <th></th>\n",
              "      <th></th>\n",
              "      <th></th>\n",
              "    </tr>\n",
              "  </thead>\n",
              "  <tbody>\n",
              "    <tr>\n",
              "      <th>2007-01-01</th>\n",
              "      <td>81</td>\n",
              "      <td>74.210</td>\n",
              "      <td>4.61</td>\n",
              "      <td>80.640</td>\n",
              "      <td>1144712.0</td>\n",
              "      <td>940.9</td>\n",
              "      <td>47426</td>\n",
              "      <td>6353</td>\n",
              "      <td>3267</td>\n",
              "      <td>2440</td>\n",
              "      <td>3231</td>\n",
              "      <td>2469</td>\n",
              "      <td>1367</td>\n",
              "      <td>1336</td>\n",
              "      <td>13104</td>\n",
              "      <td>1282</td>\n",
              "      <td>1331</td>\n",
              "      <td>1857</td>\n",
              "      <td>2021</td>\n",
              "      <td>1077</td>\n",
              "      <td>2756</td>\n",
              "      <td>2981</td>\n",
              "      <td>554</td>\n",
              "      <td>12038</td>\n",
              "      <td>202.6</td>\n",
              "      <td>281.4</td>\n",
              "      <td>131.9</td>\n",
              "      <td>398.9</td>\n",
              "      <td>155.0</td>\n",
              "      <td>166.1</td>\n",
              "      <td>192.3</td>\n",
              "      <td>117.4</td>\n",
              "      <td>161.1</td>\n",
              "      <td>170.6</td>\n",
              "      <td>250.4</td>\n",
              "      <td>99.3</td>\n",
              "      <td>120.1</td>\n",
              "      <td>129.9</td>\n",
              "      <td>100.9</td>\n",
              "      <td>84.2</td>\n",
              "      <td>103.3</td>\n",
              "      <td>135.6</td>\n",
              "      <td>122.8</td>\n",
              "      <td>74.210</td>\n",
              "      <td>70.295</td>\n",
              "      <td>70.455</td>\n",
              "      <td>70.325</td>\n",
              "      <td>74.763</td>\n",
              "      <td>76.398</td>\n",
              "      <td>75.765</td>\n",
              "      <td>80.718</td>\n",
              "      <td>74.623</td>\n",
              "      <td>77.159</td>\n",
              "      <td>82.478</td>\n",
              "      <td>83.275</td>\n",
              "      <td>79.441</td>\n",
              "      <td>76.327</td>\n",
              "      <td>78.845</td>\n",
              "      <td>80.852</td>\n",
              "      <td>72.663</td>\n",
              "      <td>6.11</td>\n",
              "    </tr>\n",
              "    <tr>\n",
              "      <th>2007-02-01</th>\n",
              "      <td>63</td>\n",
              "      <td>74.446</td>\n",
              "      <td>4.76</td>\n",
              "      <td>81.189</td>\n",
              "      <td>1153966.8</td>\n",
              "      <td>938.3</td>\n",
              "      <td>40276</td>\n",
              "      <td>4403</td>\n",
              "      <td>2757</td>\n",
              "      <td>1563</td>\n",
              "      <td>2988</td>\n",
              "      <td>2070</td>\n",
              "      <td>1153</td>\n",
              "      <td>1147</td>\n",
              "      <td>10670</td>\n",
              "      <td>1079</td>\n",
              "      <td>1754</td>\n",
              "      <td>1577</td>\n",
              "      <td>2223</td>\n",
              "      <td>1547</td>\n",
              "      <td>2039</td>\n",
              "      <td>2981</td>\n",
              "      <td>325</td>\n",
              "      <td>17751</td>\n",
              "      <td>200.6</td>\n",
              "      <td>286.0</td>\n",
              "      <td>129.5</td>\n",
              "      <td>414.7</td>\n",
              "      <td>156.0</td>\n",
              "      <td>163.0</td>\n",
              "      <td>194.4</td>\n",
              "      <td>117.6</td>\n",
              "      <td>156.5</td>\n",
              "      <td>163.6</td>\n",
              "      <td>251.5</td>\n",
              "      <td>100.4</td>\n",
              "      <td>121.5</td>\n",
              "      <td>129.3</td>\n",
              "      <td>99.4</td>\n",
              "      <td>83.4</td>\n",
              "      <td>106.4</td>\n",
              "      <td>131.6</td>\n",
              "      <td>121.6</td>\n",
              "      <td>74.446</td>\n",
              "      <td>70.620</td>\n",
              "      <td>70.590</td>\n",
              "      <td>70.533</td>\n",
              "      <td>75.046</td>\n",
              "      <td>76.434</td>\n",
              "      <td>75.913</td>\n",
              "      <td>80.980</td>\n",
              "      <td>74.887</td>\n",
              "      <td>77.260</td>\n",
              "      <td>82.566</td>\n",
              "      <td>83.403</td>\n",
              "      <td>79.535</td>\n",
              "      <td>76.390</td>\n",
              "      <td>78.958</td>\n",
              "      <td>80.982</td>\n",
              "      <td>72.765</td>\n",
              "      <td>6.18</td>\n",
              "    </tr>\n",
              "    <tr>\n",
              "      <th>2007-03-01</th>\n",
              "      <td>56</td>\n",
              "      <td>74.658</td>\n",
              "      <td>4.72</td>\n",
              "      <td>81.660</td>\n",
              "      <td>1159543.2</td>\n",
              "      <td>940.3</td>\n",
              "      <td>45822</td>\n",
              "      <td>5597</td>\n",
              "      <td>3539</td>\n",
              "      <td>1727</td>\n",
              "      <td>3662</td>\n",
              "      <td>2134</td>\n",
              "      <td>1227</td>\n",
              "      <td>1294</td>\n",
              "      <td>11552</td>\n",
              "      <td>1966</td>\n",
              "      <td>2186</td>\n",
              "      <td>1955</td>\n",
              "      <td>1892</td>\n",
              "      <td>1317</td>\n",
              "      <td>2575</td>\n",
              "      <td>2983</td>\n",
              "      <td>216</td>\n",
              "      <td>20038</td>\n",
              "      <td>207.4</td>\n",
              "      <td>288.0</td>\n",
              "      <td>129.1</td>\n",
              "      <td>410.2</td>\n",
              "      <td>156.7</td>\n",
              "      <td>162.7</td>\n",
              "      <td>193.2</td>\n",
              "      <td>115.1</td>\n",
              "      <td>155.8</td>\n",
              "      <td>161.7</td>\n",
              "      <td>252.8</td>\n",
              "      <td>97.7</td>\n",
              "      <td>117.6</td>\n",
              "      <td>127.8</td>\n",
              "      <td>96.7</td>\n",
              "      <td>82.0</td>\n",
              "      <td>104.4</td>\n",
              "      <td>129.7</td>\n",
              "      <td>120.1</td>\n",
              "      <td>74.658</td>\n",
              "      <td>70.903</td>\n",
              "      <td>70.726</td>\n",
              "      <td>70.721</td>\n",
              "      <td>75.350</td>\n",
              "      <td>76.466</td>\n",
              "      <td>76.044</td>\n",
              "      <td>81.129</td>\n",
              "      <td>75.122</td>\n",
              "      <td>77.361</td>\n",
              "      <td>82.670</td>\n",
              "      <td>83.521</td>\n",
              "      <td>79.607</td>\n",
              "      <td>76.451</td>\n",
              "      <td>79.074</td>\n",
              "      <td>81.110</td>\n",
              "      <td>72.840</td>\n",
              "      <td>6.20</td>\n",
              "    </tr>\n",
              "    <tr>\n",
              "      <th>2007-04-01</th>\n",
              "      <td>50</td>\n",
              "      <td>74.853</td>\n",
              "      <td>4.83</td>\n",
              "      <td>81.973</td>\n",
              "      <td>1167386.8</td>\n",
              "      <td>929.4</td>\n",
              "      <td>46857</td>\n",
              "      <td>5948</td>\n",
              "      <td>4245</td>\n",
              "      <td>1633</td>\n",
              "      <td>3838</td>\n",
              "      <td>2245</td>\n",
              "      <td>1199</td>\n",
              "      <td>1180</td>\n",
              "      <td>11618</td>\n",
              "      <td>1453</td>\n",
              "      <td>1641</td>\n",
              "      <td>2500</td>\n",
              "      <td>2257</td>\n",
              "      <td>1247</td>\n",
              "      <td>2201</td>\n",
              "      <td>3481</td>\n",
              "      <td>171</td>\n",
              "      <td>19186</td>\n",
              "      <td>209.1</td>\n",
              "      <td>292.0</td>\n",
              "      <td>129.5</td>\n",
              "      <td>421.8</td>\n",
              "      <td>151.7</td>\n",
              "      <td>162.1</td>\n",
              "      <td>201.8</td>\n",
              "      <td>115.7</td>\n",
              "      <td>164.5</td>\n",
              "      <td>169.1</td>\n",
              "      <td>259.5</td>\n",
              "      <td>98.1</td>\n",
              "      <td>117.4</td>\n",
              "      <td>128.1</td>\n",
              "      <td>97.0</td>\n",
              "      <td>80.5</td>\n",
              "      <td>104.8</td>\n",
              "      <td>129.6</td>\n",
              "      <td>124.7</td>\n",
              "      <td>74.853</td>\n",
              "      <td>71.149</td>\n",
              "      <td>70.858</td>\n",
              "      <td>70.913</td>\n",
              "      <td>75.666</td>\n",
              "      <td>76.525</td>\n",
              "      <td>76.155</td>\n",
              "      <td>81.291</td>\n",
              "      <td>75.340</td>\n",
              "      <td>77.466</td>\n",
              "      <td>82.761</td>\n",
              "      <td>83.641</td>\n",
              "      <td>79.676</td>\n",
              "      <td>76.507</td>\n",
              "      <td>79.189</td>\n",
              "      <td>81.228</td>\n",
              "      <td>72.893</td>\n",
              "      <td>6.13</td>\n",
              "    </tr>\n",
              "    <tr>\n",
              "      <th>2007-05-01</th>\n",
              "      <td>39</td>\n",
              "      <td>75.048</td>\n",
              "      <td>4.78</td>\n",
              "      <td>82.052</td>\n",
              "      <td>1171924.9</td>\n",
              "      <td>929.9</td>\n",
              "      <td>43712</td>\n",
              "      <td>4743</td>\n",
              "      <td>3391</td>\n",
              "      <td>1509</td>\n",
              "      <td>4135</td>\n",
              "      <td>3569</td>\n",
              "      <td>1133</td>\n",
              "      <td>1021</td>\n",
              "      <td>10636</td>\n",
              "      <td>1207</td>\n",
              "      <td>1274</td>\n",
              "      <td>1814</td>\n",
              "      <td>1783</td>\n",
              "      <td>1088</td>\n",
              "      <td>2806</td>\n",
              "      <td>2923</td>\n",
              "      <td>680</td>\n",
              "      <td>30593</td>\n",
              "      <td>213.3</td>\n",
              "      <td>305.1</td>\n",
              "      <td>126.1</td>\n",
              "      <td>465.0</td>\n",
              "      <td>149.6</td>\n",
              "      <td>162.4</td>\n",
              "      <td>207.0</td>\n",
              "      <td>113.9</td>\n",
              "      <td>153.4</td>\n",
              "      <td>155.8</td>\n",
              "      <td>271.2</td>\n",
              "      <td>96.8</td>\n",
              "      <td>112.0</td>\n",
              "      <td>127.9</td>\n",
              "      <td>95.0</td>\n",
              "      <td>78.2</td>\n",
              "      <td>102.5</td>\n",
              "      <td>126.7</td>\n",
              "      <td>137.0</td>\n",
              "      <td>75.048</td>\n",
              "      <td>71.393</td>\n",
              "      <td>70.992</td>\n",
              "      <td>71.100</td>\n",
              "      <td>75.977</td>\n",
              "      <td>76.580</td>\n",
              "      <td>76.267</td>\n",
              "      <td>81.485</td>\n",
              "      <td>75.567</td>\n",
              "      <td>77.575</td>\n",
              "      <td>82.851</td>\n",
              "      <td>83.752</td>\n",
              "      <td>79.755</td>\n",
              "      <td>76.561</td>\n",
              "      <td>79.300</td>\n",
              "      <td>81.347</td>\n",
              "      <td>72.956</td>\n",
              "      <td>6.17</td>\n",
              "    </tr>\n",
              "    <tr>\n",
              "      <th>...</th>\n",
              "      <td>...</td>\n",
              "      <td>...</td>\n",
              "      <td>...</td>\n",
              "      <td>...</td>\n",
              "      <td>...</td>\n",
              "      <td>...</td>\n",
              "      <td>...</td>\n",
              "      <td>...</td>\n",
              "      <td>...</td>\n",
              "      <td>...</td>\n",
              "      <td>...</td>\n",
              "      <td>...</td>\n",
              "      <td>...</td>\n",
              "      <td>...</td>\n",
              "      <td>...</td>\n",
              "      <td>...</td>\n",
              "      <td>...</td>\n",
              "      <td>...</td>\n",
              "      <td>...</td>\n",
              "      <td>...</td>\n",
              "      <td>...</td>\n",
              "      <td>...</td>\n",
              "      <td>...</td>\n",
              "      <td>...</td>\n",
              "      <td>...</td>\n",
              "      <td>...</td>\n",
              "      <td>...</td>\n",
              "      <td>...</td>\n",
              "      <td>...</td>\n",
              "      <td>...</td>\n",
              "      <td>...</td>\n",
              "      <td>...</td>\n",
              "      <td>...</td>\n",
              "      <td>...</td>\n",
              "      <td>...</td>\n",
              "      <td>...</td>\n",
              "      <td>...</td>\n",
              "      <td>...</td>\n",
              "      <td>...</td>\n",
              "      <td>...</td>\n",
              "      <td>...</td>\n",
              "      <td>...</td>\n",
              "      <td>...</td>\n",
              "      <td>...</td>\n",
              "      <td>...</td>\n",
              "      <td>...</td>\n",
              "      <td>...</td>\n",
              "      <td>...</td>\n",
              "      <td>...</td>\n",
              "      <td>...</td>\n",
              "      <td>...</td>\n",
              "      <td>...</td>\n",
              "      <td>...</td>\n",
              "      <td>...</td>\n",
              "      <td>...</td>\n",
              "      <td>...</td>\n",
              "      <td>...</td>\n",
              "      <td>...</td>\n",
              "      <td>...</td>\n",
              "      <td>...</td>\n",
              "      <td>...</td>\n",
              "    </tr>\n",
              "    <tr>\n",
              "      <th>2020-12-01</th>\n",
              "      <td>37</td>\n",
              "      <td>101.268</td>\n",
              "      <td>0.89</td>\n",
              "      <td>105.670</td>\n",
              "      <td>3191519.6</td>\n",
              "      <td>1088.0</td>\n",
              "      <td>106027</td>\n",
              "      <td>8764</td>\n",
              "      <td>9006</td>\n",
              "      <td>6359</td>\n",
              "      <td>5381</td>\n",
              "      <td>4467</td>\n",
              "      <td>2701</td>\n",
              "      <td>3534</td>\n",
              "      <td>30495</td>\n",
              "      <td>3388</td>\n",
              "      <td>3397</td>\n",
              "      <td>5254</td>\n",
              "      <td>3936</td>\n",
              "      <td>2506</td>\n",
              "      <td>6304</td>\n",
              "      <td>8682</td>\n",
              "      <td>733</td>\n",
              "      <td>96803</td>\n",
              "      <td>491.3</td>\n",
              "      <td>720.6</td>\n",
              "      <td>304.7</td>\n",
              "      <td>1351.5</td>\n",
              "      <td>350.8</td>\n",
              "      <td>389.8</td>\n",
              "      <td>465.7</td>\n",
              "      <td>345.2</td>\n",
              "      <td>422.4</td>\n",
              "      <td>331.1</td>\n",
              "      <td>579.9</td>\n",
              "      <td>240.4</td>\n",
              "      <td>251.3</td>\n",
              "      <td>292.8</td>\n",
              "      <td>224.5</td>\n",
              "      <td>232.2</td>\n",
              "      <td>228.7</td>\n",
              "      <td>275.5</td>\n",
              "      <td>405.3</td>\n",
              "      <td>101.268</td>\n",
              "      <td>101.624</td>\n",
              "      <td>101.546</td>\n",
              "      <td>101.262</td>\n",
              "      <td>101.159</td>\n",
              "      <td>101.301</td>\n",
              "      <td>101.566</td>\n",
              "      <td>100.663</td>\n",
              "      <td>101.263</td>\n",
              "      <td>100.832</td>\n",
              "      <td>100.994</td>\n",
              "      <td>100.866</td>\n",
              "      <td>100.819</td>\n",
              "      <td>101.125</td>\n",
              "      <td>100.753</td>\n",
              "      <td>100.320</td>\n",
              "      <td>99.760</td>\n",
              "      <td>2.59</td>\n",
              "    </tr>\n",
              "    <tr>\n",
              "      <th>2021-01-01</th>\n",
              "      <td>41</td>\n",
              "      <td>101.583</td>\n",
              "      <td>0.85</td>\n",
              "      <td>106.470</td>\n",
              "      <td>3232659.8</td>\n",
              "      <td>1114.6</td>\n",
              "      <td>64371</td>\n",
              "      <td>5945</td>\n",
              "      <td>3136</td>\n",
              "      <td>2099</td>\n",
              "      <td>4528</td>\n",
              "      <td>2024</td>\n",
              "      <td>1954</td>\n",
              "      <td>1258</td>\n",
              "      <td>20938</td>\n",
              "      <td>2450</td>\n",
              "      <td>2804</td>\n",
              "      <td>3071</td>\n",
              "      <td>2266</td>\n",
              "      <td>2290</td>\n",
              "      <td>3614</td>\n",
              "      <td>4650</td>\n",
              "      <td>467</td>\n",
              "      <td>26183</td>\n",
              "      <td>490.9</td>\n",
              "      <td>693.8</td>\n",
              "      <td>284.9</td>\n",
              "      <td>1335.1</td>\n",
              "      <td>378.6</td>\n",
              "      <td>363.9</td>\n",
              "      <td>446.6</td>\n",
              "      <td>306.4</td>\n",
              "      <td>419.0</td>\n",
              "      <td>312.8</td>\n",
              "      <td>564.6</td>\n",
              "      <td>239.5</td>\n",
              "      <td>248.4</td>\n",
              "      <td>246.8</td>\n",
              "      <td>199.6</td>\n",
              "      <td>214.6</td>\n",
              "      <td>213.1</td>\n",
              "      <td>258.7</td>\n",
              "      <td>394.3</td>\n",
              "      <td>101.583</td>\n",
              "      <td>102.039</td>\n",
              "      <td>101.831</td>\n",
              "      <td>101.608</td>\n",
              "      <td>101.459</td>\n",
              "      <td>101.610</td>\n",
              "      <td>101.958</td>\n",
              "      <td>100.848</td>\n",
              "      <td>101.575</td>\n",
              "      <td>101.053</td>\n",
              "      <td>101.243</td>\n",
              "      <td>101.073</td>\n",
              "      <td>101.017</td>\n",
              "      <td>101.423</td>\n",
              "      <td>100.937</td>\n",
              "      <td>100.441</td>\n",
              "      <td>99.748</td>\n",
              "      <td>2.63</td>\n",
              "    </tr>\n",
              "    <tr>\n",
              "      <th>2021-02-01</th>\n",
              "      <td>37</td>\n",
              "      <td>101.899</td>\n",
              "      <td>0.83</td>\n",
              "      <td>107.000</td>\n",
              "      <td>3274417.0</td>\n",
              "      <td>1108.4</td>\n",
              "      <td>60057</td>\n",
              "      <td>5435</td>\n",
              "      <td>3098</td>\n",
              "      <td>2104</td>\n",
              "      <td>4926</td>\n",
              "      <td>1780</td>\n",
              "      <td>1696</td>\n",
              "      <td>1193</td>\n",
              "      <td>19894</td>\n",
              "      <td>2334</td>\n",
              "      <td>2739</td>\n",
              "      <td>2933</td>\n",
              "      <td>2426</td>\n",
              "      <td>1651</td>\n",
              "      <td>3184</td>\n",
              "      <td>3741</td>\n",
              "      <td>452</td>\n",
              "      <td>33647</td>\n",
              "      <td>459.8</td>\n",
              "      <td>646.5</td>\n",
              "      <td>286.8</td>\n",
              "      <td>1309.5</td>\n",
              "      <td>391.4</td>\n",
              "      <td>380.5</td>\n",
              "      <td>437.2</td>\n",
              "      <td>321.4</td>\n",
              "      <td>416.1</td>\n",
              "      <td>308.4</td>\n",
              "      <td>547.2</td>\n",
              "      <td>230.5</td>\n",
              "      <td>247.0</td>\n",
              "      <td>240.2</td>\n",
              "      <td>200.2</td>\n",
              "      <td>213.4</td>\n",
              "      <td>215.5</td>\n",
              "      <td>255.5</td>\n",
              "      <td>414.3</td>\n",
              "      <td>101.899</td>\n",
              "      <td>102.466</td>\n",
              "      <td>102.125</td>\n",
              "      <td>101.934</td>\n",
              "      <td>101.747</td>\n",
              "      <td>101.849</td>\n",
              "      <td>102.328</td>\n",
              "      <td>101.027</td>\n",
              "      <td>101.893</td>\n",
              "      <td>101.268</td>\n",
              "      <td>101.486</td>\n",
              "      <td>101.280</td>\n",
              "      <td>101.225</td>\n",
              "      <td>101.712</td>\n",
              "      <td>101.125</td>\n",
              "      <td>100.551</td>\n",
              "      <td>99.738</td>\n",
              "      <td>2.66</td>\n",
              "    </tr>\n",
              "    <tr>\n",
              "      <th>2021-03-01</th>\n",
              "      <td>37</td>\n",
              "      <td>102.243</td>\n",
              "      <td>0.83</td>\n",
              "      <td>107.160</td>\n",
              "      <td>3313090.6</td>\n",
              "      <td>1133.5</td>\n",
              "      <td>69827</td>\n",
              "      <td>4495</td>\n",
              "      <td>4199</td>\n",
              "      <td>2170</td>\n",
              "      <td>6475</td>\n",
              "      <td>2742</td>\n",
              "      <td>1991</td>\n",
              "      <td>1357</td>\n",
              "      <td>19832</td>\n",
              "      <td>2759</td>\n",
              "      <td>3532</td>\n",
              "      <td>4988</td>\n",
              "      <td>3129</td>\n",
              "      <td>2190</td>\n",
              "      <td>4142</td>\n",
              "      <td>4921</td>\n",
              "      <td>421</td>\n",
              "      <td>45354</td>\n",
              "      <td>428.5</td>\n",
              "      <td>615.4</td>\n",
              "      <td>283.1</td>\n",
              "      <td>1281.2</td>\n",
              "      <td>389.1</td>\n",
              "      <td>383.2</td>\n",
              "      <td>431.6</td>\n",
              "      <td>312.2</td>\n",
              "      <td>395.8</td>\n",
              "      <td>304.3</td>\n",
              "      <td>529.3</td>\n",
              "      <td>225.6</td>\n",
              "      <td>234.4</td>\n",
              "      <td>241.0</td>\n",
              "      <td>202.2</td>\n",
              "      <td>209.8</td>\n",
              "      <td>210.8</td>\n",
              "      <td>262.0</td>\n",
              "      <td>408.4</td>\n",
              "      <td>102.243</td>\n",
              "      <td>102.909</td>\n",
              "      <td>102.422</td>\n",
              "      <td>102.273</td>\n",
              "      <td>102.066</td>\n",
              "      <td>102.142</td>\n",
              "      <td>102.741</td>\n",
              "      <td>101.232</td>\n",
              "      <td>102.245</td>\n",
              "      <td>101.535</td>\n",
              "      <td>101.792</td>\n",
              "      <td>101.523</td>\n",
              "      <td>101.464</td>\n",
              "      <td>102.027</td>\n",
              "      <td>101.347</td>\n",
              "      <td>100.702</td>\n",
              "      <td>99.751</td>\n",
              "      <td>2.73</td>\n",
              "    </tr>\n",
              "    <tr>\n",
              "      <th>2021-04-01</th>\n",
              "      <td>40</td>\n",
              "      <td>102.601</td>\n",
              "      <td>0.81</td>\n",
              "      <td>107.390</td>\n",
              "      <td>3363623.4</td>\n",
              "      <td>1107.4</td>\n",
              "      <td>59232</td>\n",
              "      <td>4194</td>\n",
              "      <td>4217</td>\n",
              "      <td>1918</td>\n",
              "      <td>5262</td>\n",
              "      <td>2313</td>\n",
              "      <td>1758</td>\n",
              "      <td>1155</td>\n",
              "      <td>15689</td>\n",
              "      <td>2363</td>\n",
              "      <td>2960</td>\n",
              "      <td>3705</td>\n",
              "      <td>2808</td>\n",
              "      <td>1972</td>\n",
              "      <td>3583</td>\n",
              "      <td>4565</td>\n",
              "      <td>397</td>\n",
              "      <td>44609</td>\n",
              "      <td>446.1</td>\n",
              "      <td>659.3</td>\n",
              "      <td>292.9</td>\n",
              "      <td>1370.6</td>\n",
              "      <td>414.8</td>\n",
              "      <td>399.3</td>\n",
              "      <td>431.2</td>\n",
              "      <td>318.1</td>\n",
              "      <td>401.9</td>\n",
              "      <td>324.4</td>\n",
              "      <td>542.2</td>\n",
              "      <td>226.6</td>\n",
              "      <td>230.6</td>\n",
              "      <td>241.2</td>\n",
              "      <td>213.7</td>\n",
              "      <td>214.1</td>\n",
              "      <td>211.4</td>\n",
              "      <td>270.0</td>\n",
              "      <td>450.5</td>\n",
              "      <td>102.601</td>\n",
              "      <td>103.368</td>\n",
              "      <td>102.758</td>\n",
              "      <td>102.652</td>\n",
              "      <td>102.418</td>\n",
              "      <td>102.446</td>\n",
              "      <td>103.168</td>\n",
              "      <td>101.454</td>\n",
              "      <td>102.610</td>\n",
              "      <td>101.807</td>\n",
              "      <td>102.084</td>\n",
              "      <td>101.766</td>\n",
              "      <td>101.694</td>\n",
              "      <td>102.348</td>\n",
              "      <td>101.565</td>\n",
              "      <td>100.867</td>\n",
              "      <td>99.795</td>\n",
              "      <td>2.73</td>\n",
              "    </tr>\n",
              "  </tbody>\n",
              "</table>\n",
              "<p>172 rows × 61 columns</p>\n",
              "</div>"
            ],
            "text/plain": [
              "            월별_google_trend   전국지가지수  월별_정기예금금리  ...  지가지수_경남  지가지수_제주  주택담보대출금리\n",
              "DATE                                             ...                            \n",
              "2007-01-01               81   74.210       4.61  ...   80.852   72.663      6.11\n",
              "2007-02-01               63   74.446       4.76  ...   80.982   72.765      6.18\n",
              "2007-03-01               56   74.658       4.72  ...   81.110   72.840      6.20\n",
              "2007-04-01               50   74.853       4.83  ...   81.228   72.893      6.13\n",
              "2007-05-01               39   75.048       4.78  ...   81.347   72.956      6.17\n",
              "...                     ...      ...        ...  ...      ...      ...       ...\n",
              "2020-12-01               37  101.268       0.89  ...  100.320   99.760      2.59\n",
              "2021-01-01               41  101.583       0.85  ...  100.441   99.748      2.63\n",
              "2021-02-01               37  101.899       0.83  ...  100.551   99.738      2.66\n",
              "2021-03-01               37  102.243       0.83  ...  100.702   99.751      2.73\n",
              "2021-04-01               40  102.601       0.81  ...  100.867   99.795      2.73\n",
              "\n",
              "[172 rows x 61 columns]"
            ]
          },
          "metadata": {
            "tags": []
          },
          "execution_count": 5
        }
      ]
    },
    {
      "cell_type": "code",
      "metadata": {
        "colab": {
          "base_uri": "https://localhost:8080/"
        },
        "id": "KTX2K0MhoGiQ",
        "outputId": "91c143e4-00ec-43c1-b4aa-f0ec5abfbdbd"
      },
      "source": [
        "df.columns"
      ],
      "execution_count": null,
      "outputs": [
        {
          "output_type": "execute_result",
          "data": {
            "text/plain": [
              "Index(['월별_google_trend', '전국지가지수', '월별_정기예금금리', '월별_소비자물가지수',\n",
              "       '월별_통화량(M2(평잔, 계절조정계열))', '월별_환율', '월별 아파트 매매현황(동호수)전국',\n",
              "       '월별 아파트 매매현황(동호수)서울', '월별 아파트 매매현황(동호수)부산', '월별 아파트 매매현황(동호수)대구',\n",
              "       '월별 아파트 매매현황(동호수)인천', '월별 아파트 매매현황(동호수)광주', '월별 아파트 매매현황(동호수)대전',\n",
              "       '월별 아파트 매매현황(동호수)울산', '월별 아파트 매매현황(동호수)경기', '월별 아파트 매매현황(동호수)강원',\n",
              "       '월별 아파트 매매현황(동호수)충북', '월별 아파트 매매현황(동호수)충남', '월별 아파트 매매현황(동호수)전북',\n",
              "       '월별 아파트 매매현황(동호수)전남', '월별 아파트 매매현황(동호수)경북', '월별 아파트 매매현황(동호수)경남',\n",
              "       '월별 아파트 매매현황(동호수)제주', '주택인허가실적(전국)', '전국_아파트매매가격', '수도권_아파트매매가격',\n",
              "       '지방_아파트매매가격', '서울_아파트매매가격', '부산_아파트매매가격', '대구_아파트매매가격', '인천_아파트매매가격',\n",
              "       '광주_아파트매매가격', '대전_아파트매매가격', '울산_아파트매매가격', '경기_아파트매매가격', '강원_아파트매매가격',\n",
              "       '충북_아파트매매가격', '충남_아파트매매가격', '전북_아파트매매가격', '전남_아파트매매가격', '경북_아파트매매가격',\n",
              "       '경남_아파트매매가격', '제주_아파트매매가격', '지가지수_전국', '지가지수_서울', '지가지수_부산', '지가지수_대구',\n",
              "       '지가지수_인천', '지가지수_광주', '지가지수_대전', '지가지수_울산', '지가지수_경기', '지가지수_강원',\n",
              "       '지가지수_충북', '지가지수_충남', '지가지수_전북', '지가지수_전남', '지가지수_경북', '지가지수_경남',\n",
              "       '지가지수_제주', '주택담보대출금리'],\n",
              "      dtype='object')"
            ]
          },
          "metadata": {
            "tags": []
          },
          "execution_count": 6
        }
      ]
    },
    {
      "cell_type": "markdown",
      "metadata": {
        "id": "A6CDVrB8_zlp"
      },
      "source": [
        "### 데이터 탐색(상관관계)"
      ]
    },
    {
      "cell_type": "code",
      "metadata": {
        "colab": {
          "base_uri": "https://localhost:8080/",
          "height": 756
        },
        "id": "9z5xRQMO-EuZ",
        "outputId": "93c329c4-81aa-4a59-e00b-9b1946dc5e40"
      },
      "source": [
        "import matplotlib.pyplot as plt\n",
        "import seaborn as sns\n",
        "\n",
        "heatmap_data = df[['월별_google_trend', '전국지가지수', '월별_정기예금금리', '월별_소비자물가지수',\n",
        "       '월별_통화량(M2(평잔, 계절조정계열))', '월별_환율', '월별 아파트 매매현황(동호수)전국',\n",
        "        '주택인허가실적(전국)', '전국_아파트매매가격','주택담보대출금리']]\n",
        "colormap = plt.cm.PuBu \n",
        "plt.figure(figsize=(10, 8)) \n",
        "plt.title(\"Person Correlation of Features\", y = 1.05, size = 15) \n",
        "sns.heatmap(heatmap_data.astype(float).corr(), linewidths = 0.1, vmax = 1.0, \n",
        "            square = True, cmap = colormap, linecolor = \"white\", annot = True, annot_kws = {\"size\" : 16})"
      ],
      "execution_count": null,
      "outputs": [
        {
          "output_type": "stream",
          "text": [
            "/usr/local/lib/python3.7/dist-packages/matplotlib/backends/backend_agg.py:214: RuntimeWarning: Glyph 8722 missing from current font.\n",
            "  font.set_text(s, 0.0, flags=flags)\n",
            "/usr/local/lib/python3.7/dist-packages/matplotlib/backends/backend_agg.py:183: RuntimeWarning: Glyph 8722 missing from current font.\n",
            "  font.set_text(s, 0, flags=flags)\n"
          ],
          "name": "stderr"
        },
        {
          "output_type": "execute_result",
          "data": {
            "text/plain": [
              "<matplotlib.axes._subplots.AxesSubplot at 0x7f31128511d0>"
            ]
          },
          "metadata": {
            "tags": []
          },
          "execution_count": 7
        },
        {
          "output_type": "display_data",
          "data": {
            "image/png": "[encoded data removed]",
            "text/plain": [
              "<Figure size 720x576 with 2 Axes>"
            ]
          },
          "metadata": {
            "tags": [],
            "needs_background": "light"
          }
        }
      ]
    },
    {
      "cell_type": "markdown",
      "metadata": {
        "id": "6ZhB5ICz_3iN"
      },
      "source": [
        "### 데이터 탐색(기초통계)"
      ]
    },
    {
      "cell_type": "code",
      "metadata": {
        "colab": {
          "base_uri": "https://localhost:8080/",
          "height": 316
        },
        "id": "xpoWLFpc_JFe",
        "outputId": "57dc9325-b377-4ce7-98f8-e04d52483fc3"
      },
      "source": [
        "heatmap_data.describe()"
      ],
      "execution_count": null,
      "outputs": [
        {
          "output_type": "execute_result",
          "data": {
            "text/html": [
              "<div>\n",
              "<style scoped>\n",
              "    .dataframe tbody tr th:only-of-type {\n",
              "        vertical-align: middle;\n",
              "    }\n",
              "\n",
              "    .dataframe tbody tr th {\n",
              "        vertical-align: top;\n",
              "    }\n",
              "\n",
              "    .dataframe thead th {\n",
              "        text-align: right;\n",
              "    }\n",
              "</style>\n",
              "<table border=\"1\" class=\"dataframe\">\n",
              "  <thead>\n",
              "    <tr style=\"text-align: right;\">\n",
              "      <th></th>\n",
              "      <th>월별_google_trend</th>\n",
              "      <th>전국지가지수</th>\n",
              "      <th>월별_정기예금금리</th>\n",
              "      <th>월별_소비자물가지수</th>\n",
              "      <th>월별_통화량(M2(평잔, 계절조정계열))</th>\n",
              "      <th>월별_환율</th>\n",
              "      <th>월별 아파트 매매현황(동호수)전국</th>\n",
              "      <th>주택인허가실적(전국)</th>\n",
              "      <th>전국_아파트매매가격</th>\n",
              "      <th>주택담보대출금리</th>\n",
              "    </tr>\n",
              "  </thead>\n",
              "  <tbody>\n",
              "    <tr>\n",
              "      <th>count</th>\n",
              "      <td>172.000000</td>\n",
              "      <td>172.000000</td>\n",
              "      <td>172.000000</td>\n",
              "      <td>172.000000</td>\n",
              "      <td>1.720000e+02</td>\n",
              "      <td>172.000000</td>\n",
              "      <td>172.000000</td>\n",
              "      <td>172.000000</td>\n",
              "      <td>172.000000</td>\n",
              "      <td>172.000000</td>\n",
              "    </tr>\n",
              "    <tr>\n",
              "      <th>mean</th>\n",
              "      <td>33.325581</td>\n",
              "      <td>84.164721</td>\n",
              "      <td>2.715814</td>\n",
              "      <td>97.043971</td>\n",
              "      <td>2.073425e+06</td>\n",
              "      <td>1122.725000</td>\n",
              "      <td>53853.988372</td>\n",
              "      <td>44078.406977</td>\n",
              "      <td>325.873837</td>\n",
              "      <td>4.154419</td>\n",
              "    </tr>\n",
              "    <tr>\n",
              "      <th>std</th>\n",
              "      <td>8.730456</td>\n",
              "      <td>7.755070</td>\n",
              "      <td>1.363811</td>\n",
              "      <td>7.224082</td>\n",
              "      <td>5.702532e+05</td>\n",
              "      <td>93.526729</td>\n",
              "      <td>15731.970506</td>\n",
              "      <td>27419.305263</td>\n",
              "      <td>83.724999</td>\n",
              "      <td>1.378112</td>\n",
              "    </tr>\n",
              "    <tr>\n",
              "      <th>min</th>\n",
              "      <td>21.000000</td>\n",
              "      <td>74.210000</td>\n",
              "      <td>0.800000</td>\n",
              "      <td>80.640000</td>\n",
              "      <td>1.144712e+06</td>\n",
              "      <td>907.400000</td>\n",
              "      <td>16968.000000</td>\n",
              "      <td>0.000000</td>\n",
              "      <td>187.400000</td>\n",
              "      <td>2.390000</td>\n",
              "    </tr>\n",
              "    <tr>\n",
              "      <th>25%</th>\n",
              "      <td>27.750000</td>\n",
              "      <td>78.317000</td>\n",
              "      <td>1.585000</td>\n",
              "      <td>91.226000</td>\n",
              "      <td>1.653359e+06</td>\n",
              "      <td>1078.925000</td>\n",
              "      <td>42383.000000</td>\n",
              "      <td>29242.500000</td>\n",
              "      <td>263.800000</td>\n",
              "      <td>3.040000</td>\n",
              "    </tr>\n",
              "    <tr>\n",
              "      <th>50%</th>\n",
              "      <td>31.000000</td>\n",
              "      <td>80.966500</td>\n",
              "      <td>2.580000</td>\n",
              "      <td>99.084500</td>\n",
              "      <td>1.961426e+06</td>\n",
              "      <td>1124.000000</td>\n",
              "      <td>52872.000000</td>\n",
              "      <td>38073.500000</td>\n",
              "      <td>308.200000</td>\n",
              "      <td>3.700000</td>\n",
              "    </tr>\n",
              "    <tr>\n",
              "      <th>75%</th>\n",
              "      <td>37.000000</td>\n",
              "      <td>89.113500</td>\n",
              "      <td>3.630000</td>\n",
              "      <td>103.085000</td>\n",
              "      <td>2.495542e+06</td>\n",
              "      <td>1167.800000</td>\n",
              "      <td>63349.500000</td>\n",
              "      <td>50352.500000</td>\n",
              "      <td>386.125000</td>\n",
              "      <td>5.010000</td>\n",
              "    </tr>\n",
              "    <tr>\n",
              "      <th>max</th>\n",
              "      <td>81.000000</td>\n",
              "      <td>102.601000</td>\n",
              "      <td>6.280000</td>\n",
              "      <td>107.390000</td>\n",
              "      <td>3.363623e+06</td>\n",
              "      <td>1516.400000</td>\n",
              "      <td>106027.000000</td>\n",
              "      <td>160988.000000</td>\n",
              "      <td>532.600000</td>\n",
              "      <td>7.580000</td>\n",
              "    </tr>\n",
              "  </tbody>\n",
              "</table>\n",
              "</div>"
            ],
            "text/plain": [
              "       월별_google_trend      전국지가지수  ...  전국_아파트매매가격    주택담보대출금리\n",
              "count       172.000000  172.000000  ...  172.000000  172.000000\n",
              "mean         33.325581   84.164721  ...  325.873837    4.154419\n",
              "std           8.730456    7.755070  ...   83.724999    1.378112\n",
              "min          21.000000   74.210000  ...  187.400000    2.390000\n",
              "25%          27.750000   78.317000  ...  263.800000    3.040000\n",
              "50%          31.000000   80.966500  ...  308.200000    3.700000\n",
              "75%          37.000000   89.113500  ...  386.125000    5.010000\n",
              "max          81.000000  102.601000  ...  532.600000    7.580000\n",
              "\n",
              "[8 rows x 10 columns]"
            ]
          },
          "metadata": {
            "tags": []
          },
          "execution_count": 8
        }
      ]
    },
    {
      "cell_type": "markdown",
      "metadata": {
        "id": "7FE8Ixi_izRC"
      },
      "source": [
        "## RandomForest를 통한 전국 아파트 매매가 예측"
      ]
    },
    {
      "cell_type": "code",
      "metadata": {
        "colab": {
          "base_uri": "https://localhost:8080/"
        },
        "id": "JXtoloVheyG1",
        "outputId": "e6ed3914-4732-478a-c035-2c358b00415d"
      },
      "source": [
        "split_date = pd.Timestamp('01-01-2020')\n",
        "\n",
        "train = df.loc[:split_date]\n",
        "test = df.loc[split_date:]\n",
        "len(train), len(test)"
      ],
      "execution_count": null,
      "outputs": [
        {
          "output_type": "execute_result",
          "data": {
            "text/plain": [
              "(157, 16)"
            ]
          },
          "metadata": {
            "tags": []
          },
          "execution_count": 159
        }
      ]
    },
    {
      "cell_type": "code",
      "metadata": {
        "colab": {
          "base_uri": "https://localhost:8080/"
        },
        "id": "KL5vylqZusti",
        "outputId": "08efac18-cfcf-44f1-fefc-d9d7eeb6412a"
      },
      "source": [
        "print(train['전국_아파트매매가격'].head(3))\n",
        "print(train['서울_아파트매매가격'].head(3))"
      ],
      "execution_count": null,
      "outputs": [
        {
          "output_type": "stream",
          "text": [
            "DATE\n",
            "2007-01-01    202.6\n",
            "2007-02-01    200.6\n",
            "2007-03-01    207.4\n",
            "Name: 전국_아파트매매가격, dtype: float64\n",
            "DATE\n",
            "2007-01-01    398.9\n",
            "2007-02-01    414.7\n",
            "2007-03-01    410.2\n",
            "Name: 서울_아파트매매가격, dtype: float64\n"
          ],
          "name": "stdout"
        }
      ]
    },
    {
      "cell_type": "code",
      "metadata": {
        "colab": {
          "base_uri": "https://localhost:8080/"
        },
        "id": "YPZizEgFeYfk",
        "outputId": "5ccc1ca1-0f1a-4896-9ba2-9459812077ff"
      },
      "source": [
        "train.columns"
      ],
      "execution_count": null,
      "outputs": [
        {
          "output_type": "execute_result",
          "data": {
            "text/plain": [
              "Index(['월별_google_trend', '전국지가지수', '월별_정기예금금리', '월별_소비자물가지수',\n",
              "       '월별_통화량(M2(평잔, 계절조정계열))', '월별_환율', '월별 아파트 매매현황(동호수)전국',\n",
              "       '월별 아파트 매매현황(동호수)서울', '월별 아파트 매매현황(동호수)부산', '월별 아파트 매매현황(동호수)대구',\n",
              "       '월별 아파트 매매현황(동호수)인천', '월별 아파트 매매현황(동호수)광주', '월별 아파트 매매현황(동호수)대전',\n",
              "       '월별 아파트 매매현황(동호수)울산', '월별 아파트 매매현황(동호수)경기', '월별 아파트 매매현황(동호수)강원',\n",
              "       '월별 아파트 매매현황(동호수)충북', '월별 아파트 매매현황(동호수)충남', '월별 아파트 매매현황(동호수)전북',\n",
              "       '월별 아파트 매매현황(동호수)전남', '월별 아파트 매매현황(동호수)경북', '월별 아파트 매매현황(동호수)경남',\n",
              "       '월별 아파트 매매현황(동호수)제주', '주택인허가실적(전국)', '전국_아파트매매가격', '수도권_아파트매매가격',\n",
              "       '지방_아파트매매가격', '서울_아파트매매가격', '부산_아파트매매가격', '대구_아파트매매가격', '인천_아파트매매가격',\n",
              "       '광주_아파트매매가격', '대전_아파트매매가격', '울산_아파트매매가격', '경기_아파트매매가격', '강원_아파트매매가격',\n",
              "       '충북_아파트매매가격', '충남_아파트매매가격', '전북_아파트매매가격', '전남_아파트매매가격', '경북_아파트매매가격',\n",
              "       '경남_아파트매매가격', '제주_아파트매매가격', '지가지수_전국', '지가지수_서울', '지가지수_부산', '지가지수_대구',\n",
              "       '지가지수_인천', '지가지수_광주', '지가지수_대전', '지가지수_울산', '지가지수_경기', '지가지수_강원',\n",
              "       '지가지수_충북', '지가지수_충남', '지가지수_전북', '지가지수_전남', '지가지수_경북', '지가지수_경남',\n",
              "       '지가지수_제주', '주택담보대출금리'],\n",
              "      dtype='object')"
            ]
          },
          "metadata": {
            "tags": []
          },
          "execution_count": 161
        }
      ]
    },
    {
      "cell_type": "code",
      "metadata": {
        "id": "QdnVwWQmqpiH"
      },
      "source": [
        "from sklearn.linear_model import LinearRegression\n",
        "from sklearn.ensemble import RandomForestRegressor\n",
        "\n",
        "\n",
        "model = RandomForestRegressor(n_estimators=300)\n",
        "\n",
        "feature = ['월별_google_trend', '전국지가지수', '월별_정기예금금리', '월별_소비자물가지수',\n",
        "       '월별_통화량(M2(평잔, 계절조정계열))', '월별_환율', '월별 아파트 매매현황(동호수)전국',\n",
        "        '주택인허가실적(전국)','주택담보대출금리']\n",
        "\n",
        "target = ['전국_아파트매매가격']\n",
        "\n",
        "\n",
        "all = ['월별_google_trend', '전국지가지수', '월별_정기예금금리', '월별_소비자물가지수',\n",
        "       '월별_통화량(M2(평잔, 계절조정계열))', '월별_환율', '월별 아파트 매매현황(동호수)전국',\n",
        "        '주택인허가실적(전국)','전국_아파트매매가격','주택담보대출금리']\n",
        "\n",
        "train = train[all]\n",
        "test = test[all]\n",
        "\n",
        "from sklearn.preprocessing import MinMaxScaler\n",
        "\n",
        "sc = MinMaxScaler()\n",
        "\n",
        "train_sc= sc.fit_transform(train)\n",
        "test_sc= sc.transform(test)\n",
        "\n",
        "\n",
        "target = ['전국_아파트매매가격']\n",
        "\n",
        "\n",
        "\n",
        "train = pd.DataFrame(train_sc,columns=[ '월별_google_trend', '전국지가지수', '월별_정기예금금리', '월별_소비자물가지수',\n",
        "       '월별_통화량(M2(평잔, 계절조정계열))', '월별_환율', '월별 아파트 매매현황(동호수)전국', '주택인허가실적(전국)',\n",
        "       '전국_아파트매매가격','주택담보대출금리'] , index=train.index)\n",
        "test = pd.DataFrame(test_sc,columns=[ '월별_google_trend', '전국지가지수', '월별_정기예금금리', '월별_소비자물가지수',\n",
        "       '월별_통화량(M2(평잔, 계절조정계열))', '월별_환율', '월별 아파트 매매현황(동호수)전국', '주택인허가실적(전국)',\n",
        "       '전국_아파트매매가격','주택담보대출금리'] , index=test.index)\n",
        "\n",
        "\n",
        "X_train = train[feature]\n",
        "y_train = train[target]\n",
        "\n",
        "X_test = test[feature]\n",
        "y_test = test[target]"
      ],
      "execution_count": null,
      "outputs": []
    },
    {
      "cell_type": "code",
      "metadata": {
        "colab": {
          "base_uri": "https://localhost:8080/"
        },
        "id": "08v5-cy0qt7-",
        "outputId": "de8a6057-a1e7-43fd-c8e2-625a4a7503ec"
      },
      "source": [
        "model.fit(X_train, y_train)"
      ],
      "execution_count": null,
      "outputs": [
        {
          "output_type": "stream",
          "text": [
            "/usr/local/lib/python3.7/dist-packages/ipykernel_launcher.py:1: DataConversionWarning: A column-vector y was passed when a 1d array was expected. Please change the shape of y to (n_samples,), for example using ravel().\n",
            "  \"\"\"Entry point for launching an IPython kernel.\n"
          ],
          "name": "stderr"
        },
        {
          "output_type": "execute_result",
          "data": {
            "text/plain": [
              "RandomForestRegressor(bootstrap=True, ccp_alpha=0.0, criterion='mse',\n",
              "                      max_depth=None, max_features='auto', max_leaf_nodes=None,\n",
              "                      max_samples=None, min_impurity_decrease=0.0,\n",
              "                      min_impurity_split=None, min_samples_leaf=1,\n",
              "                      min_samples_split=2, min_weight_fraction_leaf=0.0,\n",
              "                      n_estimators=300, n_jobs=None, oob_score=False,\n",
              "                      random_state=None, verbose=0, warm_start=False)"
            ]
          },
          "metadata": {
            "tags": []
          },
          "execution_count": 163
        }
      ]
    },
    {
      "cell_type": "code",
      "metadata": {
        "colab": {
          "base_uri": "https://localhost:8080/"
        },
        "id": "NsX3HvLZsJQp",
        "outputId": "683714a2-458c-418e-8ae1-31953a69e817"
      },
      "source": [
        "from sklearn.metrics import mean_absolute_error\n",
        "y_pred = model.predict(X_train)\n",
        "mae = mean_absolute_error(y_train, y_pred)\n",
        "print(f'훈련 에러: {mae:.2f}')"
      ],
      "execution_count": null,
      "outputs": [
        {
          "output_type": "stream",
          "text": [
            "훈련 에러: 0.02\n"
          ],
          "name": "stdout"
        }
      ]
    },
    {
      "cell_type": "code",
      "metadata": {
        "colab": {
          "base_uri": "https://localhost:8080/"
        },
        "id": "vo5ivxK0s4ez",
        "outputId": "22fb30fc-0462-4d66-e43f-b1d01b46087f"
      },
      "source": [
        "y_pred = model.predict(X_test)\n",
        "mae = mean_absolute_error(y_test, y_pred)\n",
        "print(f'테스트 에러: {mae:.2f}')"
      ],
      "execution_count": null,
      "outputs": [
        {
          "output_type": "stream",
          "text": [
            "테스트 에러: 0.09\n"
          ],
          "name": "stdout"
        }
      ]
    },
    {
      "cell_type": "code",
      "metadata": {
        "colab": {
          "base_uri": "https://localhost:8080/"
        },
        "id": "P6-CpNvJuShh",
        "outputId": "6a425493-7aef-48d7-9350-0724e091f370"
      },
      "source": [
        "from sklearn.metrics import mean_squared_error\n",
        "\n",
        "RMSE = mean_squared_error(y_test, y_pred)**0.5\n",
        "print(f'테스트 RMSE: {RMSE:.2f}')"
      ],
      "execution_count": null,
      "outputs": [
        {
          "output_type": "stream",
          "text": [
            "테스트 RMSE: 0.12\n"
          ],
          "name": "stdout"
        }
      ]
    },
    {
      "cell_type": "code",
      "metadata": {
        "colab": {
          "base_uri": "https://localhost:8080/",
          "height": 282
        },
        "id": "5dfP3pKuY07y",
        "outputId": "d27b81a8-d568-4879-b27a-15353e156835"
      },
      "source": [
        "fig = plt.figure(figsize = (12, 4)) \n",
        "y_pred = model.predict(X_test)\n",
        "y_pred2 = pd.DataFrame(y_pred, index=X_test.index)\n",
        "#pd.DataFrame(train_sc, index=train.index)\n",
        "#print(y_pred2)\n",
        "plt.plot(y_test, 'o-', label='Predicted')\n",
        "#plt.xticks(X_test.index)\n",
        "plt.plot(y_pred2, 'o-', color='red')"
      ],
      "execution_count": null,
      "outputs": [
        {
          "output_type": "execute_result",
          "data": {
            "text/plain": [
              "[<matplotlib.lines.Line2D at 0x7f30f0d16390>]"
            ]
          },
          "metadata": {
            "tags": []
          },
          "execution_count": 167
        },
        {
          "output_type": "display_data",
          "data": {
            "image/png": "[encoded data removed]",
            "text/plain": [
              "<Figure size 864x288 with 1 Axes>"
            ]
          },
          "metadata": {
            "tags": [],
            "needs_background": "light"
          }
        }
      ]
    },
    {
      "cell_type": "code",
      "metadata": {
        "colab": {
          "base_uri": "https://localhost:8080/",
          "height": 389
        },
        "id": "zoj4ymD6FzBS",
        "outputId": "8c7a156d-f9ed-4fb8-a565-99397414d349"
      },
      "source": [
        "import matplotlib.pyplot as plt\n",
        "import seaborn as sns\n",
        "\n",
        "\n",
        "importances_values = model.feature_importances_\n",
        "importances = pd.Series(importances_values, index=X_train.columns)\n",
        "top20 = importances.sort_values(ascending=False)[:20]\n",
        "plt.figure(figsize=(8, 6))\n",
        "plt.title('Feature importances Top 20')\n",
        "sns.barplot(x = top20, y = top20.index)\n",
        "plt.show()"
      ],
      "execution_count": null,
      "outputs": [
        {
          "output_type": "display_data",
          "data": {
            "image/png": "[encoded data removed]",
            "text/plain": [
              "<Figure size 576x432 with 1 Axes>"
            ]
          },
          "metadata": {
            "tags": [],
            "needs_background": "light"
          }
        }
      ]
    },
    {
      "cell_type": "markdown",
      "metadata": {
        "id": "_0lJAYYaitzA"
      },
      "source": [
        "##RandomForest를 통한 서울 아파트 매매가 예측"
      ]
    },
    {
      "cell_type": "code",
      "metadata": {
        "colab": {
          "base_uri": "https://localhost:8080/"
        },
        "id": "X8TPeAaQis_J",
        "outputId": "936b0f90-97f9-48ff-fd4e-3cc36ad2b114"
      },
      "source": [
        "split_date = pd.Timestamp('01-01-2019')\n",
        "\n",
        "train = df.loc[:split_date]\n",
        "test = df.loc[split_date:]\n",
        "len(train), len(test)"
      ],
      "execution_count": null,
      "outputs": [
        {
          "output_type": "execute_result",
          "data": {
            "text/plain": [
              "(145, 28)"
            ]
          },
          "metadata": {
            "tags": []
          },
          "execution_count": 127
        }
      ]
    },
    {
      "cell_type": "code",
      "metadata": {
        "id": "a8-GjJvZLrY8"
      },
      "source": [
        "from sklearn.linear_model import LinearRegression\n",
        "from sklearn.ensemble import RandomForestRegressor\n",
        "\n",
        "\n",
        "model_seoul = RandomForestRegressor(n_estimators=200,max_depth=8)\n",
        "\n",
        "\n",
        "all = ['월별_google_trend', '월별_정기예금금리', '월별_소비자물가지수',\n",
        "       '월별_통화량(M2(평잔, 계절조정계열))', '월별_환율', '월별 아파트 매매현황(동호수)서울', '월별 아파트 매매현황(동호수)부산', '월별 아파트 매매현황(동호수)대구',\n",
        "       '월별 아파트 매매현황(동호수)인천', '월별 아파트 매매현황(동호수)광주', '월별 아파트 매매현황(동호수)대전',\n",
        "       '월별 아파트 매매현황(동호수)울산', '월별 아파트 매매현황(동호수)경기', '월별 아파트 매매현황(동호수)강원',\n",
        "       '월별 아파트 매매현황(동호수)충북', '월별 아파트 매매현황(동호수)충남', '월별 아파트 매매현황(동호수)전북',\n",
        "       '월별 아파트 매매현황(동호수)전남', '월별 아파트 매매현황(동호수)경북', '월별 아파트 매매현황(동호수)경남',\n",
        "       '월별 아파트 매매현황(동호수)제주', '지가지수_부산', '지가지수_대구',\n",
        "       '지가지수_인천', '지가지수_광주', '지가지수_대전', '지가지수_울산', '지가지수_경기', '지가지수_강원',\n",
        "       '지가지수_충북', '지가지수_충남', '지가지수_전북', '지가지수_전남', '지가지수_경북', '지가지수_경남',\n",
        "       '지가지수_제주','부산_아파트매매가격', '대구_아파트매매가격', '인천_아파트매매가격',\n",
        "       '광주_아파트매매가격', '대전_아파트매매가격', '울산_아파트매매가격', '경기_아파트매매가격', '강원_아파트매매가격',\n",
        "       '충북_아파트매매가격', '충남_아파트매매가격', '전북_아파트매매가격', '전남_아파트매매가격', '경북_아파트매매가격',\n",
        "       '경남_아파트매매가격', '제주_아파트매매가격',\n",
        "        '주택인허가실적(전국)','서울_아파트매매가격','주택담보대출금리','지가지수_서울']\n",
        "\n",
        "train = train[all]\n",
        "test = test[all]"
      ],
      "execution_count": null,
      "outputs": []
    },
    {
      "cell_type": "code",
      "metadata": {
        "colab": {
          "base_uri": "https://localhost:8080/"
        },
        "id": "7y3mkwkFMC7X",
        "outputId": "c67194f8-5a3b-401f-9bb0-b0077d603c9a"
      },
      "source": [
        "train.columns"
      ],
      "execution_count": null,
      "outputs": [
        {
          "output_type": "execute_result",
          "data": {
            "text/plain": [
              "Index(['월별_google_trend', '월별_정기예금금리', '월별_소비자물가지수', '월별_통화량(M2(평잔, 계절조정계열))',\n",
              "       '월별_환율', '월별 아파트 매매현황(동호수)서울', '월별 아파트 매매현황(동호수)부산',\n",
              "       '월별 아파트 매매현황(동호수)대구', '월별 아파트 매매현황(동호수)인천', '월별 아파트 매매현황(동호수)광주',\n",
              "       '월별 아파트 매매현황(동호수)대전', '월별 아파트 매매현황(동호수)울산', '월별 아파트 매매현황(동호수)경기',\n",
              "       '월별 아파트 매매현황(동호수)강원', '월별 아파트 매매현황(동호수)충북', '월별 아파트 매매현황(동호수)충남',\n",
              "       '월별 아파트 매매현황(동호수)전북', '월별 아파트 매매현황(동호수)전남', '월별 아파트 매매현황(동호수)경북',\n",
              "       '월별 아파트 매매현황(동호수)경남', '월별 아파트 매매현황(동호수)제주', '지가지수_부산', '지가지수_대구',\n",
              "       '지가지수_인천', '지가지수_광주', '지가지수_대전', '지가지수_울산', '지가지수_경기', '지가지수_강원',\n",
              "       '지가지수_충북', '지가지수_충남', '지가지수_전북', '지가지수_전남', '지가지수_경북', '지가지수_경남',\n",
              "       '지가지수_제주', '부산_아파트매매가격', '대구_아파트매매가격', '인천_아파트매매가격', '광주_아파트매매가격',\n",
              "       '대전_아파트매매가격', '울산_아파트매매가격', '경기_아파트매매가격', '강원_아파트매매가격', '충북_아파트매매가격',\n",
              "       '충남_아파트매매가격', '전북_아파트매매가격', '전남_아파트매매가격', '경북_아파트매매가격', '경남_아파트매매가격',\n",
              "       '제주_아파트매매가격', '주택인허가실적(전국)', '서울_아파트매매가격', '주택담보대출금리', '지가지수_서울'],\n",
              "      dtype='object')"
            ]
          },
          "metadata": {
            "tags": []
          },
          "execution_count": 136
        }
      ]
    },
    {
      "cell_type": "code",
      "metadata": {
        "id": "6rvu4PbJKkbX"
      },
      "source": [
        "from sklearn.preprocessing import MinMaxScaler\n",
        "\n",
        "sc = MinMaxScaler()\n",
        "\n",
        "train_sc= sc.fit_transform(train)\n",
        "test_sc= sc.transform(test)\n",
        "\n",
        "\n",
        "\n",
        "\n",
        "train = pd.DataFrame(train_sc,columns=['월별_google_trend', '월별_정기예금금리', '월별_소비자물가지수', '월별_통화량(M2(평잔, 계절조정계열))',\n",
        "       '월별_환율', '월별 아파트 매매현황(동호수)서울', '월별 아파트 매매현황(동호수)부산',\n",
        "       '월별 아파트 매매현황(동호수)대구', '월별 아파트 매매현황(동호수)인천', '월별 아파트 매매현황(동호수)광주',\n",
        "       '월별 아파트 매매현황(동호수)대전', '월별 아파트 매매현황(동호수)울산', '월별 아파트 매매현황(동호수)경기',\n",
        "       '월별 아파트 매매현황(동호수)강원', '월별 아파트 매매현황(동호수)충북', '월별 아파트 매매현황(동호수)충남',\n",
        "       '월별 아파트 매매현황(동호수)전북', '월별 아파트 매매현황(동호수)전남', '월별 아파트 매매현황(동호수)경북',\n",
        "       '월별 아파트 매매현황(동호수)경남', '월별 아파트 매매현황(동호수)제주', '지가지수_부산', '지가지수_대구',\n",
        "       '지가지수_인천', '지가지수_광주', '지가지수_대전', '지가지수_울산', '지가지수_경기', '지가지수_강원',\n",
        "       '지가지수_충북', '지가지수_충남', '지가지수_전북', '지가지수_전남', '지가지수_경북', '지가지수_경남',\n",
        "       '지가지수_제주', '부산_아파트매매가격', '대구_아파트매매가격', '인천_아파트매매가격', '광주_아파트매매가격',\n",
        "       '대전_아파트매매가격', '울산_아파트매매가격', '경기_아파트매매가격', '강원_아파트매매가격', '충북_아파트매매가격',\n",
        "       '충남_아파트매매가격', '전북_아파트매매가격', '전남_아파트매매가격', '경북_아파트매매가격', '경남_아파트매매가격',\n",
        "       '제주_아파트매매가격', '주택인허가실적(전국)', '서울_아파트매매가격', '주택담보대출금리', '지가지수_서울'] , index=train.index)\n",
        "\n",
        "\n",
        "test = pd.DataFrame(test_sc,columns=['월별_google_trend', '월별_정기예금금리', '월별_소비자물가지수', '월별_통화량(M2(평잔, 계절조정계열))',\n",
        "       '월별_환율', '월별 아파트 매매현황(동호수)서울', '월별 아파트 매매현황(동호수)부산',\n",
        "       '월별 아파트 매매현황(동호수)대구', '월별 아파트 매매현황(동호수)인천', '월별 아파트 매매현황(동호수)광주',\n",
        "       '월별 아파트 매매현황(동호수)대전', '월별 아파트 매매현황(동호수)울산', '월별 아파트 매매현황(동호수)경기',\n",
        "       '월별 아파트 매매현황(동호수)강원', '월별 아파트 매매현황(동호수)충북', '월별 아파트 매매현황(동호수)충남',\n",
        "       '월별 아파트 매매현황(동호수)전북', '월별 아파트 매매현황(동호수)전남', '월별 아파트 매매현황(동호수)경북',\n",
        "       '월별 아파트 매매현황(동호수)경남', '월별 아파트 매매현황(동호수)제주', '지가지수_부산', '지가지수_대구',\n",
        "       '지가지수_인천', '지가지수_광주', '지가지수_대전', '지가지수_울산', '지가지수_경기', '지가지수_강원',\n",
        "       '지가지수_충북', '지가지수_충남', '지가지수_전북', '지가지수_전남', '지가지수_경북', '지가지수_경남',\n",
        "       '지가지수_제주', '부산_아파트매매가격', '대구_아파트매매가격', '인천_아파트매매가격', '광주_아파트매매가격',\n",
        "       '대전_아파트매매가격', '울산_아파트매매가격', '경기_아파트매매가격', '강원_아파트매매가격', '충북_아파트매매가격',\n",
        "       '충남_아파트매매가격', '전북_아파트매매가격', '전남_아파트매매가격', '경북_아파트매매가격', '경남_아파트매매가격',\n",
        "       '제주_아파트매매가격', '주택인허가실적(전국)', '서울_아파트매매가격', '주택담보대출금리', '지가지수_서울'] , index=test.index)\n",
        "\n",
        "\n",
        "feature = ['월별_google_trend', '월별_정기예금금리', '월별_소비자물가지수',\n",
        "       '월별_통화량(M2(평잔, 계절조정계열))', '월별_환율','월별 아파트 매매현황(동호수)서울', '월별 아파트 매매현황(동호수)부산', '월별 아파트 매매현황(동호수)대구',\n",
        "       '월별 아파트 매매현황(동호수)인천', '월별 아파트 매매현황(동호수)광주', '월별 아파트 매매현황(동호수)대전',\n",
        "       '월별 아파트 매매현황(동호수)울산', '월별 아파트 매매현황(동호수)경기', '월별 아파트 매매현황(동호수)강원',\n",
        "       '월별 아파트 매매현황(동호수)충북', '월별 아파트 매매현황(동호수)충남', '월별 아파트 매매현황(동호수)전북',\n",
        "       '월별 아파트 매매현황(동호수)전남', '월별 아파트 매매현황(동호수)경북', '월별 아파트 매매현황(동호수)경남',\n",
        "       '월별 아파트 매매현황(동호수)제주',\n",
        "        '주택인허가실적(전국)','주택담보대출금리']\n",
        "\n",
        "target = ['서울_아파트매매가격']\n",
        "\n",
        "\n",
        "\n",
        "\n",
        "X_train = train[feature]\n",
        "y_train = train[target]\n",
        "\n",
        "X_test = test[feature]\n",
        "y_test = test[target]"
      ],
      "execution_count": null,
      "outputs": []
    },
    {
      "cell_type": "code",
      "metadata": {
        "colab": {
          "base_uri": "https://localhost:8080/"
        },
        "id": "7LirpTbFMUXF",
        "outputId": "bd1e5c17-ffa4-4989-8209-dacb05543fe7"
      },
      "source": [
        "model_seoul.fit(X_train, y_train)"
      ],
      "execution_count": null,
      "outputs": [
        {
          "output_type": "stream",
          "text": [
            "/usr/local/lib/python3.7/dist-packages/ipykernel_launcher.py:1: DataConversionWarning: A column-vector y was passed when a 1d array was expected. Please change the shape of y to (n_samples,), for example using ravel().\n",
            "  \"\"\"Entry point for launching an IPython kernel.\n"
          ],
          "name": "stderr"
        },
        {
          "output_type": "execute_result",
          "data": {
            "text/plain": [
              "RandomForestRegressor(bootstrap=True, ccp_alpha=0.0, criterion='mse',\n",
              "                      max_depth=8, max_features='auto', max_leaf_nodes=None,\n",
              "                      max_samples=None, min_impurity_decrease=0.0,\n",
              "                      min_impurity_split=None, min_samples_leaf=1,\n",
              "                      min_samples_split=2, min_weight_fraction_leaf=0.0,\n",
              "                      n_estimators=200, n_jobs=None, oob_score=False,\n",
              "                      random_state=None, verbose=0, warm_start=False)"
            ]
          },
          "metadata": {
            "tags": []
          },
          "execution_count": 138
        }
      ]
    },
    {
      "cell_type": "code",
      "metadata": {
        "colab": {
          "base_uri": "https://localhost:8080/"
        },
        "id": "h2OORog8MUiK",
        "outputId": "8af7a5d3-3e23-4884-d1de-8b61dc6070af"
      },
      "source": [
        "from sklearn.metrics import mean_absolute_error\n",
        "y_pred = model_seoul.predict(X_train)\n",
        "mae = mean_absolute_error(y_train, y_pred)\n",
        "print(f'훈련 에러: {mae:.2f}')"
      ],
      "execution_count": null,
      "outputs": [
        {
          "output_type": "stream",
          "text": [
            "훈련 에러: 0.02\n"
          ],
          "name": "stdout"
        }
      ]
    },
    {
      "cell_type": "code",
      "metadata": {
        "colab": {
          "base_uri": "https://localhost:8080/"
        },
        "id": "UlU7ZLTDMUpr",
        "outputId": "4fced4ec-149d-4f74-e2e9-e21cc06a539a"
      },
      "source": [
        "y_pred = model_seoul.predict(X_test)\n",
        "mae = mean_absolute_error(y_test, y_pred)\n",
        "print(f'테스트 에러: {mae:.2f}')"
      ],
      "execution_count": null,
      "outputs": [
        {
          "output_type": "stream",
          "text": [
            "테스트 에러: 0.69\n"
          ],
          "name": "stdout"
        }
      ]
    },
    {
      "cell_type": "code",
      "metadata": {
        "colab": {
          "base_uri": "https://localhost:8080/",
          "height": 282
        },
        "id": "Ujw949grOpxM",
        "outputId": "51928e70-e09b-4628-db12-81e5415abf86"
      },
      "source": [
        "fig = plt.figure(figsize = (12, 4)) \n",
        "y_pred = model_seoul.predict(X_test)\n",
        "y_pred2 = pd.DataFrame(y_pred, index=X_test.index)\n",
        "#pd.DataFrame(train_sc, index=train.index)\n",
        "#print(y_pred2)\n",
        "plt.plot(y_test, 'o-', label='Predicted')\n",
        "#plt.xticks(X_test.index)\n",
        "plt.plot(y_pred2, 'o-', color='red')"
      ],
      "execution_count": null,
      "outputs": [
        {
          "output_type": "execute_result",
          "data": {
            "text/plain": [
              "[<matplotlib.lines.Line2D at 0x7f30f092c710>]"
            ]
          },
          "metadata": {
            "tags": []
          },
          "execution_count": 125
        },
        {
          "output_type": "display_data",
          "data": {
            "image/png": "[encoded data removed]",
            "text/plain": [
              "<Figure size 864x288 with 1 Axes>"
            ]
          },
          "metadata": {
            "tags": [],
            "needs_background": "light"
          }
        }
      ]
    },
    {
      "cell_type": "code",
      "metadata": {
        "colab": {
          "base_uri": "https://localhost:8080/",
          "height": 389
        },
        "id": "iHOMv1ofMjTp",
        "outputId": "f0d637d9-1e89-4584-a9d4-dab28462eea7"
      },
      "source": [
        "import matplotlib.pyplot as plt\n",
        "import seaborn as sns\n",
        "\n",
        "\n",
        "importances_values = model_seoul.feature_importances_\n",
        "importances = pd.Series(importances_values, index=X_train.columns)\n",
        "top20 = importances.sort_values(ascending=False)[:20]\n",
        "plt.figure(figsize=(8, 6))\n",
        "plt.title('Feature importances Top 20')\n",
        "sns.barplot(x = top20, y = top20.index)\n",
        "plt.show()"
      ],
      "execution_count": null,
      "outputs": [
        {
          "output_type": "display_data",
          "data": {
            "image/png": "[encoded data removed]",
            "text/plain": [
              "<Figure size 576x432 with 1 Axes>"
            ]
          },
          "metadata": {
            "tags": [],
            "needs_background": "light"
          }
        }
      ]
    },
    {
      "cell_type": "markdown",
      "metadata": {
        "id": "Q7__-kbskQmV"
      },
      "source": [
        "\n",
        "\n",
        "---\n",
        "\n"
      ]
    },
    {
      "cell_type": "markdown",
      "metadata": {
        "id": "6U4meqUvjTO1"
      },
      "source": [
        "##RandomForest를 통한 부산 아파트 매매가격 예측"
      ]
    },
    {
      "cell_type": "code",
      "metadata": {
        "colab": {
          "base_uri": "https://localhost:8080/"
        },
        "id": "1ovCsup4kPnG",
        "outputId": "d69db0ca-26d5-4e08-e22d-6d602f1de9f5"
      },
      "source": [
        "split_date = pd.Timestamp('01-01-2019')\n",
        "\n",
        "train = df.loc[:split_date]\n",
        "test = df.loc[split_date:]\n",
        "len(train), len(test)"
      ],
      "execution_count": null,
      "outputs": [
        {
          "output_type": "execute_result",
          "data": {
            "text/plain": [
              "(145, 28)"
            ]
          },
          "metadata": {
            "tags": []
          },
          "execution_count": 59
        }
      ]
    },
    {
      "cell_type": "code",
      "metadata": {
        "colab": {
          "base_uri": "https://localhost:8080/"
        },
        "id": "4IDCceqzkcyX",
        "outputId": "d7994ac5-3d0a-41b2-e104-82fc4220934a"
      },
      "source": [
        "df.columns"
      ],
      "execution_count": null,
      "outputs": [
        {
          "output_type": "execute_result",
          "data": {
            "text/plain": [
              "Index(['월별_google_trend', '전국지가지수', '월별_정기예금금리', '월별_소비자물가지수',\n",
              "       '월별_통화량(M2(평잔, 계절조정계열))', '월별_환율', '월별 아파트 매매현황(동호수)전국',\n",
              "       '월별 아파트 매매현황(동호수)서울', '월별 아파트 매매현황(동호수)부산', '월별 아파트 매매현황(동호수)대구',\n",
              "       '월별 아파트 매매현황(동호수)인천', '월별 아파트 매매현황(동호수)광주', '월별 아파트 매매현황(동호수)대전',\n",
              "       '월별 아파트 매매현황(동호수)울산', '월별 아파트 매매현황(동호수)경기', '월별 아파트 매매현황(동호수)강원',\n",
              "       '월별 아파트 매매현황(동호수)충북', '월별 아파트 매매현황(동호수)충남', '월별 아파트 매매현황(동호수)전북',\n",
              "       '월별 아파트 매매현황(동호수)전남', '월별 아파트 매매현황(동호수)경북', '월별 아파트 매매현황(동호수)경남',\n",
              "       '월별 아파트 매매현황(동호수)제주', '주택인허가실적(전국)', '전국_아파트매매가격', '수도권_아파트매매가격',\n",
              "       '지방_아파트매매가격', '서울_아파트매매가격', '부산_아파트매매가격', '대구_아파트매매가격', '인천_아파트매매가격',\n",
              "       '광주_아파트매매가격', '대전_아파트매매가격', '울산_아파트매매가격', '경기_아파트매매가격', '강원_아파트매매가격',\n",
              "       '충북_아파트매매가격', '충남_아파트매매가격', '전북_아파트매매가격', '전남_아파트매매가격', '경북_아파트매매가격',\n",
              "       '경남_아파트매매가격', '제주_아파트매매가격', '지가지수_전국', '지가지수_서울', '지가지수_부산', '지가지수_대구',\n",
              "       '지가지수_인천', '지가지수_광주', '지가지수_대전', '지가지수_울산', '지가지수_경기', '지가지수_강원',\n",
              "       '지가지수_충북', '지가지수_충남', '지가지수_전북', '지가지수_전남', '지가지수_경북', '지가지수_경남',\n",
              "       '지가지수_제주', '주택담보대출금리'],\n",
              "      dtype='object')"
            ]
          },
          "metadata": {
            "tags": []
          },
          "execution_count": 58
        }
      ]
    },
    {
      "cell_type": "code",
      "metadata": {
        "id": "FqNLDEhrkPuV"
      },
      "source": [
        "from sklearn.linear_model import LinearRegression\n",
        "from sklearn.ensemble import RandomForestRegressor\n",
        "\n",
        "\n",
        "model_busan = RandomForestRegressor(n_estimators=150)\n",
        "\n",
        "\n",
        "all = ['월별_google_trend', '월별_정기예금금리', '월별_소비자물가지수',\n",
        "       '월별_통화량(M2(평잔, 계절조정계열))', '월별_환율',\n",
        "       '월별 아파트 매매현황(동호수)서울', '월별 아파트 매매현황(동호수)부산', '월별 아파트 매매현황(동호수)대구',\n",
        "       '월별 아파트 매매현황(동호수)인천', '월별 아파트 매매현황(동호수)광주', '월별 아파트 매매현황(동호수)대전',\n",
        "       '월별 아파트 매매현황(동호수)울산', '월별 아파트 매매현황(동호수)경기', '월별 아파트 매매현황(동호수)강원',\n",
        "       '월별 아파트 매매현황(동호수)충북', '월별 아파트 매매현황(동호수)충남', '월별 아파트 매매현황(동호수)전북',\n",
        "       '월별 아파트 매매현황(동호수)전남', '월별 아파트 매매현황(동호수)경북', '월별 아파트 매매현황(동호수)경남',\n",
        "       '월별 아파트 매매현황(동호수)제주', '주택인허가실적(전국)',\n",
        "       '서울_아파트매매가격', '부산_아파트매매가격', '대구_아파트매매가격', '인천_아파트매매가격',\n",
        "       '광주_아파트매매가격', '대전_아파트매매가격', '울산_아파트매매가격', '경기_아파트매매가격', '강원_아파트매매가격',\n",
        "       '충북_아파트매매가격', '충남_아파트매매가격', '전북_아파트매매가격', '전남_아파트매매가격', '경북_아파트매매가격',\n",
        "       '경남_아파트매매가격', '제주_아파트매매가격', '지가지수_서울', '지가지수_부산', '지가지수_대구',\n",
        "       '지가지수_인천', '지가지수_광주', '지가지수_대전', '지가지수_울산', '지가지수_경기', '지가지수_강원',\n",
        "       '지가지수_충북', '지가지수_충남', '지가지수_전북', '지가지수_전남', '지가지수_경북', '지가지수_경남',\n",
        "       '지가지수_제주', '주택담보대출금리']\n",
        "\n",
        "train = train[all]\n",
        "test = test[all]"
      ],
      "execution_count": null,
      "outputs": []
    },
    {
      "cell_type": "code",
      "metadata": {
        "id": "6TaQMtVjkP0j"
      },
      "source": [
        "from sklearn.preprocessing import MinMaxScaler\n",
        "\n",
        "sc = MinMaxScaler()\n",
        "\n",
        "train_sc= sc.fit_transform(train)\n",
        "test_sc= sc.transform(test)\n",
        "\n",
        "\n",
        "\n",
        "\n",
        "train = pd.DataFrame(train_sc,columns=['월별_google_trend', '월별_정기예금금리', '월별_소비자물가지수',\n",
        "       '월별_통화량(M2(평잔, 계절조정계열))', '월별_환율',\n",
        "       '월별 아파트 매매현황(동호수)서울', '월별 아파트 매매현황(동호수)부산', '월별 아파트 매매현황(동호수)대구',\n",
        "       '월별 아파트 매매현황(동호수)인천', '월별 아파트 매매현황(동호수)광주', '월별 아파트 매매현황(동호수)대전',\n",
        "       '월별 아파트 매매현황(동호수)울산', '월별 아파트 매매현황(동호수)경기', '월별 아파트 매매현황(동호수)강원',\n",
        "       '월별 아파트 매매현황(동호수)충북', '월별 아파트 매매현황(동호수)충남', '월별 아파트 매매현황(동호수)전북',\n",
        "       '월별 아파트 매매현황(동호수)전남', '월별 아파트 매매현황(동호수)경북', '월별 아파트 매매현황(동호수)경남',\n",
        "       '월별 아파트 매매현황(동호수)제주', '주택인허가실적(전국)',\n",
        "       '서울_아파트매매가격', '부산_아파트매매가격', '대구_아파트매매가격', '인천_아파트매매가격',\n",
        "       '광주_아파트매매가격', '대전_아파트매매가격', '울산_아파트매매가격', '경기_아파트매매가격', '강원_아파트매매가격',\n",
        "       '충북_아파트매매가격', '충남_아파트매매가격', '전북_아파트매매가격', '전남_아파트매매가격', '경북_아파트매매가격',\n",
        "       '경남_아파트매매가격', '제주_아파트매매가격', '지가지수_서울', '지가지수_부산', '지가지수_대구',\n",
        "       '지가지수_인천', '지가지수_광주', '지가지수_대전', '지가지수_울산', '지가지수_경기', '지가지수_강원',\n",
        "       '지가지수_충북', '지가지수_충남', '지가지수_전북', '지가지수_전남', '지가지수_경북', '지가지수_경남',\n",
        "       '지가지수_제주', '주택담보대출금리'] , index=train.index)\n",
        "\n",
        "\n",
        "test = pd.DataFrame(test_sc,columns=['월별_google_trend', '월별_정기예금금리', '월별_소비자물가지수',\n",
        "       '월별_통화량(M2(평잔, 계절조정계열))', '월별_환율',\n",
        "       '월별 아파트 매매현황(동호수)서울', '월별 아파트 매매현황(동호수)부산', '월별 아파트 매매현황(동호수)대구',\n",
        "       '월별 아파트 매매현황(동호수)인천', '월별 아파트 매매현황(동호수)광주', '월별 아파트 매매현황(동호수)대전',\n",
        "       '월별 아파트 매매현황(동호수)울산', '월별 아파트 매매현황(동호수)경기', '월별 아파트 매매현황(동호수)강원',\n",
        "       '월별 아파트 매매현황(동호수)충북', '월별 아파트 매매현황(동호수)충남', '월별 아파트 매매현황(동호수)전북',\n",
        "       '월별 아파트 매매현황(동호수)전남', '월별 아파트 매매현황(동호수)경북', '월별 아파트 매매현황(동호수)경남',\n",
        "       '월별 아파트 매매현황(동호수)제주', '주택인허가실적(전국)',\n",
        "       '서울_아파트매매가격', '부산_아파트매매가격', '대구_아파트매매가격', '인천_아파트매매가격',\n",
        "       '광주_아파트매매가격', '대전_아파트매매가격', '울산_아파트매매가격', '경기_아파트매매가격', '강원_아파트매매가격',\n",
        "       '충북_아파트매매가격', '충남_아파트매매가격', '전북_아파트매매가격', '전남_아파트매매가격', '경북_아파트매매가격',\n",
        "       '경남_아파트매매가격', '제주_아파트매매가격', '지가지수_서울', '지가지수_부산', '지가지수_대구',\n",
        "       '지가지수_인천', '지가지수_광주', '지가지수_대전', '지가지수_울산', '지가지수_경기', '지가지수_강원',\n",
        "       '지가지수_충북', '지가지수_충남', '지가지수_전북', '지가지수_전남', '지가지수_경북', '지가지수_경남',\n",
        "       '지가지수_제주', '주택담보대출금리'] , index=test.index)\n",
        "\n",
        "\n",
        "feature = ['월별_google_trend', '월별_정기예금금리', '월별_소비자물가지수',\n",
        "       '월별_통화량(M2(평잔, 계절조정계열))', '월별_환율',\n",
        "       '월별 아파트 매매현황(동호수)서울', '월별 아파트 매매현황(동호수)부산', '월별 아파트 매매현황(동호수)대구',\n",
        "       '월별 아파트 매매현황(동호수)인천', '월별 아파트 매매현황(동호수)광주', '월별 아파트 매매현황(동호수)대전',\n",
        "       '월별 아파트 매매현황(동호수)울산', '월별 아파트 매매현황(동호수)경기', '월별 아파트 매매현황(동호수)강원',\n",
        "       '월별 아파트 매매현황(동호수)충북', '월별 아파트 매매현황(동호수)충남', '월별 아파트 매매현황(동호수)전북',\n",
        "       '월별 아파트 매매현황(동호수)전남', '월별 아파트 매매현황(동호수)경북', '월별 아파트 매매현황(동호수)경남',\n",
        "       '월별 아파트 매매현황(동호수)제주', '주택인허가실적(전국)',\n",
        "       '서울_아파트매매가격', '대구_아파트매매가격', '인천_아파트매매가격',\n",
        "       '광주_아파트매매가격', '대전_아파트매매가격', '울산_아파트매매가격', '경기_아파트매매가격', '강원_아파트매매가격',\n",
        "       '충북_아파트매매가격', '충남_아파트매매가격', '전북_아파트매매가격', '전남_아파트매매가격', '경북_아파트매매가격',\n",
        "       '경남_아파트매매가격', '제주_아파트매매가격', '지가지수_서울', '지가지수_부산', '지가지수_대구',\n",
        "       '지가지수_인천', '지가지수_광주', '지가지수_대전', '지가지수_울산', '지가지수_경기', '지가지수_강원',\n",
        "       '지가지수_충북', '지가지수_충남', '지가지수_전북', '지가지수_전남', '지가지수_경북', '지가지수_경남',\n",
        "       '지가지수_제주', '주택담보대출금리']\n",
        "\n",
        "target = ['부산_아파트매매가격']\n",
        "\n",
        "\n",
        "\n",
        "\n",
        "X_train = train[feature]\n",
        "y_train = train[target]\n",
        "\n",
        "X_test = test[feature]\n",
        "y_test = test[target]"
      ],
      "execution_count": null,
      "outputs": []
    },
    {
      "cell_type": "code",
      "metadata": {
        "colab": {
          "base_uri": "https://localhost:8080/"
        },
        "id": "sHCTse7nkP6o",
        "outputId": "955f1b04-fdc4-4b80-b9c7-7751f0394e8d"
      },
      "source": [
        "model_busan.fit(X_train, y_train)"
      ],
      "execution_count": null,
      "outputs": [
        {
          "output_type": "stream",
          "text": [
            "/usr/local/lib/python3.7/dist-packages/ipykernel_launcher.py:1: DataConversionWarning: A column-vector y was passed when a 1d array was expected. Please change the shape of y to (n_samples,), for example using ravel().\n",
            "  \"\"\"Entry point for launching an IPython kernel.\n"
          ],
          "name": "stderr"
        },
        {
          "output_type": "execute_result",
          "data": {
            "text/plain": [
              "RandomForestRegressor(bootstrap=True, ccp_alpha=0.0, criterion='mse',\n",
              "                      max_depth=None, max_features='auto', max_leaf_nodes=None,\n",
              "                      max_samples=None, min_impurity_decrease=0.0,\n",
              "                      min_impurity_split=None, min_samples_leaf=1,\n",
              "                      min_samples_split=2, min_weight_fraction_leaf=0.0,\n",
              "                      n_estimators=150, n_jobs=None, oob_score=False,\n",
              "                      random_state=None, verbose=0, warm_start=False)"
            ]
          },
          "metadata": {
            "tags": []
          },
          "execution_count": 62
        }
      ]
    },
    {
      "cell_type": "code",
      "metadata": {
        "colab": {
          "base_uri": "https://localhost:8080/"
        },
        "id": "UIQmijbcnnDy",
        "outputId": "971047df-6c4b-4f68-b125-0dade77f7ac7"
      },
      "source": [
        "from sklearn.metrics import mean_absolute_error\n",
        "y_pred = model_busan.predict(X_train)\n",
        "mae = mean_absolute_error(y_train, y_pred)\n",
        "print(f'훈련 에러: {mae:.2f}')"
      ],
      "execution_count": null,
      "outputs": [
        {
          "output_type": "stream",
          "text": [
            "훈련 에러: 0.01\n"
          ],
          "name": "stdout"
        }
      ]
    },
    {
      "cell_type": "code",
      "metadata": {
        "colab": {
          "base_uri": "https://localhost:8080/"
        },
        "id": "A94IbU9KnnP1",
        "outputId": "044cbc26-2298-4d97-9066-9ce5b5af3fd9"
      },
      "source": [
        "y_pred = model_busan.predict(X_test)\n",
        "mae = mean_absolute_error(y_test, y_pred)\n",
        "print(f'테스트 에러: {mae:.2f}')"
      ],
      "execution_count": null,
      "outputs": [
        {
          "output_type": "stream",
          "text": [
            "테스트 에러: 0.18\n"
          ],
          "name": "stdout"
        }
      ]
    },
    {
      "cell_type": "code",
      "metadata": {
        "colab": {
          "base_uri": "https://localhost:8080/",
          "height": 282
        },
        "id": "Spo_WdpMnnZl",
        "outputId": "a4d5089b-daae-4a1a-b260-2f248ded8a26"
      },
      "source": [
        "fig = plt.figure(figsize = (12, 4)) \n",
        "y_pred = model_busan.predict(X_test)\n",
        "y_pred2 = pd.DataFrame(y_pred, index=X_test.index)\n",
        "#pd.DataFrame(train_sc, index=train.index)\n",
        "#print(y_pred2)\n",
        "plt.plot(y_test, 'o-', label='Predicted')\n",
        "#plt.xticks(X_test.index)\n",
        "plt.plot(y_pred2, 'o-', color='red')"
      ],
      "execution_count": null,
      "outputs": [
        {
          "output_type": "execute_result",
          "data": {
            "text/plain": [
              "[<matplotlib.lines.Line2D at 0x7f30f10921d0>]"
            ]
          },
          "metadata": {
            "tags": []
          },
          "execution_count": 66
        },
        {
          "output_type": "display_data",
          "data": {
            "image/png": "[encoded data removed]",
            "text/plain": [
              "<Figure size 864x288 with 1 Axes>"
            ]
          },
          "metadata": {
            "tags": [],
            "needs_background": "light"
          }
        }
      ]
    },
    {
      "cell_type": "code",
      "metadata": {
        "colab": {
          "base_uri": "https://localhost:8080/",
          "height": 389
        },
        "id": "XKDYYK3EnnnN",
        "outputId": "2ad90e45-2917-405e-b966-e9096fcb4eb9"
      },
      "source": [
        "import matplotlib.pyplot as plt\n",
        "import seaborn as sns\n",
        "\n",
        "\n",
        "importances_values = model_busan.feature_importances_\n",
        "importances = pd.Series(importances_values, index=X_train.columns)\n",
        "top20 = importances.sort_values(ascending=False)[:20]\n",
        "plt.figure(figsize=(8, 6))\n",
        "plt.title('Feature importances Top 20')\n",
        "sns.barplot(x = top20, y = top20.index)\n",
        "plt.show()"
      ],
      "execution_count": null,
      "outputs": [
        {
          "output_type": "display_data",
          "data": {
            "image/png": "[encoded data removed]",
            "text/plain": [
              "<Figure size 576x432 with 1 Axes>"
            ]
          },
          "metadata": {
            "tags": [],
            "needs_background": "light"
          }
        }
      ]
    },
    {
      "cell_type": "markdown",
      "metadata": {
        "id": "-kjVQi8gkJ0k"
      },
      "source": [
        "\n",
        "\n",
        "---\n",
        "\n"
      ]
    },
    {
      "cell_type": "markdown",
      "metadata": {
        "id": "hGs3JfPQpNxG"
      },
      "source": [
        "##RandomForest를 통한  경기도 아파트 매매가 예측"
      ]
    },
    {
      "cell_type": "code",
      "metadata": {
        "id": "snlsewh2pNEd",
        "colab": {
          "base_uri": "https://localhost:8080/"
        },
        "outputId": "e73e1805-aec3-40c6-9dbe-1e237e6f3970"
      },
      "source": [
        "split_date = pd.Timestamp('01-01-2019')\n",
        "\n",
        "train = df.loc[:split_date]\n",
        "test = df.loc[split_date:]\n",
        "len(train), len(test)"
      ],
      "execution_count": null,
      "outputs": [
        {
          "output_type": "execute_result",
          "data": {
            "text/plain": [
              "(145, 28)"
            ]
          },
          "metadata": {
            "tags": []
          },
          "execution_count": 68
        }
      ]
    },
    {
      "cell_type": "code",
      "metadata": {
        "id": "z0QYuyw1pUS_",
        "colab": {
          "base_uri": "https://localhost:8080/"
        },
        "outputId": "750a2652-bbcf-4d1a-bd9d-9d155752fcf3"
      },
      "source": [
        "df.columns"
      ],
      "execution_count": null,
      "outputs": [
        {
          "output_type": "execute_result",
          "data": {
            "text/plain": [
              "Index(['월별_google_trend', '전국지가지수', '월별_정기예금금리', '월별_소비자물가지수',\n",
              "       '월별_통화량(M2(평잔, 계절조정계열))', '월별_환율', '월별 아파트 매매현황(동호수)전국',\n",
              "       '월별 아파트 매매현황(동호수)서울', '월별 아파트 매매현황(동호수)부산', '월별 아파트 매매현황(동호수)대구',\n",
              "       '월별 아파트 매매현황(동호수)인천', '월별 아파트 매매현황(동호수)광주', '월별 아파트 매매현황(동호수)대전',\n",
              "       '월별 아파트 매매현황(동호수)울산', '월별 아파트 매매현황(동호수)경기', '월별 아파트 매매현황(동호수)강원',\n",
              "       '월별 아파트 매매현황(동호수)충북', '월별 아파트 매매현황(동호수)충남', '월별 아파트 매매현황(동호수)전북',\n",
              "       '월별 아파트 매매현황(동호수)전남', '월별 아파트 매매현황(동호수)경북', '월별 아파트 매매현황(동호수)경남',\n",
              "       '월별 아파트 매매현황(동호수)제주', '주택인허가실적(전국)', '전국_아파트매매가격', '수도권_아파트매매가격',\n",
              "       '지방_아파트매매가격', '서울_아파트매매가격', '부산_아파트매매가격', '대구_아파트매매가격', '인천_아파트매매가격',\n",
              "       '광주_아파트매매가격', '대전_아파트매매가격', '울산_아파트매매가격', '경기_아파트매매가격', '강원_아파트매매가격',\n",
              "       '충북_아파트매매가격', '충남_아파트매매가격', '전북_아파트매매가격', '전남_아파트매매가격', '경북_아파트매매가격',\n",
              "       '경남_아파트매매가격', '제주_아파트매매가격', '지가지수_전국', '지가지수_서울', '지가지수_부산', '지가지수_대구',\n",
              "       '지가지수_인천', '지가지수_광주', '지가지수_대전', '지가지수_울산', '지가지수_경기', '지가지수_강원',\n",
              "       '지가지수_충북', '지가지수_충남', '지가지수_전북', '지가지수_전남', '지가지수_경북', '지가지수_경남',\n",
              "       '지가지수_제주', '주택담보대출금리'],\n",
              "      dtype='object')"
            ]
          },
          "metadata": {
            "tags": []
          },
          "execution_count": 69
        }
      ]
    },
    {
      "cell_type": "code",
      "metadata": {
        "id": "_lCw9HV3pUed"
      },
      "source": [
        "from sklearn.linear_model import LinearRegression\n",
        "from sklearn.ensemble import RandomForestRegressor\n",
        "\n",
        "\n",
        "model_kyungki = RandomForestRegressor(n_estimators=150)\n",
        "\n",
        "\n",
        "all = ['월별_google_trend', '월별_정기예금금리', '월별_소비자물가지수',\n",
        "       '월별_통화량(M2(평잔, 계절조정계열))', '월별_환율',\n",
        "       '월별 아파트 매매현황(동호수)서울', '월별 아파트 매매현황(동호수)부산', '월별 아파트 매매현황(동호수)대구',\n",
        "       '월별 아파트 매매현황(동호수)인천', '월별 아파트 매매현황(동호수)광주', '월별 아파트 매매현황(동호수)대전',\n",
        "       '월별 아파트 매매현황(동호수)울산', '월별 아파트 매매현황(동호수)경기', '월별 아파트 매매현황(동호수)강원',\n",
        "       '월별 아파트 매매현황(동호수)충북', '월별 아파트 매매현황(동호수)충남', '월별 아파트 매매현황(동호수)전북',\n",
        "       '월별 아파트 매매현황(동호수)전남', '월별 아파트 매매현황(동호수)경북', '월별 아파트 매매현황(동호수)경남',\n",
        "       '월별 아파트 매매현황(동호수)제주', '주택인허가실적(전국)',\n",
        "       '서울_아파트매매가격', '부산_아파트매매가격', '대구_아파트매매가격', '인천_아파트매매가격',\n",
        "       '광주_아파트매매가격', '대전_아파트매매가격', '울산_아파트매매가격', '경기_아파트매매가격', '강원_아파트매매가격',\n",
        "       '충북_아파트매매가격', '충남_아파트매매가격', '전북_아파트매매가격', '전남_아파트매매가격', '경북_아파트매매가격',\n",
        "       '경남_아파트매매가격', '제주_아파트매매가격', '지가지수_서울', '지가지수_부산', '지가지수_대구',\n",
        "       '지가지수_인천', '지가지수_광주', '지가지수_대전', '지가지수_울산', '지가지수_경기', '지가지수_강원',\n",
        "       '지가지수_충북', '지가지수_충남', '지가지수_전북', '지가지수_전남', '지가지수_경북', '지가지수_경남',\n",
        "       '지가지수_제주', '주택담보대출금리']\n",
        "\n",
        "train = train[all]\n",
        "test = test[all]"
      ],
      "execution_count": null,
      "outputs": []
    },
    {
      "cell_type": "code",
      "metadata": {
        "id": "q1NY-A80pUpD"
      },
      "source": [
        "from sklearn.preprocessing import MinMaxScaler\n",
        "\n",
        "sc = MinMaxScaler()\n",
        "\n",
        "train_sc= sc.fit_transform(train)\n",
        "test_sc= sc.transform(test)\n",
        "\n",
        "\n",
        "\n",
        "\n",
        "train = pd.DataFrame(train_sc,columns=['월별_google_trend', '월별_정기예금금리', '월별_소비자물가지수',\n",
        "       '월별_통화량(M2(평잔, 계절조정계열))', '월별_환율',\n",
        "       '월별 아파트 매매현황(동호수)서울', '월별 아파트 매매현황(동호수)부산', '월별 아파트 매매현황(동호수)대구',\n",
        "       '월별 아파트 매매현황(동호수)인천', '월별 아파트 매매현황(동호수)광주', '월별 아파트 매매현황(동호수)대전',\n",
        "       '월별 아파트 매매현황(동호수)울산', '월별 아파트 매매현황(동호수)경기', '월별 아파트 매매현황(동호수)강원',\n",
        "       '월별 아파트 매매현황(동호수)충북', '월별 아파트 매매현황(동호수)충남', '월별 아파트 매매현황(동호수)전북',\n",
        "       '월별 아파트 매매현황(동호수)전남', '월별 아파트 매매현황(동호수)경북', '월별 아파트 매매현황(동호수)경남',\n",
        "       '월별 아파트 매매현황(동호수)제주', '주택인허가실적(전국)',\n",
        "       '서울_아파트매매가격', '부산_아파트매매가격', '대구_아파트매매가격', '인천_아파트매매가격',\n",
        "       '광주_아파트매매가격', '대전_아파트매매가격', '울산_아파트매매가격', '경기_아파트매매가격', '강원_아파트매매가격',\n",
        "       '충북_아파트매매가격', '충남_아파트매매가격', '전북_아파트매매가격', '전남_아파트매매가격', '경북_아파트매매가격',\n",
        "       '경남_아파트매매가격', '제주_아파트매매가격', '지가지수_서울', '지가지수_부산', '지가지수_대구',\n",
        "       '지가지수_인천', '지가지수_광주', '지가지수_대전', '지가지수_울산', '지가지수_경기', '지가지수_강원',\n",
        "       '지가지수_충북', '지가지수_충남', '지가지수_전북', '지가지수_전남', '지가지수_경북', '지가지수_경남',\n",
        "       '지가지수_제주', '주택담보대출금리'] , index=train.index)\n",
        "\n",
        "\n",
        "test = pd.DataFrame(test_sc,columns=['월별_google_trend', '월별_정기예금금리', '월별_소비자물가지수',\n",
        "       '월별_통화량(M2(평잔, 계절조정계열))', '월별_환율',\n",
        "       '월별 아파트 매매현황(동호수)서울', '월별 아파트 매매현황(동호수)부산', '월별 아파트 매매현황(동호수)대구',\n",
        "       '월별 아파트 매매현황(동호수)인천', '월별 아파트 매매현황(동호수)광주', '월별 아파트 매매현황(동호수)대전',\n",
        "       '월별 아파트 매매현황(동호수)울산', '월별 아파트 매매현황(동호수)경기', '월별 아파트 매매현황(동호수)강원',\n",
        "       '월별 아파트 매매현황(동호수)충북', '월별 아파트 매매현황(동호수)충남', '월별 아파트 매매현황(동호수)전북',\n",
        "       '월별 아파트 매매현황(동호수)전남', '월별 아파트 매매현황(동호수)경북', '월별 아파트 매매현황(동호수)경남',\n",
        "       '월별 아파트 매매현황(동호수)제주', '주택인허가실적(전국)',\n",
        "       '서울_아파트매매가격', '부산_아파트매매가격', '대구_아파트매매가격', '인천_아파트매매가격',\n",
        "       '광주_아파트매매가격', '대전_아파트매매가격', '울산_아파트매매가격', '경기_아파트매매가격', '강원_아파트매매가격',\n",
        "       '충북_아파트매매가격', '충남_아파트매매가격', '전북_아파트매매가격', '전남_아파트매매가격', '경북_아파트매매가격',\n",
        "       '경남_아파트매매가격', '제주_아파트매매가격', '지가지수_서울', '지가지수_부산', '지가지수_대구',\n",
        "       '지가지수_인천', '지가지수_광주', '지가지수_대전', '지가지수_울산', '지가지수_경기', '지가지수_강원',\n",
        "       '지가지수_충북', '지가지수_충남', '지가지수_전북', '지가지수_전남', '지가지수_경북', '지가지수_경남',\n",
        "       '지가지수_제주', '주택담보대출금리'] , index=test.index)\n",
        "\n",
        "\n",
        "feature = ['월별_google_trend', '월별_정기예금금리', '월별_소비자물가지수',\n",
        "       '월별_통화량(M2(평잔, 계절조정계열))', '월별_환율',\n",
        "       '월별 아파트 매매현황(동호수)서울', '월별 아파트 매매현황(동호수)부산', '월별 아파트 매매현황(동호수)대구',\n",
        "       '월별 아파트 매매현황(동호수)인천', '월별 아파트 매매현황(동호수)광주', '월별 아파트 매매현황(동호수)대전',\n",
        "       '월별 아파트 매매현황(동호수)울산', '월별 아파트 매매현황(동호수)경기', '월별 아파트 매매현황(동호수)강원',\n",
        "       '월별 아파트 매매현황(동호수)충북', '월별 아파트 매매현황(동호수)충남', '월별 아파트 매매현황(동호수)전북',\n",
        "       '월별 아파트 매매현황(동호수)전남', '월별 아파트 매매현황(동호수)경북', '월별 아파트 매매현황(동호수)경남',\n",
        "       '월별 아파트 매매현황(동호수)제주', '주택인허가실적(전국)',\n",
        "       '서울_아파트매매가격', '부산_아파트매매가격','대구_아파트매매가격', '인천_아파트매매가격',\n",
        "       '광주_아파트매매가격', '대전_아파트매매가격', '울산_아파트매매가격', '강원_아파트매매가격',\n",
        "       '충북_아파트매매가격', '충남_아파트매매가격', '전북_아파트매매가격', '전남_아파트매매가격', '경북_아파트매매가격',\n",
        "       '경남_아파트매매가격', '제주_아파트매매가격', '지가지수_서울', '지가지수_부산', '지가지수_대구',\n",
        "       '지가지수_인천', '지가지수_광주', '지가지수_대전', '지가지수_울산', '지가지수_경기', '지가지수_강원',\n",
        "       '지가지수_충북', '지가지수_충남', '지가지수_전북', '지가지수_전남', '지가지수_경북', '지가지수_경남',\n",
        "       '지가지수_제주', '주택담보대출금리']\n",
        "\n",
        "target = ['경기_아파트매매가격']\n",
        "\n",
        "\n",
        "\n",
        "\n",
        "X_train = train[feature]\n",
        "y_train = train[target]\n",
        "\n",
        "X_test = test[feature]\n",
        "y_test = test[target]"
      ],
      "execution_count": null,
      "outputs": []
    },
    {
      "cell_type": "code",
      "metadata": {
        "colab": {
          "base_uri": "https://localhost:8080/"
        },
        "id": "CBezHQVrpUzS",
        "outputId": "93b3e50d-9cc5-4f5d-efd9-d03de834919e"
      },
      "source": [
        "model_kyungki.fit(X_train, y_train)"
      ],
      "execution_count": null,
      "outputs": [
        {
          "output_type": "stream",
          "text": [
            "/usr/local/lib/python3.7/dist-packages/ipykernel_launcher.py:1: DataConversionWarning: A column-vector y was passed when a 1d array was expected. Please change the shape of y to (n_samples,), for example using ravel().\n",
            "  \"\"\"Entry point for launching an IPython kernel.\n"
          ],
          "name": "stderr"
        },
        {
          "output_type": "execute_result",
          "data": {
            "text/plain": [
              "RandomForestRegressor(bootstrap=True, ccp_alpha=0.0, criterion='mse',\n",
              "                      max_depth=None, max_features='auto', max_leaf_nodes=None,\n",
              "                      max_samples=None, min_impurity_decrease=0.0,\n",
              "                      min_impurity_split=None, min_samples_leaf=1,\n",
              "                      min_samples_split=2, min_weight_fraction_leaf=0.0,\n",
              "                      n_estimators=150, n_jobs=None, oob_score=False,\n",
              "                      random_state=None, verbose=0, warm_start=False)"
            ]
          },
          "metadata": {
            "tags": []
          },
          "execution_count": 73
        }
      ]
    },
    {
      "cell_type": "code",
      "metadata": {
        "colab": {
          "base_uri": "https://localhost:8080/"
        },
        "id": "oBG3j2DQpU8k",
        "outputId": "392cbc54-abc1-4998-c53d-882c75b65906"
      },
      "source": [
        "from sklearn.metrics import mean_absolute_error\n",
        "y_pred = model_kyungki.predict(X_train)\n",
        "mae = mean_absolute_error(y_train, y_pred)\n",
        "print(f'훈련 에러: {mae:.2f}')"
      ],
      "execution_count": null,
      "outputs": [
        {
          "output_type": "stream",
          "text": [
            "훈련 에러: 0.01\n"
          ],
          "name": "stdout"
        }
      ]
    },
    {
      "cell_type": "code",
      "metadata": {
        "colab": {
          "base_uri": "https://localhost:8080/"
        },
        "id": "tmcWm-0VpVFu",
        "outputId": "9f11acc9-a9e6-43aa-b426-cbc72ef52c53"
      },
      "source": [
        "y_pred = model_kyungki.predict(X_test)\n",
        "mae = mean_absolute_error(y_test, y_pred)\n",
        "print(f'테스트 에러: {mae:.2f}')"
      ],
      "execution_count": null,
      "outputs": [
        {
          "output_type": "stream",
          "text": [
            "테스트 에러: 0.23\n"
          ],
          "name": "stdout"
        }
      ]
    },
    {
      "cell_type": "code",
      "metadata": {
        "colab": {
          "base_uri": "https://localhost:8080/",
          "height": 282
        },
        "id": "LAKkPI3bqGbp",
        "outputId": "58b45da7-4f8d-411c-f716-55c6265d7145"
      },
      "source": [
        "fig = plt.figure(figsize = (12, 4)) \n",
        "y_pred = model_kyungki.predict(X_test)\n",
        "y_pred2 = pd.DataFrame(y_pred, index=X_test.index)\n",
        "#pd.DataFrame(train_sc, index=train.index)\n",
        "#print(y_pred2)\n",
        "plt.plot(y_test, 'o-', label='Predicted')\n",
        "#plt.xticks(X_test.index)\n",
        "plt.plot(y_pred2, 'o-', color='red')"
      ],
      "execution_count": null,
      "outputs": [
        {
          "output_type": "execute_result",
          "data": {
            "text/plain": [
              "[<matplotlib.lines.Line2D at 0x7f30f0f1d6d0>]"
            ]
          },
          "metadata": {
            "tags": []
          },
          "execution_count": 76
        },
        {
          "output_type": "display_data",
          "data": {
            "image/png": "[encoded data removed]",
            "text/plain": [
              "<Figure size 864x288 with 1 Axes>"
            ]
          },
          "metadata": {
            "tags": [],
            "needs_background": "light"
          }
        }
      ]
    },
    {
      "cell_type": "code",
      "metadata": {
        "colab": {
          "base_uri": "https://localhost:8080/",
          "height": 389
        },
        "id": "kraT0BvyqGjt",
        "outputId": "f9df2d54-835d-45ab-bd75-701026b55af4"
      },
      "source": [
        "import matplotlib.pyplot as plt\n",
        "import seaborn as sns\n",
        "\n",
        "\n",
        "importances_values = model_kyungki.feature_importances_\n",
        "importances = pd.Series(importances_values, index=X_train.columns)\n",
        "top20 = importances.sort_values(ascending=False)[:20]\n",
        "plt.figure(figsize=(8, 6))\n",
        "plt.title('Feature importances Top 20')\n",
        "sns.barplot(x = top20, y = top20.index)\n",
        "plt.show()"
      ],
      "execution_count": null,
      "outputs": [
        {
          "output_type": "display_data",
          "data": {
            "image/png": "[encoded data removed]",
            "text/plain": [
              "<Figure size 576x432 with 1 Axes>"
            ]
          },
          "metadata": {
            "tags": [],
            "needs_background": "light"
          }
        }
      ]
    },
    {
      "cell_type": "markdown",
      "metadata": {
        "id": "gB84nN-VqG2y"
      },
      "source": [
        "\n",
        "\n",
        "---\n",
        "\n"
      ]
    },
    {
      "cell_type": "markdown",
      "metadata": {
        "id": "5EVACejxs0YR"
      },
      "source": [
        "##RandomForest를 통한 인천 아파트 매매가 예측"
      ]
    },
    {
      "cell_type": "code",
      "metadata": {
        "id": "pToRWaXDs43_",
        "colab": {
          "base_uri": "https://localhost:8080/"
        },
        "outputId": "c72ea5fa-4e1b-42ab-e308-eb1f433ee1a2"
      },
      "source": [
        "split_date = pd.Timestamp('01-01-2019')\n",
        "\n",
        "train = df.loc[:split_date]\n",
        "test = df.loc[split_date:]\n",
        "len(train), len(test)"
      ],
      "execution_count": null,
      "outputs": [
        {
          "output_type": "execute_result",
          "data": {
            "text/plain": [
              "(145, 28)"
            ]
          },
          "metadata": {
            "tags": []
          },
          "execution_count": 91
        }
      ]
    },
    {
      "cell_type": "code",
      "metadata": {
        "id": "ni8G2gfDs5B1",
        "colab": {
          "base_uri": "https://localhost:8080/"
        },
        "outputId": "4dab54c6-66e0-48bd-b480-91d4ebb16c03"
      },
      "source": [
        "df.columns"
      ],
      "execution_count": null,
      "outputs": [
        {
          "output_type": "execute_result",
          "data": {
            "text/plain": [
              "Index(['월별_google_trend', '전국지가지수', '월별_정기예금금리', '월별_소비자물가지수',\n",
              "       '월별_통화량(M2(평잔, 계절조정계열))', '월별_환율', '월별 아파트 매매현황(동호수)전국',\n",
              "       '월별 아파트 매매현황(동호수)서울', '월별 아파트 매매현황(동호수)부산', '월별 아파트 매매현황(동호수)대구',\n",
              "       '월별 아파트 매매현황(동호수)인천', '월별 아파트 매매현황(동호수)광주', '월별 아파트 매매현황(동호수)대전',\n",
              "       '월별 아파트 매매현황(동호수)울산', '월별 아파트 매매현황(동호수)경기', '월별 아파트 매매현황(동호수)강원',\n",
              "       '월별 아파트 매매현황(동호수)충북', '월별 아파트 매매현황(동호수)충남', '월별 아파트 매매현황(동호수)전북',\n",
              "       '월별 아파트 매매현황(동호수)전남', '월별 아파트 매매현황(동호수)경북', '월별 아파트 매매현황(동호수)경남',\n",
              "       '월별 아파트 매매현황(동호수)제주', '주택인허가실적(전국)', '전국_아파트매매가격', '수도권_아파트매매가격',\n",
              "       '지방_아파트매매가격', '서울_아파트매매가격', '부산_아파트매매가격', '대구_아파트매매가격', '인천_아파트매매가격',\n",
              "       '광주_아파트매매가격', '대전_아파트매매가격', '울산_아파트매매가격', '경기_아파트매매가격', '강원_아파트매매가격',\n",
              "       '충북_아파트매매가격', '충남_아파트매매가격', '전북_아파트매매가격', '전남_아파트매매가격', '경북_아파트매매가격',\n",
              "       '경남_아파트매매가격', '제주_아파트매매가격', '지가지수_전국', '지가지수_서울', '지가지수_부산', '지가지수_대구',\n",
              "       '지가지수_인천', '지가지수_광주', '지가지수_대전', '지가지수_울산', '지가지수_경기', '지가지수_강원',\n",
              "       '지가지수_충북', '지가지수_충남', '지가지수_전북', '지가지수_전남', '지가지수_경북', '지가지수_경남',\n",
              "       '지가지수_제주', '주택담보대출금리'],\n",
              "      dtype='object')"
            ]
          },
          "metadata": {
            "tags": []
          },
          "execution_count": 92
        }
      ]
    },
    {
      "cell_type": "code",
      "metadata": {
        "id": "gQ8auLyzs5Kq"
      },
      "source": [
        "from sklearn.linear_model import LinearRegression\n",
        "from sklearn.ensemble import RandomForestRegressor\n",
        "\n",
        "\n",
        "model_incheon = RandomForestRegressor(n_estimators=150)\n",
        "\n",
        "\n",
        "all = ['월별_google_trend', '월별_정기예금금리', '월별_소비자물가지수',\n",
        "       '월별_통화량(M2(평잔, 계절조정계열))', '월별_환율',\n",
        "       '월별 아파트 매매현황(동호수)서울', '월별 아파트 매매현황(동호수)부산', '월별 아파트 매매현황(동호수)대구',\n",
        "       '월별 아파트 매매현황(동호수)인천', '월별 아파트 매매현황(동호수)광주', '월별 아파트 매매현황(동호수)대전',\n",
        "       '월별 아파트 매매현황(동호수)울산', '월별 아파트 매매현황(동호수)경기', '월별 아파트 매매현황(동호수)강원',\n",
        "       '월별 아파트 매매현황(동호수)충북', '월별 아파트 매매현황(동호수)충남', '월별 아파트 매매현황(동호수)전북',\n",
        "       '월별 아파트 매매현황(동호수)전남', '월별 아파트 매매현황(동호수)경북', '월별 아파트 매매현황(동호수)경남',\n",
        "       '월별 아파트 매매현황(동호수)제주', '주택인허가실적(전국)',\n",
        "       '서울_아파트매매가격', '부산_아파트매매가격', '대구_아파트매매가격', '인천_아파트매매가격',\n",
        "       '광주_아파트매매가격', '대전_아파트매매가격', '울산_아파트매매가격', '경기_아파트매매가격', '강원_아파트매매가격',\n",
        "       '충북_아파트매매가격', '충남_아파트매매가격', '전북_아파트매매가격', '전남_아파트매매가격', '경북_아파트매매가격',\n",
        "       '경남_아파트매매가격', '제주_아파트매매가격', '지가지수_서울', '지가지수_부산', '지가지수_대구',\n",
        "       '지가지수_인천', '지가지수_광주', '지가지수_대전', '지가지수_울산', '지가지수_경기', '지가지수_강원',\n",
        "       '지가지수_충북', '지가지수_충남', '지가지수_전북', '지가지수_전남', '지가지수_경북', '지가지수_경남',\n",
        "       '지가지수_제주', '주택담보대출금리']\n",
        "\n",
        "train = train[all]\n",
        "test = test[all]"
      ],
      "execution_count": null,
      "outputs": []
    },
    {
      "cell_type": "code",
      "metadata": {
        "id": "w6z-BllEtNds"
      },
      "source": [
        "from sklearn.preprocessing import MinMaxScaler\n",
        "\n",
        "sc = MinMaxScaler()\n",
        "\n",
        "train_sc= sc.fit_transform(train)\n",
        "test_sc= sc.transform(test)\n",
        "\n",
        "\n",
        "\n",
        "\n",
        "train = pd.DataFrame(train_sc,columns=['월별_google_trend', '월별_정기예금금리', '월별_소비자물가지수',\n",
        "       '월별_통화량(M2(평잔, 계절조정계열))', '월별_환율',\n",
        "       '월별 아파트 매매현황(동호수)서울', '월별 아파트 매매현황(동호수)부산', '월별 아파트 매매현황(동호수)대구',\n",
        "       '월별 아파트 매매현황(동호수)인천', '월별 아파트 매매현황(동호수)광주', '월별 아파트 매매현황(동호수)대전',\n",
        "       '월별 아파트 매매현황(동호수)울산', '월별 아파트 매매현황(동호수)경기', '월별 아파트 매매현황(동호수)강원',\n",
        "       '월별 아파트 매매현황(동호수)충북', '월별 아파트 매매현황(동호수)충남', '월별 아파트 매매현황(동호수)전북',\n",
        "       '월별 아파트 매매현황(동호수)전남', '월별 아파트 매매현황(동호수)경북', '월별 아파트 매매현황(동호수)경남',\n",
        "       '월별 아파트 매매현황(동호수)제주', '주택인허가실적(전국)',\n",
        "       '서울_아파트매매가격', '부산_아파트매매가격', '대구_아파트매매가격', '인천_아파트매매가격',\n",
        "       '광주_아파트매매가격', '대전_아파트매매가격', '울산_아파트매매가격', '경기_아파트매매가격', '강원_아파트매매가격',\n",
        "       '충북_아파트매매가격', '충남_아파트매매가격', '전북_아파트매매가격', '전남_아파트매매가격', '경북_아파트매매가격',\n",
        "       '경남_아파트매매가격', '제주_아파트매매가격', '지가지수_서울', '지가지수_부산', '지가지수_대구',\n",
        "       '지가지수_인천', '지가지수_광주', '지가지수_대전', '지가지수_울산', '지가지수_경기', '지가지수_강원',\n",
        "       '지가지수_충북', '지가지수_충남', '지가지수_전북', '지가지수_전남', '지가지수_경북', '지가지수_경남',\n",
        "       '지가지수_제주', '주택담보대출금리'] , index=train.index)\n",
        "\n",
        "\n",
        "test = pd.DataFrame(test_sc,columns=['월별_google_trend', '월별_정기예금금리', '월별_소비자물가지수',\n",
        "       '월별_통화량(M2(평잔, 계절조정계열))', '월별_환율',\n",
        "       '월별 아파트 매매현황(동호수)서울', '월별 아파트 매매현황(동호수)부산', '월별 아파트 매매현황(동호수)대구',\n",
        "       '월별 아파트 매매현황(동호수)인천', '월별 아파트 매매현황(동호수)광주', '월별 아파트 매매현황(동호수)대전',\n",
        "       '월별 아파트 매매현황(동호수)울산', '월별 아파트 매매현황(동호수)경기', '월별 아파트 매매현황(동호수)강원',\n",
        "       '월별 아파트 매매현황(동호수)충북', '월별 아파트 매매현황(동호수)충남', '월별 아파트 매매현황(동호수)전북',\n",
        "       '월별 아파트 매매현황(동호수)전남', '월별 아파트 매매현황(동호수)경북', '월별 아파트 매매현황(동호수)경남',\n",
        "       '월별 아파트 매매현황(동호수)제주', '주택인허가실적(전국)',\n",
        "       '서울_아파트매매가격', '부산_아파트매매가격', '대구_아파트매매가격', '인천_아파트매매가격',\n",
        "       '광주_아파트매매가격', '대전_아파트매매가격', '울산_아파트매매가격', '경기_아파트매매가격', '강원_아파트매매가격',\n",
        "       '충북_아파트매매가격', '충남_아파트매매가격', '전북_아파트매매가격', '전남_아파트매매가격', '경북_아파트매매가격',\n",
        "       '경남_아파트매매가격', '제주_아파트매매가격', '지가지수_서울', '지가지수_부산', '지가지수_대구',\n",
        "       '지가지수_인천', '지가지수_광주', '지가지수_대전', '지가지수_울산', '지가지수_경기', '지가지수_강원',\n",
        "       '지가지수_충북', '지가지수_충남', '지가지수_전북', '지가지수_전남', '지가지수_경북', '지가지수_경남',\n",
        "       '지가지수_제주', '주택담보대출금리'] , index=test.index)\n",
        "\n",
        "\n",
        "feature = ['월별_google_trend', '월별_정기예금금리', '월별_소비자물가지수',\n",
        "       '월별_통화량(M2(평잔, 계절조정계열))', '월별_환율',\n",
        "       '월별 아파트 매매현황(동호수)서울', '월별 아파트 매매현황(동호수)부산', '월별 아파트 매매현황(동호수)대구',\n",
        "       '월별 아파트 매매현황(동호수)인천', '월별 아파트 매매현황(동호수)광주', '월별 아파트 매매현황(동호수)대전',\n",
        "       '월별 아파트 매매현황(동호수)울산', '월별 아파트 매매현황(동호수)경기', '월별 아파트 매매현황(동호수)강원',\n",
        "       '월별 아파트 매매현황(동호수)충북', '월별 아파트 매매현황(동호수)충남', '월별 아파트 매매현황(동호수)전북',\n",
        "       '월별 아파트 매매현황(동호수)전남', '월별 아파트 매매현황(동호수)경북', '월별 아파트 매매현황(동호수)경남',\n",
        "       '월별 아파트 매매현황(동호수)제주', '주택인허가실적(전국)',\n",
        "       '서울_아파트매매가격', '부산_아파트매매가격','대구_아파트매매가격',\n",
        "       '광주_아파트매매가격', '대전_아파트매매가격', '울산_아파트매매가격', '경기_아파트매매가격','강원_아파트매매가격',\n",
        "       '충북_아파트매매가격', '충남_아파트매매가격', '전북_아파트매매가격', '전남_아파트매매가격', '경북_아파트매매가격',\n",
        "       '경남_아파트매매가격', '제주_아파트매매가격', '지가지수_서울', '지가지수_부산', '지가지수_대구',\n",
        "       '지가지수_인천', '지가지수_광주', '지가지수_대전', '지가지수_울산', '지가지수_경기', '지가지수_강원',\n",
        "       '지가지수_충북', '지가지수_충남', '지가지수_전북', '지가지수_전남', '지가지수_경북', '지가지수_경남',\n",
        "       '지가지수_제주', '주택담보대출금리']\n",
        "\n",
        "target = ['인천_아파트매매가격']\n",
        "\n",
        "\n",
        "\n",
        "\n",
        "X_train = train[feature]\n",
        "y_train = train[target]\n",
        "\n",
        "X_test = test[feature]\n",
        "y_test = test[target]"
      ],
      "execution_count": null,
      "outputs": []
    },
    {
      "cell_type": "code",
      "metadata": {
        "colab": {
          "base_uri": "https://localhost:8080/"
        },
        "id": "NSKgeiLetgZS",
        "outputId": "85aafaa4-772b-4ed5-c648-da959133f3e9"
      },
      "source": [
        "model_incheon.fit(X_train, y_train)"
      ],
      "execution_count": null,
      "outputs": [
        {
          "output_type": "stream",
          "text": [
            "/usr/local/lib/python3.7/dist-packages/ipykernel_launcher.py:1: DataConversionWarning: A column-vector y was passed when a 1d array was expected. Please change the shape of y to (n_samples,), for example using ravel().\n",
            "  \"\"\"Entry point for launching an IPython kernel.\n"
          ],
          "name": "stderr"
        },
        {
          "output_type": "execute_result",
          "data": {
            "text/plain": [
              "RandomForestRegressor(bootstrap=True, ccp_alpha=0.0, criterion='mse',\n",
              "                      max_depth=None, max_features='auto', max_leaf_nodes=None,\n",
              "                      max_samples=None, min_impurity_decrease=0.0,\n",
              "                      min_impurity_split=None, min_samples_leaf=1,\n",
              "                      min_samples_split=2, min_weight_fraction_leaf=0.0,\n",
              "                      n_estimators=150, n_jobs=None, oob_score=False,\n",
              "                      random_state=None, verbose=0, warm_start=False)"
            ]
          },
          "metadata": {
            "tags": []
          },
          "execution_count": 95
        }
      ]
    },
    {
      "cell_type": "code",
      "metadata": {
        "colab": {
          "base_uri": "https://localhost:8080/"
        },
        "id": "QkspiqB9tgZS",
        "outputId": "14c6ae16-03b1-422a-e7e4-9316c27e5d48"
      },
      "source": [
        "from sklearn.metrics import mean_absolute_error\n",
        "y_pred = model_incheon.predict(X_train)\n",
        "mae = mean_absolute_error(y_train, y_pred)\n",
        "print(f'훈련 에러: {mae:.2f}')"
      ],
      "execution_count": null,
      "outputs": [
        {
          "output_type": "stream",
          "text": [
            "훈련 에러: 0.01\n"
          ],
          "name": "stdout"
        }
      ]
    },
    {
      "cell_type": "code",
      "metadata": {
        "colab": {
          "base_uri": "https://localhost:8080/"
        },
        "id": "3bZt0HtQtgZS",
        "outputId": "dc6d70dd-fa1f-4c16-a578-ff36ed3c17db"
      },
      "source": [
        "y_pred = model_incheon.predict(X_test)\n",
        "mae = mean_absolute_error(y_test, y_pred)\n",
        "print(f'테스트 에러: {mae:.2f}')"
      ],
      "execution_count": null,
      "outputs": [
        {
          "output_type": "stream",
          "text": [
            "테스트 에러: 0.20\n"
          ],
          "name": "stdout"
        }
      ]
    },
    {
      "cell_type": "code",
      "metadata": {
        "colab": {
          "base_uri": "https://localhost:8080/",
          "height": 282
        },
        "id": "ndzCGBxHtgZS",
        "outputId": "fcb657b4-de22-4cbb-ab69-5f434f56387e"
      },
      "source": [
        "fig = plt.figure(figsize = (12, 4)) \n",
        "y_pred = model_incheon.predict(X_test)\n",
        "y_pred2 = pd.DataFrame(y_pred, index=X_test.index)\n",
        "#pd.DataFrame(train_sc, index=train.index)\n",
        "#print(y_pred2)\n",
        "plt.plot(y_test, 'o-', label='Predicted')\n",
        "#plt.xticks(X_test.index)\n",
        "plt.plot(y_pred2, 'o-', color='red')"
      ],
      "execution_count": null,
      "outputs": [
        {
          "output_type": "execute_result",
          "data": {
            "text/plain": [
              "[<matplotlib.lines.Line2D at 0x7f30f0d510d0>]"
            ]
          },
          "metadata": {
            "tags": []
          },
          "execution_count": 98
        },
        {
          "output_type": "display_data",
          "data": {
            "image/png": "[encoded data removed]",
            "text/plain": [
              "<Figure size 864x288 with 1 Axes>"
            ]
          },
          "metadata": {
            "tags": [],
            "needs_background": "light"
          }
        }
      ]
    },
    {
      "cell_type": "code",
      "metadata": {
        "colab": {
          "base_uri": "https://localhost:8080/",
          "height": 389
        },
        "id": "ZVu-KjO2tgZT",
        "outputId": "a9bbb7c4-baca-4161-9180-97505b739727"
      },
      "source": [
        "import matplotlib.pyplot as plt\n",
        "import seaborn as sns\n",
        "\n",
        "\n",
        "importances_values =model_incheon.feature_importances_\n",
        "importances = pd.Series(importances_values, index=X_train.columns)\n",
        "top20 = importances.sort_values(ascending=False)[:20]\n",
        "plt.figure(figsize=(8, 6))\n",
        "plt.title('Feature importances Top 20')\n",
        "sns.barplot(x = top20, y = top20.index)\n",
        "plt.show()"
      ],
      "execution_count": null,
      "outputs": [
        {
          "output_type": "display_data",
          "data": {
            "image/png": "[encoded data removed]",
            "text/plain": [
              "<Figure size 576x432 with 1 Axes>"
            ]
          },
          "metadata": {
            "tags": [],
            "needs_background": "light"
          }
        }
      ]
    },
    {
      "cell_type": "markdown",
      "metadata": {
        "id": "r2uPBMrl-jqF"
      },
      "source": [
        "\n",
        "\n",
        "---\n",
        "\n"
      ]
    },
    {
      "cell_type": "markdown",
      "metadata": {
        "id": "CELGO2H_s2_w"
      },
      "source": [
        "\n",
        "\n",
        "---\n",
        "\n"
      ]
    },
    {
      "cell_type": "markdown",
      "metadata": {
        "id": "uXydWRT_-ntD"
      },
      "source": [
        "## LSTM을 통한 전국 아파트 매매가 예측"
      ]
    },
    {
      "cell_type": "code",
      "metadata": {
        "id": "z46UQm9VHCpP"
      },
      "source": [
        "import matplotlib.pyplot as plt\n",
        "\n",
        "plt.rc('font', family='NanumBarunGothic') "
      ],
      "execution_count": null,
      "outputs": []
    },
    {
      "cell_type": "markdown",
      "metadata": {
        "id": "N6X7YJAr_E5u"
      },
      "source": [
        "#### Train(2007~2019) Test(2019~2021.04)"
      ]
    },
    {
      "cell_type": "code",
      "metadata": {
        "colab": {
          "base_uri": "https://localhost:8080/"
        },
        "id": "7RlW1SxdK2Ok",
        "outputId": "a2cda472-f2be-4846-c1dd-0b22ed7a5331"
      },
      "source": [
        "split_date = pd.Timestamp('01-01-2019')\n",
        "df_lstm = df[['월별_google_trend', '전국지가지수', '월별_정기예금금리', '월별_소비자물가지수',\n",
        "       '월별_통화량(M2(평잔, 계절조정계열))', '월별_환율',\n",
        "        '주택인허가실적(전국)','월별 아파트 매매현황(동호수)전국','전국_아파트매매가격']]\n",
        "train = df_lstm.loc[:split_date]\n",
        "test = df_lstm.loc[split_date:]\n",
        "print(train.shape), print((test.shape))"
      ],
      "execution_count": null,
      "outputs": [
        {
          "output_type": "stream",
          "text": [
            "(145, 9)\n",
            "(28, 9)\n"
          ],
          "name": "stdout"
        },
        {
          "output_type": "execute_result",
          "data": {
            "text/plain": [
              "(None, None)"
            ]
          },
          "metadata": {
            "tags": []
          },
          "execution_count": 230
        }
      ]
    },
    {
      "cell_type": "code",
      "metadata": {
        "colab": {
          "base_uri": "https://localhost:8080/",
          "height": 271
        },
        "id": "KKpL5jvquexK",
        "outputId": "7f444348-6347-43d1-e651-69900398a206"
      },
      "source": [
        "train.tail(5)"
      ],
      "execution_count": null,
      "outputs": [
        {
          "output_type": "execute_result",
          "data": {
            "text/html": [
              "<div>\n",
              "<style scoped>\n",
              "    .dataframe tbody tr th:only-of-type {\n",
              "        vertical-align: middle;\n",
              "    }\n",
              "\n",
              "    .dataframe tbody tr th {\n",
              "        vertical-align: top;\n",
              "    }\n",
              "\n",
              "    .dataframe thead th {\n",
              "        text-align: right;\n",
              "    }\n",
              "</style>\n",
              "<table border=\"1\" class=\"dataframe\">\n",
              "  <thead>\n",
              "    <tr style=\"text-align: right;\">\n",
              "      <th></th>\n",
              "      <th>월별_google_trend</th>\n",
              "      <th>전국지가지수</th>\n",
              "      <th>월별_정기예금금리</th>\n",
              "      <th>월별_소비자물가지수</th>\n",
              "      <th>월별_통화량(M2(평잔, 계절조정계열))</th>\n",
              "      <th>월별_환율</th>\n",
              "      <th>주택인허가실적(전국)</th>\n",
              "      <th>월별 아파트 매매현황(동호수)전국</th>\n",
              "      <th>전국_아파트매매가격</th>\n",
              "    </tr>\n",
              "    <tr>\n",
              "      <th>DATE</th>\n",
              "      <th></th>\n",
              "      <th></th>\n",
              "      <th></th>\n",
              "      <th></th>\n",
              "      <th></th>\n",
              "      <th></th>\n",
              "      <th></th>\n",
              "      <th></th>\n",
              "      <th></th>\n",
              "    </tr>\n",
              "  </thead>\n",
              "  <tbody>\n",
              "    <tr>\n",
              "      <th>2014-09-01</th>\n",
              "      <td>29</td>\n",
              "      <td>81.837</td>\n",
              "      <td>2.27</td>\n",
              "      <td>99.608</td>\n",
              "      <td>2036012.5</td>\n",
              "      <td>1050.6</td>\n",
              "      <td>37726</td>\n",
              "      <td>62271</td>\n",
              "      <td>325.0</td>\n",
              "    </tr>\n",
              "    <tr>\n",
              "      <th>2014-10-01</th>\n",
              "      <td>31</td>\n",
              "      <td>82.003</td>\n",
              "      <td>2.17</td>\n",
              "      <td>99.308</td>\n",
              "      <td>2053472.3</td>\n",
              "      <td>1054.0</td>\n",
              "      <td>45475</td>\n",
              "      <td>78826</td>\n",
              "      <td>314.4</td>\n",
              "    </tr>\n",
              "    <tr>\n",
              "      <th>2014-11-01</th>\n",
              "      <td>28</td>\n",
              "      <td>82.133</td>\n",
              "      <td>2.10</td>\n",
              "      <td>99.108</td>\n",
              "      <td>2078884.7</td>\n",
              "      <td>1101.1</td>\n",
              "      <td>49181</td>\n",
              "      <td>64712</td>\n",
              "      <td>311.0</td>\n",
              "    </tr>\n",
              "    <tr>\n",
              "      <th>2014-12-01</th>\n",
              "      <td>24</td>\n",
              "      <td>82.270</td>\n",
              "      <td>2.16</td>\n",
              "      <td>99.098</td>\n",
              "      <td>2085332.1</td>\n",
              "      <td>1099.2</td>\n",
              "      <td>69267</td>\n",
              "      <td>64682</td>\n",
              "      <td>320.9</td>\n",
              "    </tr>\n",
              "    <tr>\n",
              "      <th>2015-01-01</th>\n",
              "      <td>30</td>\n",
              "      <td>82.387</td>\n",
              "      <td>2.08</td>\n",
              "      <td>99.770</td>\n",
              "      <td>2094265.7</td>\n",
              "      <td>1090.8</td>\n",
              "      <td>33271</td>\n",
              "      <td>57418</td>\n",
              "      <td>329.8</td>\n",
              "    </tr>\n",
              "  </tbody>\n",
              "</table>\n",
              "</div>"
            ],
            "text/plain": [
              "            월별_google_trend  전국지가지수  ...  월별 아파트 매매현황(동호수)전국  전국_아파트매매가격\n",
              "DATE                                 ...                                \n",
              "2014-09-01               29  81.837  ...               62271       325.0\n",
              "2014-10-01               31  82.003  ...               78826       314.4\n",
              "2014-11-01               28  82.133  ...               64712       311.0\n",
              "2014-12-01               24  82.270  ...               64682       320.9\n",
              "2015-01-01               30  82.387  ...               57418       329.8\n",
              "\n",
              "[5 rows x 9 columns]"
            ]
          },
          "metadata": {
            "tags": []
          },
          "execution_count": 199
        }
      ]
    },
    {
      "cell_type": "code",
      "metadata": {
        "colab": {
          "base_uri": "https://localhost:8080/"
        },
        "id": "P1B-ekrSLKXS",
        "outputId": "1fe3a8c0-0a68-4528-d77d-42b2f31706ea"
      },
      "source": [
        "df_lstm.columns"
      ],
      "execution_count": null,
      "outputs": [
        {
          "output_type": "execute_result",
          "data": {
            "text/plain": [
              "Index(['월별_google_trend', '전국지가지수', '월별_정기예금금리', '월별_소비자물가지수',\n",
              "       '월별_통화량(M2(평잔, 계절조정계열))', '월별_환율', '주택인허가실적(전국)', '월별 아파트 매매현황(동호수)전국',\n",
              "       '전국_아파트매매가격'],\n",
              "      dtype='object')"
            ]
          },
          "metadata": {
            "tags": []
          },
          "execution_count": 61
        }
      ]
    },
    {
      "cell_type": "code",
      "metadata": {
        "colab": {
          "base_uri": "https://localhost:8080/"
        },
        "id": "9KVSB6Y1OvD8",
        "outputId": "8d1f9831-1ecf-4a44-d65b-80918b8b6d4e"
      },
      "source": [
        "df_lstm.info()"
      ],
      "execution_count": null,
      "outputs": [
        {
          "output_type": "stream",
          "text": [
            "<class 'pandas.core.frame.DataFrame'>\n",
            "DatetimeIndex: 172 entries, 2007-01-01 to 2021-04-01\n",
            "Data columns (total 9 columns):\n",
            " #   Column                  Non-Null Count  Dtype  \n",
            "---  ------                  --------------  -----  \n",
            " 0   월별_google_trend         172 non-null    int64  \n",
            " 1   전국지가지수                  172 non-null    float64\n",
            " 2   월별_정기예금금리               172 non-null    float64\n",
            " 3   월별_소비자물가지수              172 non-null    float64\n",
            " 4   월별_통화량(M2(평잔, 계절조정계열))  172 non-null    float64\n",
            " 5   월별_환율                   172 non-null    float64\n",
            " 6   주택인허가실적(전국)             172 non-null    int64  \n",
            " 7   월별 아파트 매매현황(동호수)전국      172 non-null    int64  \n",
            " 8   전국_아파트매매가격              172 non-null    float64\n",
            "dtypes: float64(6), int64(3)\n",
            "memory usage: 18.4 KB\n"
          ],
          "name": "stdout"
        }
      ]
    },
    {
      "cell_type": "code",
      "metadata": {
        "colab": {
          "base_uri": "https://localhost:8080/"
        },
        "id": "VNnmMrJfK-qd",
        "outputId": "e0b539ea-d8f6-48e1-8a16-790cc9a6385e"
      },
      "source": [
        "from sklearn.preprocessing import MinMaxScaler\n",
        "\n",
        "sc = MinMaxScaler()\n",
        "\n",
        "train_sc = sc.fit_transform(train)\n",
        "test_sc = sc.transform(test)\n",
        "\n",
        "train_sc"
      ],
      "execution_count": null,
      "outputs": [
        {
          "output_type": "execute_result",
          "data": {
            "text/plain": [
              "array([[1.        , 0.        , 0.66465863, ..., 0.07477576, 0.39210083,\n",
              "        0.04437956],\n",
              "       [0.7       , 0.0117524 , 0.69477912, ..., 0.11026288, 0.30005536,\n",
              "        0.03854015],\n",
              "       [0.58333333, 0.02230965, 0.68674699, ..., 0.1244689 , 0.37145174,\n",
              "        0.05839416],\n",
              "       ...,\n",
              "       [0.11666667, 0.96937404, 0.13052209, ..., 0.27243645, 0.31791089,\n",
              "        0.44846715],\n",
              "       [0.06666667, 0.9853095 , 0.15060241, ..., 0.60893359, 0.21390595,\n",
              "        0.4329927 ],\n",
              "       [0.15      , 1.        , 0.14257028, ..., 0.19891545, 0.18456726,\n",
              "        0.40554745]])"
            ]
          },
          "metadata": {
            "tags": []
          },
          "execution_count": 154
        }
      ]
    },
    {
      "cell_type": "code",
      "metadata": {
        "id": "49PrVpf9Kj73"
      },
      "source": [
        "train_sc_df = pd.DataFrame(train_sc,columns=['월별_google_trend', '전국지가지수', '월별_정기예금금리', '월별_소비자물가지수',\n",
        "       '월별_통화량(M2(평잔, 계절조정계열))', '월별_환율', '주택인허가실적(전국)', '월별 아파트 매매현황(동호수)전국',\n",
        "       '전국_아파트매매가격','주택담보대출금리'] , index=train.index)\n",
        "test_sc_df = pd.DataFrame(test_sc,columns=['월별_google_trend', '전국지가지수', '월별_정기예금금리', '월별_소비자물가지수',\n",
        "       '월별_통화량(M2(평잔, 계절조정계열))', '월별_환율', '주택인허가실적(전국)', '월별 아파트 매매현황(동호수)전국',\n",
        "       '전국_아파트매매가격','주택담보대출금리'], index=test.index)"
      ],
      "execution_count": null,
      "outputs": []
    },
    {
      "cell_type": "code",
      "metadata": {
        "colab": {
          "base_uri": "https://localhost:8080/",
          "height": 244
        },
        "id": "R6ceSFcAMFXw",
        "outputId": "c6db997d-77a6-4965-9df6-c408d97b2348"
      },
      "source": [
        "train_sc_df.head(3)"
      ],
      "execution_count": null,
      "outputs": [
        {
          "output_type": "execute_result",
          "data": {
            "text/html": [
              "<div>\n",
              "<style scoped>\n",
              "    .dataframe tbody tr th:only-of-type {\n",
              "        vertical-align: middle;\n",
              "    }\n",
              "\n",
              "    .dataframe tbody tr th {\n",
              "        vertical-align: top;\n",
              "    }\n",
              "\n",
              "    .dataframe thead th {\n",
              "        text-align: right;\n",
              "    }\n",
              "</style>\n",
              "<table border=\"1\" class=\"dataframe\">\n",
              "  <thead>\n",
              "    <tr style=\"text-align: right;\">\n",
              "      <th></th>\n",
              "      <th>월별_google_trend</th>\n",
              "      <th>전국지가지수</th>\n",
              "      <th>월별_정기예금금리</th>\n",
              "      <th>월별_소비자물가지수</th>\n",
              "      <th>월별_통화량(M2(평잔, 계절조정계열))</th>\n",
              "      <th>월별_환율</th>\n",
              "      <th>주택인허가실적(전국)</th>\n",
              "      <th>월별 아파트 매매현황(동호수)전국</th>\n",
              "      <th>전국_아파트매매가격</th>\n",
              "      <th>주택담보대출금리</th>\n",
              "    </tr>\n",
              "    <tr>\n",
              "      <th>DATE</th>\n",
              "      <th></th>\n",
              "      <th></th>\n",
              "      <th></th>\n",
              "      <th></th>\n",
              "      <th></th>\n",
              "      <th></th>\n",
              "      <th></th>\n",
              "      <th></th>\n",
              "      <th></th>\n",
              "      <th></th>\n",
              "    </tr>\n",
              "  </thead>\n",
              "  <tbody>\n",
              "    <tr>\n",
              "      <th>2007-01-01</th>\n",
              "      <td>1.000000</td>\n",
              "      <td>0.000000</td>\n",
              "      <td>0.664659</td>\n",
              "      <td>0.000000</td>\n",
              "      <td>0.000000</td>\n",
              "      <td>0.055008</td>\n",
              "      <td>0.392101</td>\n",
              "      <td>0.074776</td>\n",
              "      <td>0.044380</td>\n",
              "      <td>0.701220</td>\n",
              "    </tr>\n",
              "    <tr>\n",
              "      <th>2007-02-01</th>\n",
              "      <td>0.700000</td>\n",
              "      <td>0.011752</td>\n",
              "      <td>0.694779</td>\n",
              "      <td>0.021951</td>\n",
              "      <td>0.005861</td>\n",
              "      <td>0.050739</td>\n",
              "      <td>0.300055</td>\n",
              "      <td>0.110263</td>\n",
              "      <td>0.038540</td>\n",
              "      <td>0.715447</td>\n",
              "    </tr>\n",
              "    <tr>\n",
              "      <th>2007-03-01</th>\n",
              "      <td>0.583333</td>\n",
              "      <td>0.022310</td>\n",
              "      <td>0.686747</td>\n",
              "      <td>0.040784</td>\n",
              "      <td>0.009392</td>\n",
              "      <td>0.054023</td>\n",
              "      <td>0.371452</td>\n",
              "      <td>0.124469</td>\n",
              "      <td>0.058394</td>\n",
              "      <td>0.719512</td>\n",
              "    </tr>\n",
              "  </tbody>\n",
              "</table>\n",
              "</div>"
            ],
            "text/plain": [
              "            월별_google_trend    전국지가지수  ...  전국_아파트매매가격  주택담보대출금리\n",
              "DATE                                   ...                      \n",
              "2007-01-01         1.000000  0.000000  ...    0.044380  0.701220\n",
              "2007-02-01         0.700000  0.011752  ...    0.038540  0.715447\n",
              "2007-03-01         0.583333  0.022310  ...    0.058394  0.719512\n",
              "\n",
              "[3 rows x 10 columns]"
            ]
          },
          "metadata": {
            "tags": []
          },
          "execution_count": 232
        }
      ]
    },
    {
      "cell_type": "code",
      "metadata": {
        "colab": {
          "base_uri": "https://localhost:8080/",
          "height": 1000
        },
        "id": "-gcwo5EsaTVm",
        "outputId": "edc22f38-a30b-4743-9779-c4e009a42669"
      },
      "source": [
        "test_sc_df"
      ],
      "execution_count": null,
      "outputs": [
        {
          "output_type": "execute_result",
          "data": {
            "text/html": [
              "<div>\n",
              "<style scoped>\n",
              "    .dataframe tbody tr th:only-of-type {\n",
              "        vertical-align: middle;\n",
              "    }\n",
              "\n",
              "    .dataframe tbody tr th {\n",
              "        vertical-align: top;\n",
              "    }\n",
              "\n",
              "    .dataframe thead th {\n",
              "        text-align: right;\n",
              "    }\n",
              "</style>\n",
              "<table border=\"1\" class=\"dataframe\">\n",
              "  <thead>\n",
              "    <tr style=\"text-align: right;\">\n",
              "      <th></th>\n",
              "      <th>월별_google_trend</th>\n",
              "      <th>전국지가지수</th>\n",
              "      <th>월별_정기예금금리</th>\n",
              "      <th>월별_소비자물가지수</th>\n",
              "      <th>월별_통화량(M2(평잔, 계절조정계열))</th>\n",
              "      <th>월별_환율</th>\n",
              "      <th>주택인허가실적(전국)</th>\n",
              "      <th>월별 아파트 매매현황(동호수)전국</th>\n",
              "      <th>전국_아파트매매가격</th>\n",
              "      <th>주택담보대출금리</th>\n",
              "    </tr>\n",
              "    <tr>\n",
              "      <th>DATE</th>\n",
              "      <th></th>\n",
              "      <th></th>\n",
              "      <th></th>\n",
              "      <th></th>\n",
              "      <th></th>\n",
              "      <th></th>\n",
              "      <th></th>\n",
              "      <th></th>\n",
              "      <th></th>\n",
              "      <th></th>\n",
              "    </tr>\n",
              "  </thead>\n",
              "  <tbody>\n",
              "    <tr>\n",
              "      <th>2019-01-01</th>\n",
              "      <td>0.150000</td>\n",
              "      <td>1.000000</td>\n",
              "      <td>0.142570</td>\n",
              "      <td>0.943623</td>\n",
              "      <td>1.000000</td>\n",
              "      <td>0.344499</td>\n",
              "      <td>0.184567</td>\n",
              "      <td>0.198915</td>\n",
              "      <td>0.405547</td>\n",
              "      <td>0.093496</td>\n",
              "    </tr>\n",
              "    <tr>\n",
              "      <th>2019-02-01</th>\n",
              "      <td>0.150000</td>\n",
              "      <td>1.012400</td>\n",
              "      <td>0.122490</td>\n",
              "      <td>0.961615</td>\n",
              "      <td>1.005399</td>\n",
              "      <td>0.345484</td>\n",
              "      <td>0.145792</td>\n",
              "      <td>0.262467</td>\n",
              "      <td>0.376934</td>\n",
              "      <td>0.085366</td>\n",
              "    </tr>\n",
              "    <tr>\n",
              "      <th>2019-03-01</th>\n",
              "      <td>0.100000</td>\n",
              "      <td>1.026543</td>\n",
              "      <td>0.126506</td>\n",
              "      <td>0.953619</td>\n",
              "      <td>1.017519</td>\n",
              "      <td>0.378325</td>\n",
              "      <td>0.190425</td>\n",
              "      <td>0.315943</td>\n",
              "      <td>0.425401</td>\n",
              "      <td>0.077236</td>\n",
              "    </tr>\n",
              "    <tr>\n",
              "      <th>2019-04-01</th>\n",
              "      <td>0.100000</td>\n",
              "      <td>1.041532</td>\n",
              "      <td>0.112450</td>\n",
              "      <td>0.968812</td>\n",
              "      <td>1.025935</td>\n",
              "      <td>0.411823</td>\n",
              "      <td>0.243631</td>\n",
              "      <td>0.221234</td>\n",
              "      <td>0.509781</td>\n",
              "      <td>0.065041</td>\n",
              "    </tr>\n",
              "    <tr>\n",
              "      <th>2019-05-01</th>\n",
              "      <td>0.100000</td>\n",
              "      <td>1.057168</td>\n",
              "      <td>0.110442</td>\n",
              "      <td>0.976010</td>\n",
              "      <td>1.033330</td>\n",
              "      <td>0.464039</td>\n",
              "      <td>0.241275</td>\n",
              "      <td>0.182610</td>\n",
              "      <td>0.654891</td>\n",
              "      <td>0.054878</td>\n",
              "    </tr>\n",
              "    <tr>\n",
              "      <th>2019-06-01</th>\n",
              "      <td>0.066667</td>\n",
              "      <td>1.072506</td>\n",
              "      <td>0.098394</td>\n",
              "      <td>0.969212</td>\n",
              "      <td>1.046395</td>\n",
              "      <td>0.409524</td>\n",
              "      <td>0.234980</td>\n",
              "      <td>0.226352</td>\n",
              "      <td>0.846715</td>\n",
              "      <td>0.016260</td>\n",
              "    </tr>\n",
              "    <tr>\n",
              "      <th>2019-07-01</th>\n",
              "      <td>0.100000</td>\n",
              "      <td>1.088591</td>\n",
              "      <td>0.080321</td>\n",
              "      <td>0.956417</td>\n",
              "      <td>1.054168</td>\n",
              "      <td>0.450903</td>\n",
              "      <td>0.353030</td>\n",
              "      <td>0.171280</td>\n",
              "      <td>0.910365</td>\n",
              "      <td>-0.004065</td>\n",
              "    </tr>\n",
              "    <tr>\n",
              "      <th>2019-08-01</th>\n",
              "      <td>0.100000</td>\n",
              "      <td>1.104377</td>\n",
              "      <td>0.046185</td>\n",
              "      <td>0.966413</td>\n",
              "      <td>1.070130</td>\n",
              "      <td>0.505419</td>\n",
              "      <td>0.367268</td>\n",
              "      <td>0.178746</td>\n",
              "      <td>0.781898</td>\n",
              "      <td>-0.038618</td>\n",
              "    </tr>\n",
              "    <tr>\n",
              "      <th>2019-09-01</th>\n",
              "      <td>0.133333</td>\n",
              "      <td>1.119865</td>\n",
              "      <td>0.054217</td>\n",
              "      <td>0.982007</td>\n",
              "      <td>1.080602</td>\n",
              "      <td>0.482594</td>\n",
              "      <td>0.347726</td>\n",
              "      <td>0.194244</td>\n",
              "      <td>0.833285</td>\n",
              "      <td>-0.030488</td>\n",
              "    </tr>\n",
              "    <tr>\n",
              "      <th>2019-10-01</th>\n",
              "      <td>0.150000</td>\n",
              "      <td>1.135999</td>\n",
              "      <td>0.048193</td>\n",
              "      <td>0.992403</td>\n",
              "      <td>1.096715</td>\n",
              "      <td>0.428571</td>\n",
              "      <td>0.532229</td>\n",
              "      <td>0.246956</td>\n",
              "      <td>0.917372</td>\n",
              "      <td>-0.032520</td>\n",
              "    </tr>\n",
              "    <tr>\n",
              "      <th>2019-11-01</th>\n",
              "      <td>0.150000</td>\n",
              "      <td>1.152283</td>\n",
              "      <td>0.064257</td>\n",
              "      <td>0.968812</td>\n",
              "      <td>1.107283</td>\n",
              "      <td>0.446470</td>\n",
              "      <td>0.641100</td>\n",
              "      <td>0.207270</td>\n",
              "      <td>0.936350</td>\n",
              "      <td>-0.042683</td>\n",
              "    </tr>\n",
              "    <tr>\n",
              "      <th>2019-12-01</th>\n",
              "      <td>0.200000</td>\n",
              "      <td>1.168518</td>\n",
              "      <td>0.058233</td>\n",
              "      <td>0.978808</td>\n",
              "      <td>1.116749</td>\n",
              "      <td>0.411166</td>\n",
              "      <td>0.913567</td>\n",
              "      <td>0.625109</td>\n",
              "      <td>0.836788</td>\n",
              "      <td>-0.042683</td>\n",
              "    </tr>\n",
              "    <tr>\n",
              "      <th>2020-01-01</th>\n",
              "      <td>0.216667</td>\n",
              "      <td>1.184652</td>\n",
              "      <td>0.046185</td>\n",
              "      <td>1.005598</td>\n",
              "      <td>1.128212</td>\n",
              "      <td>0.453366</td>\n",
              "      <td>0.759768</td>\n",
              "      <td>0.148943</td>\n",
              "      <td>0.736350</td>\n",
              "      <td>-0.030488</td>\n",
              "    </tr>\n",
              "    <tr>\n",
              "      <th>2020-02-01</th>\n",
              "      <td>0.200000</td>\n",
              "      <td>1.200289</td>\n",
              "      <td>0.022088</td>\n",
              "      <td>1.005998</td>\n",
              "      <td>1.147606</td>\n",
              "      <td>0.506568</td>\n",
              "      <td>0.909821</td>\n",
              "      <td>0.235918</td>\n",
              "      <td>0.744526</td>\n",
              "      <td>-0.028455</td>\n",
              "    </tr>\n",
              "    <tr>\n",
              "      <th>2020-03-01</th>\n",
              "      <td>0.150000</td>\n",
              "      <td>1.213436</td>\n",
              "      <td>-0.008032</td>\n",
              "      <td>0.995602</td>\n",
              "      <td>1.163947</td>\n",
              "      <td>0.517570</td>\n",
              "      <td>0.806486</td>\n",
              "      <td>0.209009</td>\n",
              "      <td>0.605255</td>\n",
              "      <td>-0.036585</td>\n",
              "    </tr>\n",
              "    <tr>\n",
              "      <th>2020-04-01</th>\n",
              "      <td>0.133333</td>\n",
              "      <td>1.224989</td>\n",
              "      <td>-0.016064</td>\n",
              "      <td>0.972011</td>\n",
              "      <td>1.187286</td>\n",
              "      <td>0.521839</td>\n",
              "      <td>0.412003</td>\n",
              "      <td>0.198052</td>\n",
              "      <td>0.531095</td>\n",
              "      <td>-0.016260</td>\n",
              "    </tr>\n",
              "    <tr>\n",
              "      <th>2020-05-01</th>\n",
              "      <td>0.183333</td>\n",
              "      <td>1.237638</td>\n",
              "      <td>-0.046185</td>\n",
              "      <td>0.962415</td>\n",
              "      <td>1.207229</td>\n",
              "      <td>0.545156</td>\n",
              "      <td>0.520836</td>\n",
              "      <td>0.175659</td>\n",
              "      <td>0.675620</td>\n",
              "      <td>-0.028455</td>\n",
              "    </tr>\n",
              "    <tr>\n",
              "      <th>2020-06-01</th>\n",
              "      <td>0.250000</td>\n",
              "      <td>1.252378</td>\n",
              "      <td>-0.084337</td>\n",
              "      <td>0.968812</td>\n",
              "      <td>1.221972</td>\n",
              "      <td>0.481609</td>\n",
              "      <td>1.100864</td>\n",
              "      <td>0.205475</td>\n",
              "      <td>1.007883</td>\n",
              "      <td>-0.034553</td>\n",
              "    </tr>\n",
              "    <tr>\n",
              "      <th>2020-07-01</th>\n",
              "      <td>0.416667</td>\n",
              "      <td>1.268811</td>\n",
              "      <td>-0.100402</td>\n",
              "      <td>0.968413</td>\n",
              "      <td>1.233910</td>\n",
              "      <td>0.466338</td>\n",
              "      <td>1.102743</td>\n",
              "      <td>0.249571</td>\n",
              "      <td>0.960000</td>\n",
              "      <td>-0.042683</td>\n",
              "    </tr>\n",
              "    <tr>\n",
              "      <th>2020-08-01</th>\n",
              "      <td>0.266667</td>\n",
              "      <td>1.284299</td>\n",
              "      <td>-0.100402</td>\n",
              "      <td>0.994002</td>\n",
              "      <td>1.241478</td>\n",
              "      <td>0.455993</td>\n",
              "      <td>0.546621</td>\n",
              "      <td>0.175591</td>\n",
              "      <td>0.833577</td>\n",
              "      <td>-0.054878</td>\n",
              "    </tr>\n",
              "    <tr>\n",
              "      <th>2020-09-01</th>\n",
              "      <td>0.166667</td>\n",
              "      <td>1.299387</td>\n",
              "      <td>-0.086345</td>\n",
              "      <td>1.021991</td>\n",
              "      <td>1.250245</td>\n",
              "      <td>0.436946</td>\n",
              "      <td>0.528701</td>\n",
              "      <td>0.221669</td>\n",
              "      <td>0.762044</td>\n",
              "      <td>-0.044715</td>\n",
              "    </tr>\n",
              "    <tr>\n",
              "      <th>2020-10-01</th>\n",
              "      <td>0.233333</td>\n",
              "      <td>1.314078</td>\n",
              "      <td>-0.086345</td>\n",
              "      <td>0.998401</td>\n",
              "      <td>1.270678</td>\n",
              "      <td>0.371100</td>\n",
              "      <td>0.633453</td>\n",
              "      <td>0.206581</td>\n",
              "      <td>0.776350</td>\n",
              "      <td>-0.038618</td>\n",
              "    </tr>\n",
              "    <tr>\n",
              "      <th>2020-11-01</th>\n",
              "      <td>0.316667</td>\n",
              "      <td>1.330213</td>\n",
              "      <td>-0.082329</td>\n",
              "      <td>0.994002</td>\n",
              "      <td>1.288006</td>\n",
              "      <td>0.323481</td>\n",
              "      <td>0.935800</td>\n",
              "      <td>0.214140</td>\n",
              "      <td>0.830073</td>\n",
              "      <td>-0.020325</td>\n",
              "    </tr>\n",
              "    <tr>\n",
              "      <th>2020-12-01</th>\n",
              "      <td>0.266667</td>\n",
              "      <td>1.347443</td>\n",
              "      <td>-0.082329</td>\n",
              "      <td>1.000800</td>\n",
              "      <td>1.296154</td>\n",
              "      <td>0.296552</td>\n",
              "      <td>1.146500</td>\n",
              "      <td>0.601306</td>\n",
              "      <td>0.887299</td>\n",
              "      <td>-0.014228</td>\n",
              "    </tr>\n",
              "    <tr>\n",
              "      <th>2021-01-01</th>\n",
              "      <td>0.333333</td>\n",
              "      <td>1.363129</td>\n",
              "      <td>-0.090361</td>\n",
              "      <td>1.032787</td>\n",
              "      <td>1.322207</td>\n",
              "      <td>0.340230</td>\n",
              "      <td>0.610242</td>\n",
              "      <td>0.162639</td>\n",
              "      <td>0.886131</td>\n",
              "      <td>-0.006098</td>\n",
              "    </tr>\n",
              "    <tr>\n",
              "      <th>2021-02-01</th>\n",
              "      <td>0.266667</td>\n",
              "      <td>1.378866</td>\n",
              "      <td>-0.094378</td>\n",
              "      <td>1.053978</td>\n",
              "      <td>1.348650</td>\n",
              "      <td>0.330049</td>\n",
              "      <td>0.554706</td>\n",
              "      <td>0.209003</td>\n",
              "      <td>0.795328</td>\n",
              "      <td>0.000000</td>\n",
              "    </tr>\n",
              "    <tr>\n",
              "      <th>2021-03-01</th>\n",
              "      <td>0.266667</td>\n",
              "      <td>1.395996</td>\n",
              "      <td>-0.094378</td>\n",
              "      <td>1.060376</td>\n",
              "      <td>1.373140</td>\n",
              "      <td>0.371264</td>\n",
              "      <td>0.680480</td>\n",
              "      <td>0.281723</td>\n",
              "      <td>0.703942</td>\n",
              "      <td>0.014228</td>\n",
              "    </tr>\n",
              "    <tr>\n",
              "      <th>2021-04-01</th>\n",
              "      <td>0.316667</td>\n",
              "      <td>1.413824</td>\n",
              "      <td>-0.098394</td>\n",
              "      <td>1.069572</td>\n",
              "      <td>1.405140</td>\n",
              "      <td>0.328407</td>\n",
              "      <td>0.544085</td>\n",
              "      <td>0.277095</td>\n",
              "      <td>0.755328</td>\n",
              "      <td>0.014228</td>\n",
              "    </tr>\n",
              "  </tbody>\n",
              "</table>\n",
              "</div>"
            ],
            "text/plain": [
              "            월별_google_trend    전국지가지수  ...  전국_아파트매매가격  주택담보대출금리\n",
              "DATE                                   ...                      \n",
              "2019-01-01         0.150000  1.000000  ...    0.405547  0.093496\n",
              "2019-02-01         0.150000  1.012400  ...    0.376934  0.085366\n",
              "2019-03-01         0.100000  1.026543  ...    0.425401  0.077236\n",
              "2019-04-01         0.100000  1.041532  ...    0.509781  0.065041\n",
              "2019-05-01         0.100000  1.057168  ...    0.654891  0.054878\n",
              "2019-06-01         0.066667  1.072506  ...    0.846715  0.016260\n",
              "2019-07-01         0.100000  1.088591  ...    0.910365 -0.004065\n",
              "2019-08-01         0.100000  1.104377  ...    0.781898 -0.038618\n",
              "2019-09-01         0.133333  1.119865  ...    0.833285 -0.030488\n",
              "2019-10-01         0.150000  1.135999  ...    0.917372 -0.032520\n",
              "2019-11-01         0.150000  1.152283  ...    0.936350 -0.042683\n",
              "2019-12-01         0.200000  1.168518  ...    0.836788 -0.042683\n",
              "2020-01-01         0.216667  1.184652  ...    0.736350 -0.030488\n",
              "2020-02-01         0.200000  1.200289  ...    0.744526 -0.028455\n",
              "2020-03-01         0.150000  1.213436  ...    0.605255 -0.036585\n",
              "2020-04-01         0.133333  1.224989  ...    0.531095 -0.016260\n",
              "2020-05-01         0.183333  1.237638  ...    0.675620 -0.028455\n",
              "2020-06-01         0.250000  1.252378  ...    1.007883 -0.034553\n",
              "2020-07-01         0.416667  1.268811  ...    0.960000 -0.042683\n",
              "2020-08-01         0.266667  1.284299  ...    0.833577 -0.054878\n",
              "2020-09-01         0.166667  1.299387  ...    0.762044 -0.044715\n",
              "2020-10-01         0.233333  1.314078  ...    0.776350 -0.038618\n",
              "2020-11-01         0.316667  1.330213  ...    0.830073 -0.020325\n",
              "2020-12-01         0.266667  1.347443  ...    0.887299 -0.014228\n",
              "2021-01-01         0.333333  1.363129  ...    0.886131 -0.006098\n",
              "2021-02-01         0.266667  1.378866  ...    0.795328  0.000000\n",
              "2021-03-01         0.266667  1.395996  ...    0.703942  0.014228\n",
              "2021-04-01         0.316667  1.413824  ...    0.755328  0.014228\n",
              "\n",
              "[28 rows x 10 columns]"
            ]
          },
          "metadata": {
            "tags": []
          },
          "execution_count": 233
        }
      ]
    },
    {
      "cell_type": "code",
      "metadata": {
        "colab": {
          "base_uri": "https://localhost:8080/"
        },
        "id": "0Q0xrcp2OqH9",
        "outputId": "754e5961-0be7-41cd-eda4-901e2a2f89a9"
      },
      "source": [
        "train_sc_df.info()"
      ],
      "execution_count": null,
      "outputs": [
        {
          "output_type": "stream",
          "text": [
            "<class 'pandas.core.frame.DataFrame'>\n",
            "DatetimeIndex: 97 entries, 2007-01-01 to 2015-01-01\n",
            "Data columns (total 9 columns):\n",
            " #   Column                  Non-Null Count  Dtype  \n",
            "---  ------                  --------------  -----  \n",
            " 0   월별_google_trend         97 non-null     float64\n",
            " 1   전국지가지수                  97 non-null     float64\n",
            " 2   월별_정기예금금리               97 non-null     float64\n",
            " 3   월별_소비자물가지수              97 non-null     float64\n",
            " 4   월별_통화량(M2(평잔, 계절조정계열))  97 non-null     float64\n",
            " 5   월별_환율                   97 non-null     float64\n",
            " 6   주택인허가실적(전국)             97 non-null     float64\n",
            " 7   월별 아파트 매매현황(동호수)전국      97 non-null     float64\n",
            " 8   전국_아파트매매가격              97 non-null     float64\n",
            "dtypes: float64(9)\n",
            "memory usage: 7.6 KB\n"
          ],
          "name": "stdout"
        }
      ]
    },
    {
      "cell_type": "markdown",
      "metadata": {
        "id": "MHfv-Iw8_THF"
      },
      "source": [
        "#### LSTM, 지난 6개월 기준, 학습 "
      ]
    },
    {
      "cell_type": "code",
      "metadata": {
        "colab": {
          "base_uri": "https://localhost:8080/",
          "height": 938
        },
        "id": "gQgqrfTBJwG6",
        "outputId": "ab282599-c084-471f-dc06-454e4036e7f6"
      },
      "source": [
        "for s in range(1,7):\n",
        "    train_sc_df['전국_아파트매매가격_{}'.format(s)] = train_sc_df['전국_아파트매매가격'].shift(s)\n",
        "    test_sc_df['전국_아파트매매가격_{}'.format(s)] = test_sc_df['전국_아파트매매가격'].shift(s)\n",
        "\n",
        "    train_sc_df['월별_환율_{}'.format(s)] = train_sc_df['월별_환율'].shift(s)\n",
        "    test_sc_df['월별_환율_{}'.format(s)] = test_sc_df['월별_환율'].shift(s)\n",
        "\n",
        "    train_sc_df['월별_google_trend_{}'.format(s)] = train_sc_df['월별_google_trend'].shift(s)\n",
        "    test_sc_df['월별_google_trend{}'.format(s)] = test_sc_df['월별_google_trend'].shift(s)\n",
        "\n",
        "    train_sc_df['전국지가지수_{}'.format(s)] = train_sc_df['전국지가지수'].shift(s)\n",
        "    test_sc_df['전국지가지수_{}'.format(s)] = test_sc_df['전국지가지수'].shift(s)\n",
        "\n",
        "    train_sc_df['월별_정기예금금리_{}'.format(s)] = train_sc_df['월별_정기예금금리'].shift(s)\n",
        "    test_sc_df['월별_정기예금금리_{}'.format(s)] = test_sc_df['월별_정기예금금리'].shift(s)\n",
        "\n",
        "    train_sc_df['월별_통화량(M2(평잔, 계절조정계열))_{}'.format(s)] = train_sc_df['월별_통화량(M2(평잔, 계절조정계열))'].shift(s)\n",
        "    test_sc_df['월별_통화량(M2(평잔, 계절조정계열))_{}'.format(s)] = test_sc_df['월별_통화량(M2(평잔, 계절조정계열))'].shift(s)\n",
        "\n",
        "    train_sc_df['월별 아파트 매매현황(동호수)전국_{}'.format(s)] = train_sc_df['월별 아파트 매매현황(동호수)전국'].shift(s)\n",
        "    test_sc_df['월별 아파트 매매현황(동호수)전국_{}'.format(s)] = test_sc_df['월별 아파트 매매현황(동호수)전국'].shift(s)\n",
        "\n",
        "    train_sc_df['주택인허가실적(전국)_{}'.format(s)] = train_sc_df['주택인허가실적(전국)'].shift(s)\n",
        "    test_sc_df['주택인허가실적(전국)_{}'.format(s)] = test_sc_df['주택인허가실적(전국)'].shift(s)\n",
        "\n",
        "    train_sc_df['월별_소비자물가지수_{}'.format(s)] = train_sc_df['월별_소비자물가지수'].shift(s)\n",
        "    test_sc_df['월별_소비자물가지수_{}'.format(s)] = test_sc_df['월별_소비자물가지수'].shift(s)\n",
        "\n",
        "    train_sc_df['주택담보대출금리_{}'.format(s)] = train_sc_df['주택담보대출금리'].shift(s)\n",
        "    test_sc_df['주택담보대출금리_{}'.format(s)] = test_sc_df['주택담보대출금리'].shift(s)\n",
        "                            \n",
        "train_sc_df.tail(13)"
      ],
      "execution_count": null,
      "outputs": [
        {
          "output_type": "execute_result",
          "data": {
            "text/html": [
              "<div>\n",
              "<style scoped>\n",
              "    .dataframe tbody tr th:only-of-type {\n",
              "        vertical-align: middle;\n",
              "    }\n",
              "\n",
              "    .dataframe tbody tr th {\n",
              "        vertical-align: top;\n",
              "    }\n",
              "\n",
              "    .dataframe thead th {\n",
              "        text-align: right;\n",
              "    }\n",
              "</style>\n",
              "<table border=\"1\" class=\"dataframe\">\n",
              "  <thead>\n",
              "    <tr style=\"text-align: right;\">\n",
              "      <th></th>\n",
              "      <th>월별_google_trend</th>\n",
              "      <th>전국지가지수</th>\n",
              "      <th>월별_정기예금금리</th>\n",
              "      <th>월별_소비자물가지수</th>\n",
              "      <th>월별_통화량(M2(평잔, 계절조정계열))</th>\n",
              "      <th>월별_환율</th>\n",
              "      <th>주택인허가실적(전국)</th>\n",
              "      <th>월별 아파트 매매현황(동호수)전국</th>\n",
              "      <th>전국_아파트매매가격</th>\n",
              "      <th>주택담보대출금리</th>\n",
              "      <th>전국_아파트매매가격_1</th>\n",
              "      <th>월별_환율_1</th>\n",
              "      <th>월별_google_trend_1</th>\n",
              "      <th>전국지가지수_1</th>\n",
              "      <th>월별_정기예금금리_1</th>\n",
              "      <th>월별_통화량(M2(평잔, 계절조정계열))_1</th>\n",
              "      <th>월별 아파트 매매현황(동호수)전국_1</th>\n",
              "      <th>주택인허가실적(전국)_1</th>\n",
              "      <th>월별_소비자물가지수_1</th>\n",
              "      <th>주택담보대출금리_1</th>\n",
              "      <th>전국_아파트매매가격_2</th>\n",
              "      <th>월별_환율_2</th>\n",
              "      <th>월별_google_trend_2</th>\n",
              "      <th>전국지가지수_2</th>\n",
              "      <th>월별_정기예금금리_2</th>\n",
              "      <th>월별_통화량(M2(평잔, 계절조정계열))_2</th>\n",
              "      <th>월별 아파트 매매현황(동호수)전국_2</th>\n",
              "      <th>주택인허가실적(전국)_2</th>\n",
              "      <th>월별_소비자물가지수_2</th>\n",
              "      <th>주택담보대출금리_2</th>\n",
              "      <th>전국_아파트매매가격_3</th>\n",
              "      <th>월별_환율_3</th>\n",
              "      <th>월별_google_trend_3</th>\n",
              "      <th>전국지가지수_3</th>\n",
              "      <th>월별_정기예금금리_3</th>\n",
              "      <th>월별_통화량(M2(평잔, 계절조정계열))_3</th>\n",
              "      <th>월별 아파트 매매현황(동호수)전국_3</th>\n",
              "      <th>주택인허가실적(전국)_3</th>\n",
              "      <th>월별_소비자물가지수_3</th>\n",
              "      <th>주택담보대출금리_3</th>\n",
              "      <th>전국_아파트매매가격_4</th>\n",
              "      <th>월별_환율_4</th>\n",
              "      <th>월별_google_trend_4</th>\n",
              "      <th>전국지가지수_4</th>\n",
              "      <th>월별_정기예금금리_4</th>\n",
              "      <th>월별_통화량(M2(평잔, 계절조정계열))_4</th>\n",
              "      <th>월별 아파트 매매현황(동호수)전국_4</th>\n",
              "      <th>주택인허가실적(전국)_4</th>\n",
              "      <th>월별_소비자물가지수_4</th>\n",
              "      <th>주택담보대출금리_4</th>\n",
              "      <th>전국_아파트매매가격_5</th>\n",
              "      <th>월별_환율_5</th>\n",
              "      <th>월별_google_trend_5</th>\n",
              "      <th>전국지가지수_5</th>\n",
              "      <th>월별_정기예금금리_5</th>\n",
              "      <th>월별_통화량(M2(평잔, 계절조정계열))_5</th>\n",
              "      <th>월별 아파트 매매현황(동호수)전국_5</th>\n",
              "      <th>주택인허가실적(전국)_5</th>\n",
              "      <th>월별_소비자물가지수_5</th>\n",
              "      <th>주택담보대출금리_5</th>\n",
              "      <th>전국_아파트매매가격_6</th>\n",
              "      <th>월별_환율_6</th>\n",
              "      <th>월별_google_trend_6</th>\n",
              "      <th>전국지가지수_6</th>\n",
              "      <th>월별_정기예금금리_6</th>\n",
              "      <th>월별_통화량(M2(평잔, 계절조정계열))_6</th>\n",
              "      <th>월별 아파트 매매현황(동호수)전국_6</th>\n",
              "      <th>주택인허가실적(전국)_6</th>\n",
              "      <th>월별_소비자물가지수_6</th>\n",
              "      <th>주택담보대출금리_6</th>\n",
              "    </tr>\n",
              "    <tr>\n",
              "      <th>DATE</th>\n",
              "      <th></th>\n",
              "      <th></th>\n",
              "      <th></th>\n",
              "      <th></th>\n",
              "      <th></th>\n",
              "      <th></th>\n",
              "      <th></th>\n",
              "      <th></th>\n",
              "      <th></th>\n",
              "      <th></th>\n",
              "      <th></th>\n",
              "      <th></th>\n",
              "      <th></th>\n",
              "      <th></th>\n",
              "      <th></th>\n",
              "      <th></th>\n",
              "      <th></th>\n",
              "      <th></th>\n",
              "      <th></th>\n",
              "      <th></th>\n",
              "      <th></th>\n",
              "      <th></th>\n",
              "      <th></th>\n",
              "      <th></th>\n",
              "      <th></th>\n",
              "      <th></th>\n",
              "      <th></th>\n",
              "      <th></th>\n",
              "      <th></th>\n",
              "      <th></th>\n",
              "      <th></th>\n",
              "      <th></th>\n",
              "      <th></th>\n",
              "      <th></th>\n",
              "      <th></th>\n",
              "      <th></th>\n",
              "      <th></th>\n",
              "      <th></th>\n",
              "      <th></th>\n",
              "      <th></th>\n",
              "      <th></th>\n",
              "      <th></th>\n",
              "      <th></th>\n",
              "      <th></th>\n",
              "      <th></th>\n",
              "      <th></th>\n",
              "      <th></th>\n",
              "      <th></th>\n",
              "      <th></th>\n",
              "      <th></th>\n",
              "      <th></th>\n",
              "      <th></th>\n",
              "      <th></th>\n",
              "      <th></th>\n",
              "      <th></th>\n",
              "      <th></th>\n",
              "      <th></th>\n",
              "      <th></th>\n",
              "      <th></th>\n",
              "      <th></th>\n",
              "      <th></th>\n",
              "      <th></th>\n",
              "      <th></th>\n",
              "      <th></th>\n",
              "      <th></th>\n",
              "      <th></th>\n",
              "      <th></th>\n",
              "      <th></th>\n",
              "      <th></th>\n",
              "      <th></th>\n",
              "    </tr>\n",
              "  </thead>\n",
              "  <tbody>\n",
              "    <tr>\n",
              "      <th>2018-01-01</th>\n",
              "      <td>0.166667</td>\n",
              "      <td>0.794682</td>\n",
              "      <td>0.092369</td>\n",
              "      <td>0.910836</td>\n",
              "      <td>0.894465</td>\n",
              "      <td>0.269458</td>\n",
              "      <td>0.393375</td>\n",
              "      <td>0.234154</td>\n",
              "      <td>0.864234</td>\n",
              "      <td>0.164634</td>\n",
              "      <td>0.788905</td>\n",
              "      <td>0.269294</td>\n",
              "      <td>0.116667</td>\n",
              "      <td>0.780140</td>\n",
              "      <td>0.096386</td>\n",
              "      <td>0.872547</td>\n",
              "      <td>0.626649</td>\n",
              "      <td>0.377502</td>\n",
              "      <td>0.893643</td>\n",
              "      <td>0.154472</td>\n",
              "      <td>0.711825</td>\n",
              "      <td>0.287356</td>\n",
              "      <td>0.100000</td>\n",
              "      <td>0.765898</td>\n",
              "      <td>0.088353</td>\n",
              "      <td>0.867522</td>\n",
              "      <td>0.312396</td>\n",
              "      <td>0.403236</td>\n",
              "      <td>0.878848</td>\n",
              "      <td>0.148374</td>\n",
              "      <td>0.635036</td>\n",
              "      <td>0.357307</td>\n",
              "      <td>0.083333</td>\n",
              "      <td>0.751656</td>\n",
              "      <td>0.058233</td>\n",
              "      <td>0.859436</td>\n",
              "      <td>0.293867</td>\n",
              "      <td>0.297519</td>\n",
              "      <td>0.909636</td>\n",
              "      <td>0.136179</td>\n",
              "      <td>0.614891</td>\n",
              "      <td>0.392939</td>\n",
              "      <td>0.066667</td>\n",
              "      <td>0.739007</td>\n",
              "      <td>0.038153</td>\n",
              "      <td>0.854084</td>\n",
              "      <td>0.363307</td>\n",
              "      <td>0.489000</td>\n",
              "      <td>0.913635</td>\n",
              "      <td>0.117886</td>\n",
              "      <td>0.528759</td>\n",
              "      <td>0.353695</td>\n",
              "      <td>0.200000</td>\n",
              "      <td>0.724864</td>\n",
              "      <td>0.030120</td>\n",
              "      <td>0.849757</td>\n",
              "      <td>0.301277</td>\n",
              "      <td>0.609328</td>\n",
              "      <td>0.908836</td>\n",
              "      <td>0.126016</td>\n",
              "      <td>0.771971</td>\n",
              "      <td>0.347619</td>\n",
              "      <td>0.116667</td>\n",
              "      <td>0.709526</td>\n",
              "      <td>0.026104</td>\n",
              "      <td>0.838226</td>\n",
              "      <td>0.311700</td>\n",
              "      <td>0.626128</td>\n",
              "      <td>0.885246</td>\n",
              "      <td>0.126016</td>\n",
              "    </tr>\n",
              "    <tr>\n",
              "      <th>2018-02-01</th>\n",
              "      <td>0.166667</td>\n",
              "      <td>0.808525</td>\n",
              "      <td>0.090361</td>\n",
              "      <td>0.942423</td>\n",
              "      <td>0.903878</td>\n",
              "      <td>0.268637</td>\n",
              "      <td>0.417075</td>\n",
              "      <td>0.269560</td>\n",
              "      <td>0.738394</td>\n",
              "      <td>0.162602</td>\n",
              "      <td>0.864234</td>\n",
              "      <td>0.269458</td>\n",
              "      <td>0.166667</td>\n",
              "      <td>0.794682</td>\n",
              "      <td>0.092369</td>\n",
              "      <td>0.894465</td>\n",
              "      <td>0.234154</td>\n",
              "      <td>0.393375</td>\n",
              "      <td>0.910836</td>\n",
              "      <td>0.164634</td>\n",
              "      <td>0.788905</td>\n",
              "      <td>0.269294</td>\n",
              "      <td>0.116667</td>\n",
              "      <td>0.780140</td>\n",
              "      <td>0.096386</td>\n",
              "      <td>0.872547</td>\n",
              "      <td>0.626649</td>\n",
              "      <td>0.377502</td>\n",
              "      <td>0.893643</td>\n",
              "      <td>0.154472</td>\n",
              "      <td>0.711825</td>\n",
              "      <td>0.287356</td>\n",
              "      <td>0.100000</td>\n",
              "      <td>0.765898</td>\n",
              "      <td>0.088353</td>\n",
              "      <td>0.867522</td>\n",
              "      <td>0.312396</td>\n",
              "      <td>0.403236</td>\n",
              "      <td>0.878848</td>\n",
              "      <td>0.148374</td>\n",
              "      <td>0.635036</td>\n",
              "      <td>0.357307</td>\n",
              "      <td>0.083333</td>\n",
              "      <td>0.751656</td>\n",
              "      <td>0.058233</td>\n",
              "      <td>0.859436</td>\n",
              "      <td>0.293867</td>\n",
              "      <td>0.297519</td>\n",
              "      <td>0.909636</td>\n",
              "      <td>0.136179</td>\n",
              "      <td>0.614891</td>\n",
              "      <td>0.392939</td>\n",
              "      <td>0.066667</td>\n",
              "      <td>0.739007</td>\n",
              "      <td>0.038153</td>\n",
              "      <td>0.854084</td>\n",
              "      <td>0.363307</td>\n",
              "      <td>0.489000</td>\n",
              "      <td>0.913635</td>\n",
              "      <td>0.117886</td>\n",
              "      <td>0.528759</td>\n",
              "      <td>0.353695</td>\n",
              "      <td>0.200000</td>\n",
              "      <td>0.724864</td>\n",
              "      <td>0.030120</td>\n",
              "      <td>0.849757</td>\n",
              "      <td>0.301277</td>\n",
              "      <td>0.609328</td>\n",
              "      <td>0.908836</td>\n",
              "      <td>0.126016</td>\n",
              "    </tr>\n",
              "    <tr>\n",
              "      <th>2018-03-01</th>\n",
              "      <td>0.166667</td>\n",
              "      <td>0.824312</td>\n",
              "      <td>0.100402</td>\n",
              "      <td>0.938025</td>\n",
              "      <td>0.906594</td>\n",
              "      <td>0.261248</td>\n",
              "      <td>0.580363</td>\n",
              "      <td>0.239018</td>\n",
              "      <td>0.631533</td>\n",
              "      <td>0.160569</td>\n",
              "      <td>0.738394</td>\n",
              "      <td>0.268637</td>\n",
              "      <td>0.166667</td>\n",
              "      <td>0.808525</td>\n",
              "      <td>0.090361</td>\n",
              "      <td>0.903878</td>\n",
              "      <td>0.269560</td>\n",
              "      <td>0.417075</td>\n",
              "      <td>0.942423</td>\n",
              "      <td>0.162602</td>\n",
              "      <td>0.864234</td>\n",
              "      <td>0.269458</td>\n",
              "      <td>0.166667</td>\n",
              "      <td>0.794682</td>\n",
              "      <td>0.092369</td>\n",
              "      <td>0.894465</td>\n",
              "      <td>0.234154</td>\n",
              "      <td>0.393375</td>\n",
              "      <td>0.910836</td>\n",
              "      <td>0.164634</td>\n",
              "      <td>0.788905</td>\n",
              "      <td>0.269294</td>\n",
              "      <td>0.116667</td>\n",
              "      <td>0.780140</td>\n",
              "      <td>0.096386</td>\n",
              "      <td>0.872547</td>\n",
              "      <td>0.626649</td>\n",
              "      <td>0.377502</td>\n",
              "      <td>0.893643</td>\n",
              "      <td>0.154472</td>\n",
              "      <td>0.711825</td>\n",
              "      <td>0.287356</td>\n",
              "      <td>0.100000</td>\n",
              "      <td>0.765898</td>\n",
              "      <td>0.088353</td>\n",
              "      <td>0.867522</td>\n",
              "      <td>0.312396</td>\n",
              "      <td>0.403236</td>\n",
              "      <td>0.878848</td>\n",
              "      <td>0.148374</td>\n",
              "      <td>0.635036</td>\n",
              "      <td>0.357307</td>\n",
              "      <td>0.083333</td>\n",
              "      <td>0.751656</td>\n",
              "      <td>0.058233</td>\n",
              "      <td>0.859436</td>\n",
              "      <td>0.293867</td>\n",
              "      <td>0.297519</td>\n",
              "      <td>0.909636</td>\n",
              "      <td>0.136179</td>\n",
              "      <td>0.614891</td>\n",
              "      <td>0.392939</td>\n",
              "      <td>0.066667</td>\n",
              "      <td>0.739007</td>\n",
              "      <td>0.038153</td>\n",
              "      <td>0.854084</td>\n",
              "      <td>0.363307</td>\n",
              "      <td>0.489000</td>\n",
              "      <td>0.913635</td>\n",
              "      <td>0.117886</td>\n",
              "    </tr>\n",
              "    <tr>\n",
              "      <th>2018-04-01</th>\n",
              "      <td>0.066667</td>\n",
              "      <td>0.839251</td>\n",
              "      <td>0.096386</td>\n",
              "      <td>0.945622</td>\n",
              "      <td>0.917800</td>\n",
              "      <td>0.277176</td>\n",
              "      <td>0.378481</td>\n",
              "      <td>0.290314</td>\n",
              "      <td>0.528175</td>\n",
              "      <td>0.164634</td>\n",
              "      <td>0.631533</td>\n",
              "      <td>0.261248</td>\n",
              "      <td>0.166667</td>\n",
              "      <td>0.824312</td>\n",
              "      <td>0.100402</td>\n",
              "      <td>0.906594</td>\n",
              "      <td>0.239018</td>\n",
              "      <td>0.580363</td>\n",
              "      <td>0.938025</td>\n",
              "      <td>0.160569</td>\n",
              "      <td>0.738394</td>\n",
              "      <td>0.268637</td>\n",
              "      <td>0.166667</td>\n",
              "      <td>0.808525</td>\n",
              "      <td>0.090361</td>\n",
              "      <td>0.903878</td>\n",
              "      <td>0.269560</td>\n",
              "      <td>0.417075</td>\n",
              "      <td>0.942423</td>\n",
              "      <td>0.162602</td>\n",
              "      <td>0.864234</td>\n",
              "      <td>0.269458</td>\n",
              "      <td>0.166667</td>\n",
              "      <td>0.794682</td>\n",
              "      <td>0.092369</td>\n",
              "      <td>0.894465</td>\n",
              "      <td>0.234154</td>\n",
              "      <td>0.393375</td>\n",
              "      <td>0.910836</td>\n",
              "      <td>0.164634</td>\n",
              "      <td>0.788905</td>\n",
              "      <td>0.269294</td>\n",
              "      <td>0.116667</td>\n",
              "      <td>0.780140</td>\n",
              "      <td>0.096386</td>\n",
              "      <td>0.872547</td>\n",
              "      <td>0.626649</td>\n",
              "      <td>0.377502</td>\n",
              "      <td>0.893643</td>\n",
              "      <td>0.154472</td>\n",
              "      <td>0.711825</td>\n",
              "      <td>0.287356</td>\n",
              "      <td>0.100000</td>\n",
              "      <td>0.765898</td>\n",
              "      <td>0.088353</td>\n",
              "      <td>0.867522</td>\n",
              "      <td>0.312396</td>\n",
              "      <td>0.403236</td>\n",
              "      <td>0.878848</td>\n",
              "      <td>0.148374</td>\n",
              "      <td>0.635036</td>\n",
              "      <td>0.357307</td>\n",
              "      <td>0.083333</td>\n",
              "      <td>0.751656</td>\n",
              "      <td>0.058233</td>\n",
              "      <td>0.859436</td>\n",
              "      <td>0.293867</td>\n",
              "      <td>0.297519</td>\n",
              "      <td>0.909636</td>\n",
              "      <td>0.136179</td>\n",
              "    </tr>\n",
              "    <tr>\n",
              "      <th>2018-05-01</th>\n",
              "      <td>0.066667</td>\n",
              "      <td>0.854888</td>\n",
              "      <td>0.102410</td>\n",
              "      <td>0.947621</td>\n",
              "      <td>0.925663</td>\n",
              "      <td>0.285550</td>\n",
              "      <td>0.322108</td>\n",
              "      <td>0.241751</td>\n",
              "      <td>0.544526</td>\n",
              "      <td>0.168699</td>\n",
              "      <td>0.528175</td>\n",
              "      <td>0.277176</td>\n",
              "      <td>0.066667</td>\n",
              "      <td>0.839251</td>\n",
              "      <td>0.096386</td>\n",
              "      <td>0.917800</td>\n",
              "      <td>0.290314</td>\n",
              "      <td>0.378481</td>\n",
              "      <td>0.945622</td>\n",
              "      <td>0.164634</td>\n",
              "      <td>0.631533</td>\n",
              "      <td>0.261248</td>\n",
              "      <td>0.166667</td>\n",
              "      <td>0.824312</td>\n",
              "      <td>0.100402</td>\n",
              "      <td>0.906594</td>\n",
              "      <td>0.239018</td>\n",
              "      <td>0.580363</td>\n",
              "      <td>0.938025</td>\n",
              "      <td>0.160569</td>\n",
              "      <td>0.738394</td>\n",
              "      <td>0.268637</td>\n",
              "      <td>0.166667</td>\n",
              "      <td>0.808525</td>\n",
              "      <td>0.090361</td>\n",
              "      <td>0.903878</td>\n",
              "      <td>0.269560</td>\n",
              "      <td>0.417075</td>\n",
              "      <td>0.942423</td>\n",
              "      <td>0.162602</td>\n",
              "      <td>0.864234</td>\n",
              "      <td>0.269458</td>\n",
              "      <td>0.166667</td>\n",
              "      <td>0.794682</td>\n",
              "      <td>0.092369</td>\n",
              "      <td>0.894465</td>\n",
              "      <td>0.234154</td>\n",
              "      <td>0.393375</td>\n",
              "      <td>0.910836</td>\n",
              "      <td>0.164634</td>\n",
              "      <td>0.788905</td>\n",
              "      <td>0.269294</td>\n",
              "      <td>0.116667</td>\n",
              "      <td>0.780140</td>\n",
              "      <td>0.096386</td>\n",
              "      <td>0.872547</td>\n",
              "      <td>0.626649</td>\n",
              "      <td>0.377502</td>\n",
              "      <td>0.893643</td>\n",
              "      <td>0.154472</td>\n",
              "      <td>0.711825</td>\n",
              "      <td>0.287356</td>\n",
              "      <td>0.100000</td>\n",
              "      <td>0.765898</td>\n",
              "      <td>0.088353</td>\n",
              "      <td>0.867522</td>\n",
              "      <td>0.312396</td>\n",
              "      <td>0.403236</td>\n",
              "      <td>0.878848</td>\n",
              "      <td>0.148374</td>\n",
              "    </tr>\n",
              "    <tr>\n",
              "      <th>2018-06-01</th>\n",
              "      <td>0.083333</td>\n",
              "      <td>0.871769</td>\n",
              "      <td>0.106426</td>\n",
              "      <td>0.939224</td>\n",
              "      <td>0.934869</td>\n",
              "      <td>0.351888</td>\n",
              "      <td>0.301227</td>\n",
              "      <td>0.275039</td>\n",
              "      <td>0.591241</td>\n",
              "      <td>0.162602</td>\n",
              "      <td>0.544526</td>\n",
              "      <td>0.285550</td>\n",
              "      <td>0.066667</td>\n",
              "      <td>0.854888</td>\n",
              "      <td>0.102410</td>\n",
              "      <td>0.925663</td>\n",
              "      <td>0.241751</td>\n",
              "      <td>0.322108</td>\n",
              "      <td>0.947621</td>\n",
              "      <td>0.168699</td>\n",
              "      <td>0.528175</td>\n",
              "      <td>0.277176</td>\n",
              "      <td>0.066667</td>\n",
              "      <td>0.839251</td>\n",
              "      <td>0.096386</td>\n",
              "      <td>0.917800</td>\n",
              "      <td>0.290314</td>\n",
              "      <td>0.378481</td>\n",
              "      <td>0.945622</td>\n",
              "      <td>0.164634</td>\n",
              "      <td>0.631533</td>\n",
              "      <td>0.261248</td>\n",
              "      <td>0.166667</td>\n",
              "      <td>0.824312</td>\n",
              "      <td>0.100402</td>\n",
              "      <td>0.906594</td>\n",
              "      <td>0.239018</td>\n",
              "      <td>0.580363</td>\n",
              "      <td>0.938025</td>\n",
              "      <td>0.160569</td>\n",
              "      <td>0.738394</td>\n",
              "      <td>0.268637</td>\n",
              "      <td>0.166667</td>\n",
              "      <td>0.808525</td>\n",
              "      <td>0.090361</td>\n",
              "      <td>0.903878</td>\n",
              "      <td>0.269560</td>\n",
              "      <td>0.417075</td>\n",
              "      <td>0.942423</td>\n",
              "      <td>0.162602</td>\n",
              "      <td>0.864234</td>\n",
              "      <td>0.269458</td>\n",
              "      <td>0.166667</td>\n",
              "      <td>0.794682</td>\n",
              "      <td>0.092369</td>\n",
              "      <td>0.894465</td>\n",
              "      <td>0.234154</td>\n",
              "      <td>0.393375</td>\n",
              "      <td>0.910836</td>\n",
              "      <td>0.164634</td>\n",
              "      <td>0.788905</td>\n",
              "      <td>0.269294</td>\n",
              "      <td>0.116667</td>\n",
              "      <td>0.780140</td>\n",
              "      <td>0.096386</td>\n",
              "      <td>0.872547</td>\n",
              "      <td>0.626649</td>\n",
              "      <td>0.377502</td>\n",
              "      <td>0.893643</td>\n",
              "      <td>0.154472</td>\n",
              "    </tr>\n",
              "    <tr>\n",
              "      <th>2018-07-01</th>\n",
              "      <td>0.066667</td>\n",
              "      <td>0.890145</td>\n",
              "      <td>0.098394</td>\n",
              "      <td>0.931228</td>\n",
              "      <td>0.944465</td>\n",
              "      <td>0.343678</td>\n",
              "      <td>0.288173</td>\n",
              "      <td>0.362108</td>\n",
              "      <td>0.746277</td>\n",
              "      <td>0.158537</td>\n",
              "      <td>0.591241</td>\n",
              "      <td>0.351888</td>\n",
              "      <td>0.083333</td>\n",
              "      <td>0.871769</td>\n",
              "      <td>0.106426</td>\n",
              "      <td>0.934869</td>\n",
              "      <td>0.275039</td>\n",
              "      <td>0.301227</td>\n",
              "      <td>0.939224</td>\n",
              "      <td>0.162602</td>\n",
              "      <td>0.544526</td>\n",
              "      <td>0.285550</td>\n",
              "      <td>0.066667</td>\n",
              "      <td>0.854888</td>\n",
              "      <td>0.102410</td>\n",
              "      <td>0.925663</td>\n",
              "      <td>0.241751</td>\n",
              "      <td>0.322108</td>\n",
              "      <td>0.947621</td>\n",
              "      <td>0.168699</td>\n",
              "      <td>0.528175</td>\n",
              "      <td>0.277176</td>\n",
              "      <td>0.066667</td>\n",
              "      <td>0.839251</td>\n",
              "      <td>0.096386</td>\n",
              "      <td>0.917800</td>\n",
              "      <td>0.290314</td>\n",
              "      <td>0.378481</td>\n",
              "      <td>0.945622</td>\n",
              "      <td>0.164634</td>\n",
              "      <td>0.631533</td>\n",
              "      <td>0.261248</td>\n",
              "      <td>0.166667</td>\n",
              "      <td>0.824312</td>\n",
              "      <td>0.100402</td>\n",
              "      <td>0.906594</td>\n",
              "      <td>0.239018</td>\n",
              "      <td>0.580363</td>\n",
              "      <td>0.938025</td>\n",
              "      <td>0.160569</td>\n",
              "      <td>0.738394</td>\n",
              "      <td>0.268637</td>\n",
              "      <td>0.166667</td>\n",
              "      <td>0.808525</td>\n",
              "      <td>0.090361</td>\n",
              "      <td>0.903878</td>\n",
              "      <td>0.269560</td>\n",
              "      <td>0.417075</td>\n",
              "      <td>0.942423</td>\n",
              "      <td>0.162602</td>\n",
              "      <td>0.864234</td>\n",
              "      <td>0.269458</td>\n",
              "      <td>0.166667</td>\n",
              "      <td>0.794682</td>\n",
              "      <td>0.092369</td>\n",
              "      <td>0.894465</td>\n",
              "      <td>0.234154</td>\n",
              "      <td>0.393375</td>\n",
              "      <td>0.910836</td>\n",
              "      <td>0.164634</td>\n",
              "    </tr>\n",
              "    <tr>\n",
              "      <th>2018-08-01</th>\n",
              "      <td>0.100000</td>\n",
              "      <td>0.909417</td>\n",
              "      <td>0.096386</td>\n",
              "      <td>0.968013</td>\n",
              "      <td>0.955815</td>\n",
              "      <td>0.330706</td>\n",
              "      <td>0.333758</td>\n",
              "      <td>0.237900</td>\n",
              "      <td>1.000000</td>\n",
              "      <td>0.142276</td>\n",
              "      <td>0.746277</td>\n",
              "      <td>0.343678</td>\n",
              "      <td>0.066667</td>\n",
              "      <td>0.890145</td>\n",
              "      <td>0.098394</td>\n",
              "      <td>0.944465</td>\n",
              "      <td>0.362108</td>\n",
              "      <td>0.288173</td>\n",
              "      <td>0.931228</td>\n",
              "      <td>0.158537</td>\n",
              "      <td>0.591241</td>\n",
              "      <td>0.351888</td>\n",
              "      <td>0.083333</td>\n",
              "      <td>0.871769</td>\n",
              "      <td>0.106426</td>\n",
              "      <td>0.934869</td>\n",
              "      <td>0.275039</td>\n",
              "      <td>0.301227</td>\n",
              "      <td>0.939224</td>\n",
              "      <td>0.162602</td>\n",
              "      <td>0.544526</td>\n",
              "      <td>0.285550</td>\n",
              "      <td>0.066667</td>\n",
              "      <td>0.854888</td>\n",
              "      <td>0.102410</td>\n",
              "      <td>0.925663</td>\n",
              "      <td>0.241751</td>\n",
              "      <td>0.322108</td>\n",
              "      <td>0.947621</td>\n",
              "      <td>0.168699</td>\n",
              "      <td>0.528175</td>\n",
              "      <td>0.277176</td>\n",
              "      <td>0.066667</td>\n",
              "      <td>0.839251</td>\n",
              "      <td>0.096386</td>\n",
              "      <td>0.917800</td>\n",
              "      <td>0.290314</td>\n",
              "      <td>0.378481</td>\n",
              "      <td>0.945622</td>\n",
              "      <td>0.164634</td>\n",
              "      <td>0.631533</td>\n",
              "      <td>0.261248</td>\n",
              "      <td>0.166667</td>\n",
              "      <td>0.824312</td>\n",
              "      <td>0.100402</td>\n",
              "      <td>0.906594</td>\n",
              "      <td>0.239018</td>\n",
              "      <td>0.580363</td>\n",
              "      <td>0.938025</td>\n",
              "      <td>0.160569</td>\n",
              "      <td>0.738394</td>\n",
              "      <td>0.268637</td>\n",
              "      <td>0.166667</td>\n",
              "      <td>0.808525</td>\n",
              "      <td>0.090361</td>\n",
              "      <td>0.903878</td>\n",
              "      <td>0.269560</td>\n",
              "      <td>0.417075</td>\n",
              "      <td>0.942423</td>\n",
              "      <td>0.162602</td>\n",
              "    </tr>\n",
              "    <tr>\n",
              "      <th>2018-09-01</th>\n",
              "      <td>0.216667</td>\n",
              "      <td>0.929037</td>\n",
              "      <td>0.104418</td>\n",
              "      <td>1.000000</td>\n",
              "      <td>0.953480</td>\n",
              "      <td>0.337110</td>\n",
              "      <td>0.473564</td>\n",
              "      <td>0.188014</td>\n",
              "      <td>0.745985</td>\n",
              "      <td>0.128049</td>\n",
              "      <td>1.000000</td>\n",
              "      <td>0.330706</td>\n",
              "      <td>0.100000</td>\n",
              "      <td>0.909417</td>\n",
              "      <td>0.096386</td>\n",
              "      <td>0.955815</td>\n",
              "      <td>0.237900</td>\n",
              "      <td>0.333758</td>\n",
              "      <td>0.968013</td>\n",
              "      <td>0.142276</td>\n",
              "      <td>0.746277</td>\n",
              "      <td>0.343678</td>\n",
              "      <td>0.066667</td>\n",
              "      <td>0.890145</td>\n",
              "      <td>0.098394</td>\n",
              "      <td>0.944465</td>\n",
              "      <td>0.362108</td>\n",
              "      <td>0.288173</td>\n",
              "      <td>0.931228</td>\n",
              "      <td>0.158537</td>\n",
              "      <td>0.591241</td>\n",
              "      <td>0.351888</td>\n",
              "      <td>0.083333</td>\n",
              "      <td>0.871769</td>\n",
              "      <td>0.106426</td>\n",
              "      <td>0.934869</td>\n",
              "      <td>0.275039</td>\n",
              "      <td>0.301227</td>\n",
              "      <td>0.939224</td>\n",
              "      <td>0.162602</td>\n",
              "      <td>0.544526</td>\n",
              "      <td>0.285550</td>\n",
              "      <td>0.066667</td>\n",
              "      <td>0.854888</td>\n",
              "      <td>0.102410</td>\n",
              "      <td>0.925663</td>\n",
              "      <td>0.241751</td>\n",
              "      <td>0.322108</td>\n",
              "      <td>0.947621</td>\n",
              "      <td>0.168699</td>\n",
              "      <td>0.528175</td>\n",
              "      <td>0.277176</td>\n",
              "      <td>0.066667</td>\n",
              "      <td>0.839251</td>\n",
              "      <td>0.096386</td>\n",
              "      <td>0.917800</td>\n",
              "      <td>0.290314</td>\n",
              "      <td>0.378481</td>\n",
              "      <td>0.945622</td>\n",
              "      <td>0.164634</td>\n",
              "      <td>0.631533</td>\n",
              "      <td>0.261248</td>\n",
              "      <td>0.166667</td>\n",
              "      <td>0.824312</td>\n",
              "      <td>0.100402</td>\n",
              "      <td>0.906594</td>\n",
              "      <td>0.239018</td>\n",
              "      <td>0.580363</td>\n",
              "      <td>0.938025</td>\n",
              "      <td>0.160569</td>\n",
              "    </tr>\n",
              "    <tr>\n",
              "      <th>2018-10-01</th>\n",
              "      <td>0.166667</td>\n",
              "      <td>0.950102</td>\n",
              "      <td>0.120482</td>\n",
              "      <td>0.992403</td>\n",
              "      <td>0.969403</td>\n",
              "      <td>0.382923</td>\n",
              "      <td>0.612662</td>\n",
              "      <td>0.222868</td>\n",
              "      <td>0.515620</td>\n",
              "      <td>0.132114</td>\n",
              "      <td>0.745985</td>\n",
              "      <td>0.337110</td>\n",
              "      <td>0.216667</td>\n",
              "      <td>0.929037</td>\n",
              "      <td>0.104418</td>\n",
              "      <td>0.953480</td>\n",
              "      <td>0.188014</td>\n",
              "      <td>0.473564</td>\n",
              "      <td>1.000000</td>\n",
              "      <td>0.128049</td>\n",
              "      <td>1.000000</td>\n",
              "      <td>0.330706</td>\n",
              "      <td>0.100000</td>\n",
              "      <td>0.909417</td>\n",
              "      <td>0.096386</td>\n",
              "      <td>0.955815</td>\n",
              "      <td>0.237900</td>\n",
              "      <td>0.333758</td>\n",
              "      <td>0.968013</td>\n",
              "      <td>0.142276</td>\n",
              "      <td>0.746277</td>\n",
              "      <td>0.343678</td>\n",
              "      <td>0.066667</td>\n",
              "      <td>0.890145</td>\n",
              "      <td>0.098394</td>\n",
              "      <td>0.944465</td>\n",
              "      <td>0.362108</td>\n",
              "      <td>0.288173</td>\n",
              "      <td>0.931228</td>\n",
              "      <td>0.158537</td>\n",
              "      <td>0.591241</td>\n",
              "      <td>0.351888</td>\n",
              "      <td>0.083333</td>\n",
              "      <td>0.871769</td>\n",
              "      <td>0.106426</td>\n",
              "      <td>0.934869</td>\n",
              "      <td>0.275039</td>\n",
              "      <td>0.301227</td>\n",
              "      <td>0.939224</td>\n",
              "      <td>0.162602</td>\n",
              "      <td>0.544526</td>\n",
              "      <td>0.285550</td>\n",
              "      <td>0.066667</td>\n",
              "      <td>0.854888</td>\n",
              "      <td>0.102410</td>\n",
              "      <td>0.925663</td>\n",
              "      <td>0.241751</td>\n",
              "      <td>0.322108</td>\n",
              "      <td>0.947621</td>\n",
              "      <td>0.168699</td>\n",
              "      <td>0.528175</td>\n",
              "      <td>0.277176</td>\n",
              "      <td>0.066667</td>\n",
              "      <td>0.839251</td>\n",
              "      <td>0.096386</td>\n",
              "      <td>0.917800</td>\n",
              "      <td>0.290314</td>\n",
              "      <td>0.378481</td>\n",
              "      <td>0.945622</td>\n",
              "      <td>0.164634</td>\n",
              "    </tr>\n",
              "    <tr>\n",
              "      <th>2018-11-01</th>\n",
              "      <td>0.116667</td>\n",
              "      <td>0.969374</td>\n",
              "      <td>0.130522</td>\n",
              "      <td>0.962415</td>\n",
              "      <td>0.975869</td>\n",
              "      <td>0.352053</td>\n",
              "      <td>0.317911</td>\n",
              "      <td>0.272436</td>\n",
              "      <td>0.448467</td>\n",
              "      <td>0.126016</td>\n",
              "      <td>0.515620</td>\n",
              "      <td>0.382923</td>\n",
              "      <td>0.166667</td>\n",
              "      <td>0.950102</td>\n",
              "      <td>0.120482</td>\n",
              "      <td>0.969403</td>\n",
              "      <td>0.222868</td>\n",
              "      <td>0.612662</td>\n",
              "      <td>0.992403</td>\n",
              "      <td>0.132114</td>\n",
              "      <td>0.745985</td>\n",
              "      <td>0.337110</td>\n",
              "      <td>0.216667</td>\n",
              "      <td>0.929037</td>\n",
              "      <td>0.104418</td>\n",
              "      <td>0.953480</td>\n",
              "      <td>0.188014</td>\n",
              "      <td>0.473564</td>\n",
              "      <td>1.000000</td>\n",
              "      <td>0.128049</td>\n",
              "      <td>1.000000</td>\n",
              "      <td>0.330706</td>\n",
              "      <td>0.100000</td>\n",
              "      <td>0.909417</td>\n",
              "      <td>0.096386</td>\n",
              "      <td>0.955815</td>\n",
              "      <td>0.237900</td>\n",
              "      <td>0.333758</td>\n",
              "      <td>0.968013</td>\n",
              "      <td>0.142276</td>\n",
              "      <td>0.746277</td>\n",
              "      <td>0.343678</td>\n",
              "      <td>0.066667</td>\n",
              "      <td>0.890145</td>\n",
              "      <td>0.098394</td>\n",
              "      <td>0.944465</td>\n",
              "      <td>0.362108</td>\n",
              "      <td>0.288173</td>\n",
              "      <td>0.931228</td>\n",
              "      <td>0.158537</td>\n",
              "      <td>0.591241</td>\n",
              "      <td>0.351888</td>\n",
              "      <td>0.083333</td>\n",
              "      <td>0.871769</td>\n",
              "      <td>0.106426</td>\n",
              "      <td>0.934869</td>\n",
              "      <td>0.275039</td>\n",
              "      <td>0.301227</td>\n",
              "      <td>0.939224</td>\n",
              "      <td>0.162602</td>\n",
              "      <td>0.544526</td>\n",
              "      <td>0.285550</td>\n",
              "      <td>0.066667</td>\n",
              "      <td>0.854888</td>\n",
              "      <td>0.102410</td>\n",
              "      <td>0.925663</td>\n",
              "      <td>0.241751</td>\n",
              "      <td>0.322108</td>\n",
              "      <td>0.947621</td>\n",
              "      <td>0.168699</td>\n",
              "    </tr>\n",
              "    <tr>\n",
              "      <th>2018-12-01</th>\n",
              "      <td>0.066667</td>\n",
              "      <td>0.985309</td>\n",
              "      <td>0.150602</td>\n",
              "      <td>0.948021</td>\n",
              "      <td>0.980976</td>\n",
              "      <td>0.345977</td>\n",
              "      <td>0.213906</td>\n",
              "      <td>0.608934</td>\n",
              "      <td>0.432993</td>\n",
              "      <td>0.107724</td>\n",
              "      <td>0.448467</td>\n",
              "      <td>0.352053</td>\n",
              "      <td>0.116667</td>\n",
              "      <td>0.969374</td>\n",
              "      <td>0.130522</td>\n",
              "      <td>0.975869</td>\n",
              "      <td>0.272436</td>\n",
              "      <td>0.317911</td>\n",
              "      <td>0.962415</td>\n",
              "      <td>0.126016</td>\n",
              "      <td>0.515620</td>\n",
              "      <td>0.382923</td>\n",
              "      <td>0.166667</td>\n",
              "      <td>0.950102</td>\n",
              "      <td>0.120482</td>\n",
              "      <td>0.969403</td>\n",
              "      <td>0.222868</td>\n",
              "      <td>0.612662</td>\n",
              "      <td>0.992403</td>\n",
              "      <td>0.132114</td>\n",
              "      <td>0.745985</td>\n",
              "      <td>0.337110</td>\n",
              "      <td>0.216667</td>\n",
              "      <td>0.929037</td>\n",
              "      <td>0.104418</td>\n",
              "      <td>0.953480</td>\n",
              "      <td>0.188014</td>\n",
              "      <td>0.473564</td>\n",
              "      <td>1.000000</td>\n",
              "      <td>0.128049</td>\n",
              "      <td>1.000000</td>\n",
              "      <td>0.330706</td>\n",
              "      <td>0.100000</td>\n",
              "      <td>0.909417</td>\n",
              "      <td>0.096386</td>\n",
              "      <td>0.955815</td>\n",
              "      <td>0.237900</td>\n",
              "      <td>0.333758</td>\n",
              "      <td>0.968013</td>\n",
              "      <td>0.142276</td>\n",
              "      <td>0.746277</td>\n",
              "      <td>0.343678</td>\n",
              "      <td>0.066667</td>\n",
              "      <td>0.890145</td>\n",
              "      <td>0.098394</td>\n",
              "      <td>0.944465</td>\n",
              "      <td>0.362108</td>\n",
              "      <td>0.288173</td>\n",
              "      <td>0.931228</td>\n",
              "      <td>0.158537</td>\n",
              "      <td>0.591241</td>\n",
              "      <td>0.351888</td>\n",
              "      <td>0.083333</td>\n",
              "      <td>0.871769</td>\n",
              "      <td>0.106426</td>\n",
              "      <td>0.934869</td>\n",
              "      <td>0.275039</td>\n",
              "      <td>0.301227</td>\n",
              "      <td>0.939224</td>\n",
              "      <td>0.162602</td>\n",
              "    </tr>\n",
              "    <tr>\n",
              "      <th>2019-01-01</th>\n",
              "      <td>0.150000</td>\n",
              "      <td>1.000000</td>\n",
              "      <td>0.142570</td>\n",
              "      <td>0.943623</td>\n",
              "      <td>1.000000</td>\n",
              "      <td>0.344499</td>\n",
              "      <td>0.184567</td>\n",
              "      <td>0.198915</td>\n",
              "      <td>0.405547</td>\n",
              "      <td>0.093496</td>\n",
              "      <td>0.432993</td>\n",
              "      <td>0.345977</td>\n",
              "      <td>0.066667</td>\n",
              "      <td>0.985309</td>\n",
              "      <td>0.150602</td>\n",
              "      <td>0.980976</td>\n",
              "      <td>0.608934</td>\n",
              "      <td>0.213906</td>\n",
              "      <td>0.948021</td>\n",
              "      <td>0.107724</td>\n",
              "      <td>0.448467</td>\n",
              "      <td>0.352053</td>\n",
              "      <td>0.116667</td>\n",
              "      <td>0.969374</td>\n",
              "      <td>0.130522</td>\n",
              "      <td>0.975869</td>\n",
              "      <td>0.272436</td>\n",
              "      <td>0.317911</td>\n",
              "      <td>0.962415</td>\n",
              "      <td>0.126016</td>\n",
              "      <td>0.515620</td>\n",
              "      <td>0.382923</td>\n",
              "      <td>0.166667</td>\n",
              "      <td>0.950102</td>\n",
              "      <td>0.120482</td>\n",
              "      <td>0.969403</td>\n",
              "      <td>0.222868</td>\n",
              "      <td>0.612662</td>\n",
              "      <td>0.992403</td>\n",
              "      <td>0.132114</td>\n",
              "      <td>0.745985</td>\n",
              "      <td>0.337110</td>\n",
              "      <td>0.216667</td>\n",
              "      <td>0.929037</td>\n",
              "      <td>0.104418</td>\n",
              "      <td>0.953480</td>\n",
              "      <td>0.188014</td>\n",
              "      <td>0.473564</td>\n",
              "      <td>1.000000</td>\n",
              "      <td>0.128049</td>\n",
              "      <td>1.000000</td>\n",
              "      <td>0.330706</td>\n",
              "      <td>0.100000</td>\n",
              "      <td>0.909417</td>\n",
              "      <td>0.096386</td>\n",
              "      <td>0.955815</td>\n",
              "      <td>0.237900</td>\n",
              "      <td>0.333758</td>\n",
              "      <td>0.968013</td>\n",
              "      <td>0.142276</td>\n",
              "      <td>0.746277</td>\n",
              "      <td>0.343678</td>\n",
              "      <td>0.066667</td>\n",
              "      <td>0.890145</td>\n",
              "      <td>0.098394</td>\n",
              "      <td>0.944465</td>\n",
              "      <td>0.362108</td>\n",
              "      <td>0.288173</td>\n",
              "      <td>0.931228</td>\n",
              "      <td>0.158537</td>\n",
              "    </tr>\n",
              "  </tbody>\n",
              "</table>\n",
              "</div>"
            ],
            "text/plain": [
              "            월별_google_trend    전국지가지수  ...  월별_소비자물가지수_6  주택담보대출금리_6\n",
              "DATE                                   ...                          \n",
              "2018-01-01         0.166667  0.794682  ...      0.885246    0.126016\n",
              "2018-02-01         0.166667  0.808525  ...      0.908836    0.126016\n",
              "2018-03-01         0.166667  0.824312  ...      0.913635    0.117886\n",
              "2018-04-01         0.066667  0.839251  ...      0.909636    0.136179\n",
              "2018-05-01         0.066667  0.854888  ...      0.878848    0.148374\n",
              "2018-06-01         0.083333  0.871769  ...      0.893643    0.154472\n",
              "2018-07-01         0.066667  0.890145  ...      0.910836    0.164634\n",
              "2018-08-01         0.100000  0.909417  ...      0.942423    0.162602\n",
              "2018-09-01         0.216667  0.929037  ...      0.938025    0.160569\n",
              "2018-10-01         0.166667  0.950102  ...      0.945622    0.164634\n",
              "2018-11-01         0.116667  0.969374  ...      0.947621    0.168699\n",
              "2018-12-01         0.066667  0.985309  ...      0.939224    0.162602\n",
              "2019-01-01         0.150000  1.000000  ...      0.931228    0.158537\n",
              "\n",
              "[13 rows x 70 columns]"
            ]
          },
          "metadata": {
            "tags": []
          },
          "execution_count": 234
        }
      ]
    },
    {
      "cell_type": "code",
      "metadata": {
        "colab": {
          "base_uri": "https://localhost:8080/",
          "height": 429
        },
        "id": "2vEJ9Bj4N52U",
        "outputId": "fc691116-f31c-4463-a5a5-8d3ac545f9e9"
      },
      "source": [
        "X_train = train_sc_df.dropna().drop('전국_아파트매매가격', axis=1)\n",
        "# y_train = train_sc_df.dropna()[['전국_아파트매매가격']]\n",
        "X_train = X_train.dropna().drop('월별_환율', axis=1)\n",
        "#y_train = train_sc_df.dropna()[['월별_환율']]\n",
        "X_train = X_train.dropna().drop('월별_google_trend', axis=1)\n",
        "#y_train = train_sc_df.dropna()[['월별_google_trend']]\n",
        "X_train = X_train.dropna().drop('전국지가지수', axis=1)\n",
        "#y_train = train_sc_df.dropna()[['전국지가지수']]\n",
        "X_train = X_train.dropna().drop('월별_정기예금금리', axis=1)\n",
        "#y_train = train_sc_df.dropna()[['월별_정기예금금리']]\n",
        "X_train = X_train.dropna().drop('월별_소비자물가지수', axis=1)\n",
        "#y_train = train_sc_df.dropna()[['월별_소비자물가지수']]\n",
        "X_train = X_train.dropna().drop('월별_통화량(M2(평잔, 계절조정계열))', axis=1)\n",
        "#y_train = train_sc_df.dropna()[['월별_통화량(M2(평잔, 계절조정계열))']]\n",
        "X_train = X_train.dropna().drop('월별 아파트 매매현황(동호수)전국', axis=1)\n",
        "#y_train = train_sc_df.dropna()[['월별 아파트 매매현황(동호수)전국']]\n",
        "X_train = X_train.dropna().drop('주택인허가실적(전국)', axis=1)\n",
        "\n",
        "X_train = X_train.dropna().drop('주택담보대출금리', axis=1)\n",
        "\n",
        "X_test = test_sc_df.dropna().drop('전국_아파트매매가격', axis=1)\n",
        "# # y_test = test_sc_df.dropna()[['전국_아파트매매가격']]\n",
        "X_test = X_test.dropna().drop('월별_환율', axis=1)\n",
        "# #y_test = test_sc_df.dropna()[['월별_환율']]\n",
        "X_test = X_test.dropna().drop('월별_google_trend', axis=1)\n",
        "# #y_test = test_sc_df.dropna()[['월별_google_trend']]\n",
        "X_test = X_test.dropna().drop('전국지가지수', axis=1)\n",
        "# #y_test = test_sc_df.dropna()[['전국지가지수']]\n",
        "X_test = X_test.dropna().drop('월별_정기예금금리', axis=1)\n",
        "# #y_test = test_sc_df.dropna()[['월별_정기예금금리']]\n",
        "X_test = X_test.dropna().drop('월별_소비자물가지수', axis=1)\n",
        "# #y_test = test_sc_df.dropna()[['월별_소비자물가지수']]\n",
        "X_test = X_test.dropna().drop('월별_통화량(M2(평잔, 계절조정계열))', axis=1)\n",
        "# #y_test = test_sc_df.dropna()[['월별_통화량(M2(평잔, 계절조정계열))']]\n",
        "X_test = X_test.dropna().drop('월별 아파트 매매현황(동호수)전국', axis=1)\n",
        "# #y_test = test_sc_df.dropna()[['월별 아파트 매매현황(동호수)전국']]\n",
        "X_test = X_test.dropna().drop('주택인허가실적(전국)', axis=1)\n",
        "\n",
        "X_test = X_test.dropna().drop('주택담보대출금리', axis=1)\n",
        "\n",
        "\n",
        "# X_train = train_sc_df.dropna().drop('전국_아파트매매가격', axis=1)\n",
        "y_train = train_sc_df.dropna()[['전국_아파트매매가격']]\n",
        "y_test = test_sc_df.dropna()[['전국_아파트매매가격']]\n",
        "X_train.tail(5)"
      ],
      "execution_count": null,
      "outputs": [
        {
          "output_type": "execute_result",
          "data": {
            "text/html": [
              "<div>\n",
              "<style scoped>\n",
              "    .dataframe tbody tr th:only-of-type {\n",
              "        vertical-align: middle;\n",
              "    }\n",
              "\n",
              "    .dataframe tbody tr th {\n",
              "        vertical-align: top;\n",
              "    }\n",
              "\n",
              "    .dataframe thead th {\n",
              "        text-align: right;\n",
              "    }\n",
              "</style>\n",
              "<table border=\"1\" class=\"dataframe\">\n",
              "  <thead>\n",
              "    <tr style=\"text-align: right;\">\n",
              "      <th></th>\n",
              "      <th>전국_아파트매매가격_1</th>\n",
              "      <th>월별_환율_1</th>\n",
              "      <th>월별_google_trend_1</th>\n",
              "      <th>전국지가지수_1</th>\n",
              "      <th>월별_정기예금금리_1</th>\n",
              "      <th>월별_통화량(M2(평잔, 계절조정계열))_1</th>\n",
              "      <th>월별 아파트 매매현황(동호수)전국_1</th>\n",
              "      <th>주택인허가실적(전국)_1</th>\n",
              "      <th>월별_소비자물가지수_1</th>\n",
              "      <th>주택담보대출금리_1</th>\n",
              "      <th>전국_아파트매매가격_2</th>\n",
              "      <th>월별_환율_2</th>\n",
              "      <th>월별_google_trend_2</th>\n",
              "      <th>전국지가지수_2</th>\n",
              "      <th>월별_정기예금금리_2</th>\n",
              "      <th>월별_통화량(M2(평잔, 계절조정계열))_2</th>\n",
              "      <th>월별 아파트 매매현황(동호수)전국_2</th>\n",
              "      <th>주택인허가실적(전국)_2</th>\n",
              "      <th>월별_소비자물가지수_2</th>\n",
              "      <th>주택담보대출금리_2</th>\n",
              "      <th>전국_아파트매매가격_3</th>\n",
              "      <th>월별_환율_3</th>\n",
              "      <th>월별_google_trend_3</th>\n",
              "      <th>전국지가지수_3</th>\n",
              "      <th>월별_정기예금금리_3</th>\n",
              "      <th>월별_통화량(M2(평잔, 계절조정계열))_3</th>\n",
              "      <th>월별 아파트 매매현황(동호수)전국_3</th>\n",
              "      <th>주택인허가실적(전국)_3</th>\n",
              "      <th>월별_소비자물가지수_3</th>\n",
              "      <th>주택담보대출금리_3</th>\n",
              "      <th>전국_아파트매매가격_4</th>\n",
              "      <th>월별_환율_4</th>\n",
              "      <th>월별_google_trend_4</th>\n",
              "      <th>전국지가지수_4</th>\n",
              "      <th>월별_정기예금금리_4</th>\n",
              "      <th>월별_통화량(M2(평잔, 계절조정계열))_4</th>\n",
              "      <th>월별 아파트 매매현황(동호수)전국_4</th>\n",
              "      <th>주택인허가실적(전국)_4</th>\n",
              "      <th>월별_소비자물가지수_4</th>\n",
              "      <th>주택담보대출금리_4</th>\n",
              "      <th>전국_아파트매매가격_5</th>\n",
              "      <th>월별_환율_5</th>\n",
              "      <th>월별_google_trend_5</th>\n",
              "      <th>전국지가지수_5</th>\n",
              "      <th>월별_정기예금금리_5</th>\n",
              "      <th>월별_통화량(M2(평잔, 계절조정계열))_5</th>\n",
              "      <th>월별 아파트 매매현황(동호수)전국_5</th>\n",
              "      <th>주택인허가실적(전국)_5</th>\n",
              "      <th>월별_소비자물가지수_5</th>\n",
              "      <th>주택담보대출금리_5</th>\n",
              "      <th>전국_아파트매매가격_6</th>\n",
              "      <th>월별_환율_6</th>\n",
              "      <th>월별_google_trend_6</th>\n",
              "      <th>전국지가지수_6</th>\n",
              "      <th>월별_정기예금금리_6</th>\n",
              "      <th>월별_통화량(M2(평잔, 계절조정계열))_6</th>\n",
              "      <th>월별 아파트 매매현황(동호수)전국_6</th>\n",
              "      <th>주택인허가실적(전국)_6</th>\n",
              "      <th>월별_소비자물가지수_6</th>\n",
              "      <th>주택담보대출금리_6</th>\n",
              "    </tr>\n",
              "    <tr>\n",
              "      <th>DATE</th>\n",
              "      <th></th>\n",
              "      <th></th>\n",
              "      <th></th>\n",
              "      <th></th>\n",
              "      <th></th>\n",
              "      <th></th>\n",
              "      <th></th>\n",
              "      <th></th>\n",
              "      <th></th>\n",
              "      <th></th>\n",
              "      <th></th>\n",
              "      <th></th>\n",
              "      <th></th>\n",
              "      <th></th>\n",
              "      <th></th>\n",
              "      <th></th>\n",
              "      <th></th>\n",
              "      <th></th>\n",
              "      <th></th>\n",
              "      <th></th>\n",
              "      <th></th>\n",
              "      <th></th>\n",
              "      <th></th>\n",
              "      <th></th>\n",
              "      <th></th>\n",
              "      <th></th>\n",
              "      <th></th>\n",
              "      <th></th>\n",
              "      <th></th>\n",
              "      <th></th>\n",
              "      <th></th>\n",
              "      <th></th>\n",
              "      <th></th>\n",
              "      <th></th>\n",
              "      <th></th>\n",
              "      <th></th>\n",
              "      <th></th>\n",
              "      <th></th>\n",
              "      <th></th>\n",
              "      <th></th>\n",
              "      <th></th>\n",
              "      <th></th>\n",
              "      <th></th>\n",
              "      <th></th>\n",
              "      <th></th>\n",
              "      <th></th>\n",
              "      <th></th>\n",
              "      <th></th>\n",
              "      <th></th>\n",
              "      <th></th>\n",
              "      <th></th>\n",
              "      <th></th>\n",
              "      <th></th>\n",
              "      <th></th>\n",
              "      <th></th>\n",
              "      <th></th>\n",
              "      <th></th>\n",
              "      <th></th>\n",
              "      <th></th>\n",
              "      <th></th>\n",
              "    </tr>\n",
              "  </thead>\n",
              "  <tbody>\n",
              "    <tr>\n",
              "      <th>2018-09-01</th>\n",
              "      <td>1.000000</td>\n",
              "      <td>0.330706</td>\n",
              "      <td>0.100000</td>\n",
              "      <td>0.909417</td>\n",
              "      <td>0.096386</td>\n",
              "      <td>0.955815</td>\n",
              "      <td>0.237900</td>\n",
              "      <td>0.333758</td>\n",
              "      <td>0.968013</td>\n",
              "      <td>0.142276</td>\n",
              "      <td>0.746277</td>\n",
              "      <td>0.343678</td>\n",
              "      <td>0.066667</td>\n",
              "      <td>0.890145</td>\n",
              "      <td>0.098394</td>\n",
              "      <td>0.944465</td>\n",
              "      <td>0.362108</td>\n",
              "      <td>0.288173</td>\n",
              "      <td>0.931228</td>\n",
              "      <td>0.158537</td>\n",
              "      <td>0.591241</td>\n",
              "      <td>0.351888</td>\n",
              "      <td>0.083333</td>\n",
              "      <td>0.871769</td>\n",
              "      <td>0.106426</td>\n",
              "      <td>0.934869</td>\n",
              "      <td>0.275039</td>\n",
              "      <td>0.301227</td>\n",
              "      <td>0.939224</td>\n",
              "      <td>0.162602</td>\n",
              "      <td>0.544526</td>\n",
              "      <td>0.285550</td>\n",
              "      <td>0.066667</td>\n",
              "      <td>0.854888</td>\n",
              "      <td>0.102410</td>\n",
              "      <td>0.925663</td>\n",
              "      <td>0.241751</td>\n",
              "      <td>0.322108</td>\n",
              "      <td>0.947621</td>\n",
              "      <td>0.168699</td>\n",
              "      <td>0.528175</td>\n",
              "      <td>0.277176</td>\n",
              "      <td>0.066667</td>\n",
              "      <td>0.839251</td>\n",
              "      <td>0.096386</td>\n",
              "      <td>0.917800</td>\n",
              "      <td>0.290314</td>\n",
              "      <td>0.378481</td>\n",
              "      <td>0.945622</td>\n",
              "      <td>0.164634</td>\n",
              "      <td>0.631533</td>\n",
              "      <td>0.261248</td>\n",
              "      <td>0.166667</td>\n",
              "      <td>0.824312</td>\n",
              "      <td>0.100402</td>\n",
              "      <td>0.906594</td>\n",
              "      <td>0.239018</td>\n",
              "      <td>0.580363</td>\n",
              "      <td>0.938025</td>\n",
              "      <td>0.160569</td>\n",
              "    </tr>\n",
              "    <tr>\n",
              "      <th>2018-10-01</th>\n",
              "      <td>0.745985</td>\n",
              "      <td>0.337110</td>\n",
              "      <td>0.216667</td>\n",
              "      <td>0.929037</td>\n",
              "      <td>0.104418</td>\n",
              "      <td>0.953480</td>\n",
              "      <td>0.188014</td>\n",
              "      <td>0.473564</td>\n",
              "      <td>1.000000</td>\n",
              "      <td>0.128049</td>\n",
              "      <td>1.000000</td>\n",
              "      <td>0.330706</td>\n",
              "      <td>0.100000</td>\n",
              "      <td>0.909417</td>\n",
              "      <td>0.096386</td>\n",
              "      <td>0.955815</td>\n",
              "      <td>0.237900</td>\n",
              "      <td>0.333758</td>\n",
              "      <td>0.968013</td>\n",
              "      <td>0.142276</td>\n",
              "      <td>0.746277</td>\n",
              "      <td>0.343678</td>\n",
              "      <td>0.066667</td>\n",
              "      <td>0.890145</td>\n",
              "      <td>0.098394</td>\n",
              "      <td>0.944465</td>\n",
              "      <td>0.362108</td>\n",
              "      <td>0.288173</td>\n",
              "      <td>0.931228</td>\n",
              "      <td>0.158537</td>\n",
              "      <td>0.591241</td>\n",
              "      <td>0.351888</td>\n",
              "      <td>0.083333</td>\n",
              "      <td>0.871769</td>\n",
              "      <td>0.106426</td>\n",
              "      <td>0.934869</td>\n",
              "      <td>0.275039</td>\n",
              "      <td>0.301227</td>\n",
              "      <td>0.939224</td>\n",
              "      <td>0.162602</td>\n",
              "      <td>0.544526</td>\n",
              "      <td>0.285550</td>\n",
              "      <td>0.066667</td>\n",
              "      <td>0.854888</td>\n",
              "      <td>0.102410</td>\n",
              "      <td>0.925663</td>\n",
              "      <td>0.241751</td>\n",
              "      <td>0.322108</td>\n",
              "      <td>0.947621</td>\n",
              "      <td>0.168699</td>\n",
              "      <td>0.528175</td>\n",
              "      <td>0.277176</td>\n",
              "      <td>0.066667</td>\n",
              "      <td>0.839251</td>\n",
              "      <td>0.096386</td>\n",
              "      <td>0.917800</td>\n",
              "      <td>0.290314</td>\n",
              "      <td>0.378481</td>\n",
              "      <td>0.945622</td>\n",
              "      <td>0.164634</td>\n",
              "    </tr>\n",
              "    <tr>\n",
              "      <th>2018-11-01</th>\n",
              "      <td>0.515620</td>\n",
              "      <td>0.382923</td>\n",
              "      <td>0.166667</td>\n",
              "      <td>0.950102</td>\n",
              "      <td>0.120482</td>\n",
              "      <td>0.969403</td>\n",
              "      <td>0.222868</td>\n",
              "      <td>0.612662</td>\n",
              "      <td>0.992403</td>\n",
              "      <td>0.132114</td>\n",
              "      <td>0.745985</td>\n",
              "      <td>0.337110</td>\n",
              "      <td>0.216667</td>\n",
              "      <td>0.929037</td>\n",
              "      <td>0.104418</td>\n",
              "      <td>0.953480</td>\n",
              "      <td>0.188014</td>\n",
              "      <td>0.473564</td>\n",
              "      <td>1.000000</td>\n",
              "      <td>0.128049</td>\n",
              "      <td>1.000000</td>\n",
              "      <td>0.330706</td>\n",
              "      <td>0.100000</td>\n",
              "      <td>0.909417</td>\n",
              "      <td>0.096386</td>\n",
              "      <td>0.955815</td>\n",
              "      <td>0.237900</td>\n",
              "      <td>0.333758</td>\n",
              "      <td>0.968013</td>\n",
              "      <td>0.142276</td>\n",
              "      <td>0.746277</td>\n",
              "      <td>0.343678</td>\n",
              "      <td>0.066667</td>\n",
              "      <td>0.890145</td>\n",
              "      <td>0.098394</td>\n",
              "      <td>0.944465</td>\n",
              "      <td>0.362108</td>\n",
              "      <td>0.288173</td>\n",
              "      <td>0.931228</td>\n",
              "      <td>0.158537</td>\n",
              "      <td>0.591241</td>\n",
              "      <td>0.351888</td>\n",
              "      <td>0.083333</td>\n",
              "      <td>0.871769</td>\n",
              "      <td>0.106426</td>\n",
              "      <td>0.934869</td>\n",
              "      <td>0.275039</td>\n",
              "      <td>0.301227</td>\n",
              "      <td>0.939224</td>\n",
              "      <td>0.162602</td>\n",
              "      <td>0.544526</td>\n",
              "      <td>0.285550</td>\n",
              "      <td>0.066667</td>\n",
              "      <td>0.854888</td>\n",
              "      <td>0.102410</td>\n",
              "      <td>0.925663</td>\n",
              "      <td>0.241751</td>\n",
              "      <td>0.322108</td>\n",
              "      <td>0.947621</td>\n",
              "      <td>0.168699</td>\n",
              "    </tr>\n",
              "    <tr>\n",
              "      <th>2018-12-01</th>\n",
              "      <td>0.448467</td>\n",
              "      <td>0.352053</td>\n",
              "      <td>0.116667</td>\n",
              "      <td>0.969374</td>\n",
              "      <td>0.130522</td>\n",
              "      <td>0.975869</td>\n",
              "      <td>0.272436</td>\n",
              "      <td>0.317911</td>\n",
              "      <td>0.962415</td>\n",
              "      <td>0.126016</td>\n",
              "      <td>0.515620</td>\n",
              "      <td>0.382923</td>\n",
              "      <td>0.166667</td>\n",
              "      <td>0.950102</td>\n",
              "      <td>0.120482</td>\n",
              "      <td>0.969403</td>\n",
              "      <td>0.222868</td>\n",
              "      <td>0.612662</td>\n",
              "      <td>0.992403</td>\n",
              "      <td>0.132114</td>\n",
              "      <td>0.745985</td>\n",
              "      <td>0.337110</td>\n",
              "      <td>0.216667</td>\n",
              "      <td>0.929037</td>\n",
              "      <td>0.104418</td>\n",
              "      <td>0.953480</td>\n",
              "      <td>0.188014</td>\n",
              "      <td>0.473564</td>\n",
              "      <td>1.000000</td>\n",
              "      <td>0.128049</td>\n",
              "      <td>1.000000</td>\n",
              "      <td>0.330706</td>\n",
              "      <td>0.100000</td>\n",
              "      <td>0.909417</td>\n",
              "      <td>0.096386</td>\n",
              "      <td>0.955815</td>\n",
              "      <td>0.237900</td>\n",
              "      <td>0.333758</td>\n",
              "      <td>0.968013</td>\n",
              "      <td>0.142276</td>\n",
              "      <td>0.746277</td>\n",
              "      <td>0.343678</td>\n",
              "      <td>0.066667</td>\n",
              "      <td>0.890145</td>\n",
              "      <td>0.098394</td>\n",
              "      <td>0.944465</td>\n",
              "      <td>0.362108</td>\n",
              "      <td>0.288173</td>\n",
              "      <td>0.931228</td>\n",
              "      <td>0.158537</td>\n",
              "      <td>0.591241</td>\n",
              "      <td>0.351888</td>\n",
              "      <td>0.083333</td>\n",
              "      <td>0.871769</td>\n",
              "      <td>0.106426</td>\n",
              "      <td>0.934869</td>\n",
              "      <td>0.275039</td>\n",
              "      <td>0.301227</td>\n",
              "      <td>0.939224</td>\n",
              "      <td>0.162602</td>\n",
              "    </tr>\n",
              "    <tr>\n",
              "      <th>2019-01-01</th>\n",
              "      <td>0.432993</td>\n",
              "      <td>0.345977</td>\n",
              "      <td>0.066667</td>\n",
              "      <td>0.985309</td>\n",
              "      <td>0.150602</td>\n",
              "      <td>0.980976</td>\n",
              "      <td>0.608934</td>\n",
              "      <td>0.213906</td>\n",
              "      <td>0.948021</td>\n",
              "      <td>0.107724</td>\n",
              "      <td>0.448467</td>\n",
              "      <td>0.352053</td>\n",
              "      <td>0.116667</td>\n",
              "      <td>0.969374</td>\n",
              "      <td>0.130522</td>\n",
              "      <td>0.975869</td>\n",
              "      <td>0.272436</td>\n",
              "      <td>0.317911</td>\n",
              "      <td>0.962415</td>\n",
              "      <td>0.126016</td>\n",
              "      <td>0.515620</td>\n",
              "      <td>0.382923</td>\n",
              "      <td>0.166667</td>\n",
              "      <td>0.950102</td>\n",
              "      <td>0.120482</td>\n",
              "      <td>0.969403</td>\n",
              "      <td>0.222868</td>\n",
              "      <td>0.612662</td>\n",
              "      <td>0.992403</td>\n",
              "      <td>0.132114</td>\n",
              "      <td>0.745985</td>\n",
              "      <td>0.337110</td>\n",
              "      <td>0.216667</td>\n",
              "      <td>0.929037</td>\n",
              "      <td>0.104418</td>\n",
              "      <td>0.953480</td>\n",
              "      <td>0.188014</td>\n",
              "      <td>0.473564</td>\n",
              "      <td>1.000000</td>\n",
              "      <td>0.128049</td>\n",
              "      <td>1.000000</td>\n",
              "      <td>0.330706</td>\n",
              "      <td>0.100000</td>\n",
              "      <td>0.909417</td>\n",
              "      <td>0.096386</td>\n",
              "      <td>0.955815</td>\n",
              "      <td>0.237900</td>\n",
              "      <td>0.333758</td>\n",
              "      <td>0.968013</td>\n",
              "      <td>0.142276</td>\n",
              "      <td>0.746277</td>\n",
              "      <td>0.343678</td>\n",
              "      <td>0.066667</td>\n",
              "      <td>0.890145</td>\n",
              "      <td>0.098394</td>\n",
              "      <td>0.944465</td>\n",
              "      <td>0.362108</td>\n",
              "      <td>0.288173</td>\n",
              "      <td>0.931228</td>\n",
              "      <td>0.158537</td>\n",
              "    </tr>\n",
              "  </tbody>\n",
              "</table>\n",
              "</div>"
            ],
            "text/plain": [
              "            전국_아파트매매가격_1   월별_환율_1  ...  월별_소비자물가지수_6  주택담보대출금리_6\n",
              "DATE                                ...                          \n",
              "2018-09-01      1.000000  0.330706  ...      0.938025    0.160569\n",
              "2018-10-01      0.745985  0.337110  ...      0.945622    0.164634\n",
              "2018-11-01      0.515620  0.382923  ...      0.947621    0.168699\n",
              "2018-12-01      0.448467  0.352053  ...      0.939224    0.162602\n",
              "2019-01-01      0.432993  0.345977  ...      0.931228    0.158537\n",
              "\n",
              "[5 rows x 60 columns]"
            ]
          },
          "metadata": {
            "tags": []
          },
          "execution_count": 235
        }
      ]
    },
    {
      "cell_type": "code",
      "metadata": {
        "colab": {
          "base_uri": "https://localhost:8080/"
        },
        "id": "MV88j51mPjgo",
        "outputId": "70f14b30-5aac-4a8b-a501-8e267c40e738"
      },
      "source": [
        "print(type(X_train))\n",
        "X_train = X_train.values\n",
        "print(type(X_train))\n",
        "X_test= X_test.values\n",
        "\n",
        "y_train = y_train.values\n",
        "y_test = y_test.values\n",
        "print(X_train.shape)\n",
        "print(y_train.shape)\n",
        "\n",
        "\n",
        "print(X_test.shape)\n",
        "print(y_test.shape)"
      ],
      "execution_count": null,
      "outputs": [
        {
          "output_type": "stream",
          "text": [
            "<class 'pandas.core.frame.DataFrame'>\n",
            "<class 'numpy.ndarray'>\n",
            "(139, 60)\n",
            "(139, 1)\n",
            "(22, 60)\n",
            "(22, 1)\n"
          ],
          "name": "stdout"
        }
      ]
    },
    {
      "cell_type": "code",
      "metadata": {
        "colab": {
          "base_uri": "https://localhost:8080/"
        },
        "id": "q4tA240LPrt0",
        "outputId": "a2dec69c-bd55-4732-f53d-6e36a9fdcd99"
      },
      "source": [
        "X_train_t = X_train.reshape(X_train.shape[0], X_train.shape[1], 1)\n",
        "X_test_t = X_test.reshape(X_test.shape[0], X_test.shape[1], 1)\n",
        "\n",
        "print(\"최종 DATA\")\n",
        "print(X_train_t.shape)\n",
        "print(X_test_t.shape)"
      ],
      "execution_count": null,
      "outputs": [
        {
          "output_type": "stream",
          "text": [
            "최종 DATA\n",
            "(139, 60, 1)\n",
            "(22, 60, 1)\n"
          ],
          "name": "stdout"
        }
      ]
    },
    {
      "cell_type": "code",
      "metadata": {
        "colab": {
          "base_uri": "https://localhost:8080/"
        },
        "id": "jp1g72a_QYKt",
        "outputId": "13c74065-af48-4038-f503-f8bde1ec80a3"
      },
      "source": [
        "# from sklearn.model_selection import train_test_split\n",
        "\n",
        "# x_train, x_valid, y_train, y_valid = train_test_split(X_train_t, y_train, test_size=0.2)\n",
        "\n",
        "# x_train.shape, x_valid.shape"
      ],
      "execution_count": null,
      "outputs": [
        {
          "output_type": "execute_result",
          "data": {
            "text/plain": [
              "((111, 54, 1), (28, 54, 1))"
            ]
          },
          "metadata": {
            "tags": []
          },
          "execution_count": 129
        }
      ]
    },
    {
      "cell_type": "markdown",
      "metadata": {
        "id": "rf3SXu4o_qEO"
      },
      "source": [
        "### 모델링"
      ]
    },
    {
      "cell_type": "code",
      "metadata": {
        "colab": {
          "base_uri": "https://localhost:8080/"
        },
        "id": "9JAHflk_Prya",
        "outputId": "deae1f59-3a5e-4e1d-bfaa-f35ed297d1d7"
      },
      "source": [
        "from keras.models import Sequential\n",
        "from keras.layers import Dense\n",
        "from keras.callbacks import EarlyStopping, ModelCheckpoint\n",
        "from keras.layers import LSTM\n",
        "\n",
        "model2 = Sequential()\n",
        "model2.add(LSTM(30, \n",
        "               input_shape=(X_train_t.shape[1], 1), \n",
        "               activation='relu', \n",
        "               return_sequences=False)\n",
        "          )\n",
        "model2.add(Dense(1))\n",
        "model2.compile(loss='mean_squared_error', optimizer='adam') \n",
        "model2.summary()"
      ],
      "execution_count": null,
      "outputs": [
        {
          "output_type": "stream",
          "text": [
            "Model: \"sequential_31\"\n",
            "_________________________________________________________________\n",
            "Layer (type)                 Output Shape              Param #   \n",
            "=================================================================\n",
            "lstm_30 (LSTM)               (None, 30)                3840      \n",
            "_________________________________________________________________\n",
            "dense_34 (Dense)             (None, 1)                 31        \n",
            "=================================================================\n",
            "Total params: 3,871\n",
            "Trainable params: 3,871\n",
            "Non-trainable params: 0\n",
            "_________________________________________________________________\n"
          ],
          "name": "stdout"
        }
      ]
    },
    {
      "cell_type": "code",
      "metadata": {
        "colab": {
          "base_uri": "https://localhost:8080/"
        },
        "id": "wuSzUrH1Pr2f",
        "outputId": "f2e91ee3-68c6-4020-dd34-0824f7b8b081"
      },
      "source": [
        "import os\n",
        "cur_dir = os.getcwd()\n",
        "model2.compile(loss='mean_squared_error', optimizer='adam')\n",
        "early_stop = EarlyStopping(monitor='val_loss', patience=200)\n",
        "\n",
        "filename = os.path.join(cur_dir, 'tmp_checkpoint.h5')\n",
        "\n",
        "checkpoint = ModelCheckpoint(filename, monitor='val_loss', verbose=1, save_best_only=True, mode='auto')\n",
        "\n",
        "history = model2.fit(X_train_t, y_train, \n",
        "                    epochs=150, \n",
        "                    batch_size=50)\n",
        "                    # validation_data=(x_valid, y_valid),\n",
        "                    # callbacks=[early_stop, checkpoint])"
      ],
      "execution_count": null,
      "outputs": [
        {
          "output_type": "stream",
          "text": [
            "Epoch 1/150\n",
            "14/14 [==============================] - 2s 19ms/step - loss: 0.0174\n",
            "Epoch 2/150\n",
            "14/14 [==============================] - 0s 21ms/step - loss: 0.0227\n",
            "Epoch 3/150\n",
            "14/14 [==============================] - 0s 20ms/step - loss: 0.0109\n",
            "Epoch 4/150\n",
            "14/14 [==============================] - 0s 20ms/step - loss: 0.0108\n",
            "Epoch 5/150\n",
            "14/14 [==============================] - 0s 20ms/step - loss: 0.0130\n",
            "Epoch 6/150\n",
            "14/14 [==============================] - 0s 19ms/step - loss: 0.0096\n",
            "Epoch 7/150\n",
            "14/14 [==============================] - 0s 19ms/step - loss: 0.0100\n",
            "Epoch 8/150\n",
            "14/14 [==============================] - 0s 20ms/step - loss: 0.0090\n",
            "Epoch 9/150\n",
            "14/14 [==============================] - 0s 19ms/step - loss: 0.0132\n",
            "Epoch 10/150\n",
            "14/14 [==============================] - 0s 19ms/step - loss: 0.0114\n",
            "Epoch 11/150\n",
            "14/14 [==============================] - 0s 20ms/step - loss: 0.0099\n",
            "Epoch 12/150\n",
            "14/14 [==============================] - 0s 20ms/step - loss: 0.0141\n",
            "Epoch 13/150\n",
            "14/14 [==============================] - 0s 20ms/step - loss: 0.0102\n",
            "Epoch 14/150\n",
            "14/14 [==============================] - 0s 20ms/step - loss: 0.0098\n",
            "Epoch 15/150\n",
            "14/14 [==============================] - 0s 19ms/step - loss: 0.0101\n",
            "Epoch 16/150\n",
            "14/14 [==============================] - 0s 19ms/step - loss: 0.0113\n",
            "Epoch 17/150\n",
            "14/14 [==============================] - 0s 20ms/step - loss: 0.0108\n",
            "Epoch 18/150\n",
            "14/14 [==============================] - 0s 20ms/step - loss: 0.0103\n",
            "Epoch 19/150\n",
            "14/14 [==============================] - 0s 20ms/step - loss: 0.0109\n",
            "Epoch 20/150\n",
            "14/14 [==============================] - 0s 19ms/step - loss: 0.0085\n",
            "Epoch 21/150\n",
            "14/14 [==============================] - 0s 20ms/step - loss: 0.0103\n",
            "Epoch 22/150\n",
            "14/14 [==============================] - 0s 22ms/step - loss: 0.0084\n",
            "Epoch 23/150\n",
            "14/14 [==============================] - 0s 19ms/step - loss: 0.0085\n",
            "Epoch 24/150\n",
            "14/14 [==============================] - 0s 20ms/step - loss: 0.0098\n",
            "Epoch 25/150\n",
            "14/14 [==============================] - 0s 21ms/step - loss: 0.0099\n",
            "Epoch 26/150\n",
            "14/14 [==============================] - 0s 21ms/step - loss: 0.0104\n",
            "Epoch 27/150\n",
            "14/14 [==============================] - 0s 19ms/step - loss: 0.0091\n",
            "Epoch 28/150\n",
            "14/14 [==============================] - 0s 20ms/step - loss: 0.0088\n",
            "Epoch 29/150\n",
            "14/14 [==============================] - 0s 20ms/step - loss: 0.0109\n",
            "Epoch 30/150\n",
            "14/14 [==============================] - 0s 21ms/step - loss: 0.0097\n",
            "Epoch 31/150\n",
            "14/14 [==============================] - 0s 19ms/step - loss: 0.0111\n",
            "Epoch 32/150\n",
            "14/14 [==============================] - 0s 19ms/step - loss: 0.0080\n",
            "Epoch 33/150\n",
            "14/14 [==============================] - 0s 21ms/step - loss: 0.0074\n",
            "Epoch 34/150\n",
            "14/14 [==============================] - 0s 20ms/step - loss: 0.0092\n",
            "Epoch 35/150\n",
            "14/14 [==============================] - 0s 21ms/step - loss: 0.0088\n",
            "Epoch 36/150\n",
            "14/14 [==============================] - 0s 20ms/step - loss: 0.0094\n",
            "Epoch 37/150\n",
            "14/14 [==============================] - 0s 21ms/step - loss: 0.0069\n",
            "Epoch 38/150\n",
            "14/14 [==============================] - 0s 19ms/step - loss: 0.0075\n",
            "Epoch 39/150\n",
            "14/14 [==============================] - 0s 20ms/step - loss: 0.0091\n",
            "Epoch 40/150\n",
            "14/14 [==============================] - 0s 20ms/step - loss: 0.0101\n",
            "Epoch 41/150\n",
            "14/14 [==============================] - 0s 19ms/step - loss: 0.0129\n",
            "Epoch 42/150\n",
            "14/14 [==============================] - 0s 19ms/step - loss: 0.0112\n",
            "Epoch 43/150\n",
            "14/14 [==============================] - 0s 20ms/step - loss: 0.0085\n",
            "Epoch 44/150\n",
            "14/14 [==============================] - 0s 20ms/step - loss: 0.0081\n",
            "Epoch 45/150\n",
            "14/14 [==============================] - 0s 19ms/step - loss: 0.0071\n",
            "Epoch 46/150\n",
            "14/14 [==============================] - 0s 20ms/step - loss: 0.0071\n",
            "Epoch 47/150\n",
            "14/14 [==============================] - 0s 19ms/step - loss: 0.0069\n",
            "Epoch 48/150\n",
            "14/14 [==============================] - 0s 20ms/step - loss: 0.0087\n",
            "Epoch 49/150\n",
            "14/14 [==============================] - 0s 19ms/step - loss: 0.0071\n",
            "Epoch 50/150\n",
            "14/14 [==============================] - 0s 19ms/step - loss: 0.0060\n",
            "Epoch 51/150\n",
            "14/14 [==============================] - 0s 20ms/step - loss: 0.0077\n",
            "Epoch 52/150\n",
            "14/14 [==============================] - 0s 20ms/step - loss: 0.0074\n",
            "Epoch 53/150\n",
            "14/14 [==============================] - 0s 20ms/step - loss: 0.0078\n",
            "Epoch 54/150\n",
            "14/14 [==============================] - 0s 19ms/step - loss: 0.0070\n",
            "Epoch 55/150\n",
            "14/14 [==============================] - 0s 21ms/step - loss: 0.0074\n",
            "Epoch 56/150\n",
            "14/14 [==============================] - 0s 19ms/step - loss: 0.0067\n",
            "Epoch 57/150\n",
            "14/14 [==============================] - 0s 20ms/step - loss: 0.0072\n",
            "Epoch 58/150\n",
            "14/14 [==============================] - 0s 20ms/step - loss: 0.0065\n",
            "Epoch 59/150\n",
            "14/14 [==============================] - 0s 19ms/step - loss: 0.0068\n",
            "Epoch 60/150\n",
            "14/14 [==============================] - 0s 20ms/step - loss: 0.0058\n",
            "Epoch 61/150\n",
            "14/14 [==============================] - 0s 19ms/step - loss: 0.0082\n",
            "Epoch 62/150\n",
            "14/14 [==============================] - 0s 20ms/step - loss: 0.0059\n",
            "Epoch 63/150\n",
            "14/14 [==============================] - 0s 20ms/step - loss: 0.0062\n",
            "Epoch 64/150\n",
            "14/14 [==============================] - 0s 20ms/step - loss: 0.0086\n",
            "Epoch 65/150\n",
            "14/14 [==============================] - 0s 20ms/step - loss: 0.0084\n",
            "Epoch 66/150\n",
            "14/14 [==============================] - 0s 21ms/step - loss: 0.0071\n",
            "Epoch 67/150\n",
            "14/14 [==============================] - 0s 21ms/step - loss: 0.0066\n",
            "Epoch 68/150\n",
            "14/14 [==============================] - 0s 19ms/step - loss: 0.0068\n",
            "Epoch 69/150\n",
            "14/14 [==============================] - 0s 20ms/step - loss: 0.0057\n",
            "Epoch 70/150\n",
            "14/14 [==============================] - 0s 19ms/step - loss: 0.0072\n",
            "Epoch 71/150\n",
            "14/14 [==============================] - 0s 20ms/step - loss: 0.0058\n",
            "Epoch 72/150\n",
            "14/14 [==============================] - 0s 19ms/step - loss: 0.0070\n",
            "Epoch 73/150\n",
            "14/14 [==============================] - 0s 19ms/step - loss: 0.0049\n",
            "Epoch 74/150\n",
            "14/14 [==============================] - 0s 20ms/step - loss: 0.0083\n",
            "Epoch 75/150\n",
            "14/14 [==============================] - 0s 19ms/step - loss: 0.0092\n",
            "Epoch 76/150\n",
            "14/14 [==============================] - 0s 19ms/step - loss: 0.0133\n",
            "Epoch 77/150\n",
            "14/14 [==============================] - 0s 19ms/step - loss: 0.0064\n",
            "Epoch 78/150\n",
            "14/14 [==============================] - 0s 20ms/step - loss: 0.0114\n",
            "Epoch 79/150\n",
            "14/14 [==============================] - 0s 19ms/step - loss: 0.0086\n",
            "Epoch 80/150\n",
            "14/14 [==============================] - 0s 20ms/step - loss: 0.0061\n",
            "Epoch 81/150\n",
            "14/14 [==============================] - 0s 20ms/step - loss: 0.0086\n",
            "Epoch 82/150\n",
            "14/14 [==============================] - 0s 20ms/step - loss: 0.0066\n",
            "Epoch 83/150\n",
            "14/14 [==============================] - 0s 19ms/step - loss: 0.0060\n",
            "Epoch 84/150\n",
            "14/14 [==============================] - 0s 20ms/step - loss: 0.0065\n",
            "Epoch 85/150\n",
            "14/14 [==============================] - 0s 19ms/step - loss: 0.0057\n",
            "Epoch 86/150\n",
            "14/14 [==============================] - 0s 20ms/step - loss: 0.0056\n",
            "Epoch 87/150\n",
            "14/14 [==============================] - 0s 20ms/step - loss: 0.0056\n",
            "Epoch 88/150\n",
            "14/14 [==============================] - 0s 20ms/step - loss: 0.0057\n",
            "Epoch 89/150\n",
            "14/14 [==============================] - 0s 20ms/step - loss: 0.0056\n",
            "Epoch 90/150\n",
            "14/14 [==============================] - 0s 19ms/step - loss: 0.0052\n",
            "Epoch 91/150\n",
            "14/14 [==============================] - 0s 21ms/step - loss: 0.0069\n",
            "Epoch 92/150\n",
            "14/14 [==============================] - 0s 19ms/step - loss: 0.0051\n",
            "Epoch 93/150\n",
            "14/14 [==============================] - 0s 19ms/step - loss: 0.0055\n",
            "Epoch 94/150\n",
            "14/14 [==============================] - 0s 19ms/step - loss: 0.0055\n",
            "Epoch 95/150\n",
            "14/14 [==============================] - 0s 19ms/step - loss: 0.0054\n",
            "Epoch 96/150\n",
            "14/14 [==============================] - 0s 21ms/step - loss: 0.0058\n",
            "Epoch 97/150\n",
            "14/14 [==============================] - 0s 19ms/step - loss: 0.0058\n",
            "Epoch 98/150\n",
            "14/14 [==============================] - 0s 20ms/step - loss: 0.0074\n",
            "Epoch 99/150\n",
            "14/14 [==============================] - 0s 20ms/step - loss: 0.0071\n",
            "Epoch 100/150\n",
            "14/14 [==============================] - 0s 20ms/step - loss: 0.0053\n",
            "Epoch 101/150\n",
            "14/14 [==============================] - 0s 19ms/step - loss: 0.0065\n",
            "Epoch 102/150\n",
            "14/14 [==============================] - 0s 20ms/step - loss: 0.0040\n",
            "Epoch 103/150\n",
            "14/14 [==============================] - 0s 20ms/step - loss: 0.0067\n",
            "Epoch 104/150\n",
            "14/14 [==============================] - 0s 21ms/step - loss: 0.0062\n",
            "Epoch 105/150\n",
            "14/14 [==============================] - 0s 20ms/step - loss: 0.0052\n",
            "Epoch 106/150\n",
            "14/14 [==============================] - 0s 20ms/step - loss: 0.0063\n",
            "Epoch 107/150\n",
            "14/14 [==============================] - 0s 20ms/step - loss: 0.0055\n",
            "Epoch 108/150\n",
            "14/14 [==============================] - 0s 19ms/step - loss: 0.0066\n",
            "Epoch 109/150\n",
            "14/14 [==============================] - 0s 21ms/step - loss: 0.0064\n",
            "Epoch 110/150\n",
            "14/14 [==============================] - 0s 21ms/step - loss: 0.0058\n",
            "Epoch 111/150\n",
            "14/14 [==============================] - 0s 20ms/step - loss: 0.0057\n",
            "Epoch 112/150\n",
            "14/14 [==============================] - 0s 21ms/step - loss: 0.0045\n",
            "Epoch 113/150\n",
            "14/14 [==============================] - 0s 20ms/step - loss: 0.0050\n",
            "Epoch 114/150\n",
            "14/14 [==============================] - 0s 21ms/step - loss: 0.0049\n",
            "Epoch 115/150\n",
            "14/14 [==============================] - 0s 20ms/step - loss: 0.0056\n",
            "Epoch 116/150\n",
            "14/14 [==============================] - 0s 21ms/step - loss: 0.0042\n",
            "Epoch 117/150\n",
            "14/14 [==============================] - 0s 21ms/step - loss: 0.0043\n",
            "Epoch 118/150\n",
            "14/14 [==============================] - 0s 20ms/step - loss: 0.0050\n",
            "Epoch 119/150\n",
            "14/14 [==============================] - 0s 21ms/step - loss: 0.0052\n",
            "Epoch 120/150\n",
            "14/14 [==============================] - 0s 20ms/step - loss: 0.0056\n",
            "Epoch 121/150\n",
            "14/14 [==============================] - 0s 21ms/step - loss: 0.0046\n",
            "Epoch 122/150\n",
            "14/14 [==============================] - 0s 20ms/step - loss: 0.0072\n",
            "Epoch 123/150\n",
            "14/14 [==============================] - 0s 21ms/step - loss: 0.0049\n",
            "Epoch 124/150\n",
            "14/14 [==============================] - 0s 21ms/step - loss: 0.0078\n",
            "Epoch 125/150\n",
            "14/14 [==============================] - 0s 20ms/step - loss: 0.0052\n",
            "Epoch 126/150\n",
            "14/14 [==============================] - 0s 20ms/step - loss: 0.0044\n",
            "Epoch 127/150\n",
            "14/14 [==============================] - 0s 20ms/step - loss: 0.0069\n",
            "Epoch 128/150\n",
            "14/14 [==============================] - 0s 20ms/step - loss: 0.0062\n",
            "Epoch 129/150\n",
            "14/14 [==============================] - 0s 19ms/step - loss: 0.0051\n",
            "Epoch 130/150\n",
            "14/14 [==============================] - 0s 20ms/step - loss: 0.0061\n",
            "Epoch 131/150\n",
            "14/14 [==============================] - 0s 22ms/step - loss: 0.0085\n",
            "Epoch 132/150\n",
            "14/14 [==============================] - 0s 22ms/step - loss: 0.0075\n",
            "Epoch 133/150\n",
            "14/14 [==============================] - 0s 20ms/step - loss: 0.0053\n",
            "Epoch 134/150\n",
            "14/14 [==============================] - 0s 21ms/step - loss: 0.0053\n",
            "Epoch 135/150\n",
            "14/14 [==============================] - 0s 20ms/step - loss: 0.0055\n",
            "Epoch 136/150\n",
            "14/14 [==============================] - 0s 19ms/step - loss: 0.0075\n",
            "Epoch 137/150\n",
            "14/14 [==============================] - 0s 20ms/step - loss: 0.0056\n",
            "Epoch 138/150\n",
            "14/14 [==============================] - 0s 20ms/step - loss: 0.0055\n",
            "Epoch 139/150\n",
            "14/14 [==============================] - 0s 20ms/step - loss: 0.0049\n",
            "Epoch 140/150\n",
            "14/14 [==============================] - 0s 23ms/step - loss: 0.0065\n",
            "Epoch 141/150\n",
            "14/14 [==============================] - 0s 20ms/step - loss: 0.0083\n",
            "Epoch 142/150\n",
            "14/14 [==============================] - 0s 20ms/step - loss: 0.0078\n",
            "Epoch 143/150\n",
            "14/14 [==============================] - 0s 20ms/step - loss: 0.0079\n",
            "Epoch 144/150\n",
            "14/14 [==============================] - 0s 20ms/step - loss: 0.0077\n",
            "Epoch 145/150\n",
            "14/14 [==============================] - 0s 20ms/step - loss: 0.0072\n",
            "Epoch 146/150\n",
            "14/14 [==============================] - 0s 20ms/step - loss: 0.0073\n",
            "Epoch 147/150\n",
            "14/14 [==============================] - 0s 21ms/step - loss: 0.0069\n",
            "Epoch 148/150\n",
            "14/14 [==============================] - 0s 20ms/step - loss: 0.0065\n",
            "Epoch 149/150\n",
            "14/14 [==============================] - 0s 20ms/step - loss: 0.0067\n",
            "Epoch 150/150\n",
            "14/14 [==============================] - 0s 21ms/step - loss: 0.0067\n"
          ],
          "name": "stdout"
        }
      ]
    },
    {
      "cell_type": "code",
      "metadata": {
        "colab": {
          "base_uri": "https://localhost:8080/",
          "height": 537
        },
        "id": "Qw2felgtTHeC",
        "outputId": "04feb107-d225-4b2d-d8bc-49d9bf82d674"
      },
      "source": [
        "#model2.load_weights(filename)\n",
        "\n",
        "plt.figure(figsize=(12, 9))\n",
        "y_hat = model2.predict(X_test_t)\n",
        "\n",
        "#a = pd.DataFrame(test_label,index =test_label.index)\n",
        "#b = pd.DataFrame(pred,index =test_label.index)\n",
        "plt.plot(y_test, label='actual')\n",
        "plt.plot(y_hat, label='prediction')\n",
        "plt.legend()\n",
        "plt.show()"
      ],
      "execution_count": null,
      "outputs": [
        {
          "output_type": "display_data",
          "data": {
            "image/png": "[encoded data removed]",
            "text/plain": [
              "<Figure size 864x648 with 1 Axes>"
            ]
          },
          "metadata": {
            "tags": [],
            "needs_background": "light"
          }
        }
      ]
    },
    {
      "cell_type": "markdown",
      "metadata": {
        "id": "TwZIBXOI_jgB"
      },
      "source": [
        "### 예측결과 시각화"
      ]
    },
    {
      "cell_type": "code",
      "metadata": {
        "colab": {
          "base_uri": "https://localhost:8080/",
          "height": 537
        },
        "id": "UkfT9VBOPr6f",
        "outputId": "cd87f2a1-4465-4658-99fd-33e0cb7f0776"
      },
      "source": [
        "#model2.load_weights(filename)\n",
        "y_hat = model2.predict(X_test_t, batch_size=1)\n",
        "\n",
        "\n",
        "a_axis = np.arange(0, len(y_train))\n",
        "b_axis = np.arange(len(y_train), len(y_train) + len(y_hat))\n",
        "\n",
        "plt.figure(figsize=(12,9))\n",
        "plt.plot(a_axis, y_train.reshape(y_train.shape[0],), 'o-')\n",
        "plt.plot(b_axis, y_hat.reshape(y_hat.shape[0],), 'o-', color='red', alpha=2.0, label='Predicted')\n",
        "plt.plot(b_axis, y_test.reshape(y_test.shape[0],), 'o-', color='green', alpha=1.0, label='Actual')\n",
        "plt.legend()\n",
        "plt.show()"
      ],
      "execution_count": null,
      "outputs": [
        {
          "output_type": "display_data",
          "data": {
            "image/png": "[encoded data removed]",
            "text/plain": [
              "<Figure size 864x648 with 1 Axes>"
            ]
          },
          "metadata": {
            "tags": [],
            "needs_background": "light"
          }
        }
      ]
    },
    {
      "cell_type": "markdown",
      "metadata": {
        "id": "13m7Yrc8-uq8"
      },
      "source": [
        "\n",
        "\n",
        "---\n",
        "\n"
      ]
    },
    {
      "cell_type": "markdown",
      "metadata": {
        "id": "WbDSpNtG-u6q"
      },
      "source": [
        "\n",
        "\n",
        "---\n",
        "\n"
      ]
    },
    {
      "cell_type": "markdown",
      "metadata": {
        "id": "Wi4bHEZA-yTp"
      },
      "source": [
        ""
      ]
    },
    {
      "cell_type": "code",
      "metadata": {
        "id": "EeBEIPC4c7n-"
      },
      "source": [
        "y_hat"
      ],
      "execution_count": null,
      "outputs": []
    },
    {
      "cell_type": "code",
      "metadata": {
        "colab": {
          "base_uri": "https://localhost:8080/"
        },
        "id": "tri99PEdPr-s",
        "outputId": "16c4549e-3be0-4145-db05-7a44aa1ad587"
      },
      "source": [
        "score = model2.evaluate(X_test_t, y_test, batch_size=30)\n",
        "score"
      ],
      "execution_count": null,
      "outputs": [
        {
          "output_type": "stream",
          "text": [
            "1/1 [==============================] - 1s 669ms/step - loss: 0.0203\n"
          ],
          "name": "stdout"
        },
        {
          "output_type": "execute_result",
          "data": {
            "text/plain": [
              "0.020318888127803802"
            ]
          },
          "metadata": {
            "tags": []
          },
          "execution_count": 252
        }
      ]
    },
    {
      "cell_type": "code",
      "metadata": {
        "colab": {
          "base_uri": "https://localhost:8080/"
        },
        "id": "wNRmFuv-Tbip",
        "outputId": "91b3ad3c-066c-4bd1-e8ca-1496378d0639"
      },
      "source": [
        "score**0.5"
      ],
      "execution_count": null,
      "outputs": [
        {
          "output_type": "execute_result",
          "data": {
            "text/plain": [
              "0.1425443374105187"
            ]
          },
          "metadata": {
            "tags": []
          },
          "execution_count": 253
        }
      ]
    }
  ]
}